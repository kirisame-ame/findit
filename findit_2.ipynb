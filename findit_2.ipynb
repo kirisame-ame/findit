{
 "cells": [
  {
   "cell_type": "code",
   "execution_count": 7,
   "metadata": {
    "execution": {
     "iopub.execute_input": "2025-04-12T02:43:31.813609Z",
     "iopub.status.busy": "2025-04-12T02:43:31.813444Z",
     "iopub.status.idle": "2025-04-12T02:43:36.682727Z",
     "shell.execute_reply": "2025-04-12T02:43:36.681942Z",
     "shell.execute_reply.started": "2025-04-12T02:43:31.813591Z"
    },
    "trusted": true
   },
   "outputs": [
    {
     "name": "stdout",
     "output_type": "stream",
     "text": [
      "Memuat dataset...\n",
      "Train shape: (7000, 16)\n",
      "Test shape: (3000, 17)\n",
      "Target shape: (7000, 1)\n",
      "Submission shape: (3000, 2)\n",
      "\n",
      "Distribusi target:\n",
      "coppaRisk\n",
      "False    6304\n",
      "True      696\n",
      "Name: count, dtype: int64\n",
      "coppaRisk\n",
      "False    90.1\n",
      "True      9.9\n",
      "Name: proportion, dtype: float64\n"
     ]
    }
   ],
   "source": [
    "# Import library yang diperlukan\n",
    "import pandas as pd\n",
    "import numpy as np\n",
    "from sklearn.model_selection import train_test_split, StratifiedKFold\n",
    "from sklearn.metrics import accuracy_score, roc_auc_score, classification_report\n",
    "import lightgbm as lgb\n",
    "import xgboost as xgb\n",
    "import warnings\n",
    "import os\n",
    "warnings.filterwarnings('ignore')\n",
    "DATA_DIR = os.path.join(os.getcwd(), 'dataset')\n",
    "OUTPUT_DIR = os.path.join(os.getcwd(), 'output')\n",
    "if not os.path.exists(OUTPUT_DIR):\n",
    "    os.makedirs(OUTPUT_DIR)\n",
    "\n",
    "# Muat dataset\n",
    "print(\"Memuat dataset...\")\n",
    "train_df = pd.read_csv(os.path.join(DATA_DIR, 'train.csv'))\n",
    "test_df = pd.read_csv(os.path.join(DATA_DIR, 'test.csv'))\n",
    "target_df = pd.read_csv(os.path.join(DATA_DIR, 'target.csv'))\n",
    "submission_format = pd.read_csv(os.path.join(DATA_DIR, 'submission_format.csv'))\n",
    "\n",
    "print(f\"Train shape: {train_df.shape}\")\n",
    "print(f\"Test shape: {test_df.shape}\")\n",
    "print(f\"Target shape: {target_df.shape}\")\n",
    "print(f\"Submission shape: {submission_format.shape}\")\n",
    "\n",
    "# Melihat distribusi target\n",
    "print(\"\\nDistribusi target:\")\n",
    "print(target_df['coppaRisk'].value_counts())\n",
    "print(target_df['coppaRisk'].value_counts(normalize=True).round(3) * 100)\n",
    "\n",
    "# Simpan ID test\n",
    "test_ids = test_df['ID'].values\n",
    "\n",
    "# Konversi target ke numerik\n",
    "y = target_df['coppaRisk'].map({True: 1, False: 0})\n"
   ]
  },
  {
   "cell_type": "code",
   "execution_count": 8,
   "metadata": {
    "execution": {
     "iopub.execute_input": "2025-04-09T12:27:05.726104Z",
     "iopub.status.busy": "2025-04-09T12:27:05.725734Z",
     "iopub.status.idle": "2025-04-09T12:27:05.813295Z",
     "shell.execute_reply": "2025-04-09T12:27:05.812314Z",
     "shell.execute_reply.started": "2025-04-09T12:27:05.726078Z"
    },
    "trusted": true
   },
   "outputs": [
    {
     "name": "stdout",
     "output_type": "stream",
     "text": [
      "\n",
      "Preprocessing data...\n",
      "Processed train shape: (7000, 364)\n",
      "Processed test shape: (3000, 364)\n"
     ]
    }
   ],
   "source": [
    "# Fungsi untuk preprocessing data\n",
    "def preprocess_data(df, is_test=False):\n",
    "    # Buat salinan df\n",
    "    df_processed = df.copy()\n",
    "    \n",
    "    # Hapus kolom ID jika ada\n",
    "    if 'ID' in df_processed.columns:\n",
    "        df_processed = df_processed.drop('ID', axis=1)\n",
    "    \n",
    "    # Identifikasi tipe kolom\n",
    "    cat_cols = df_processed.select_dtypes(include=['object']).columns\n",
    "    num_cols = df_processed.select_dtypes(include=['int64', 'float64']).columns\n",
    "    \n",
    "    # One-hot encoding untuk kolom kategorikal\n",
    "    df_encoded = pd.get_dummies(df_processed, columns=cat_cols, dummy_na=True)\n",
    "    \n",
    "    # Isi nilai yang hilang pada kolom numerik\n",
    "    for col in num_cols:\n",
    "        df_encoded[col] = df_encoded[col].fillna(df_encoded[col].median())\n",
    "    \n",
    "    return df_encoded\n",
    "\n",
    "# Preprocessing\n",
    "print(\"\\nPreprocessing data...\")\n",
    "X_processed = preprocess_data(train_df)\n",
    "X_test_processed = preprocess_data(test_df, is_test=True)\n",
    "\n",
    "\n",
    "# Selaraskan kolom-kolom\n",
    "train_cols = set(X_processed.columns)\n",
    "test_cols = set(X_test_processed.columns)\n",
    "\n",
    "# Tambahkan kolom yang ada di test tapi tidak di train\n",
    "for col in test_cols - train_cols:\n",
    "    X_processed[col] = 0\n",
    "\n",
    "# Tambahkan kolom yang ada di train tapi tidak di test\n",
    "for col in train_cols - test_cols:\n",
    "    X_test_processed[col] = 0\n",
    "\n",
    "# Pastikan urutan kolom sama\n",
    "common_cols = sorted(list(set(X_processed.columns) & set(X_test_processed.columns)))\n",
    "X_processed = X_processed[common_cols]\n",
    "X_test_processed = X_test_processed[common_cols]\n",
    "X_processed.columns = X_processed.columns.str.replace(r'[{}\"\\':,]', '_', regex=True)\n",
    "X_test_processed.columns = X_test_processed.columns.str.replace(r'[{}\"\\':,]', '_', regex=True)\n",
    "print(f\"Processed train shape: {X_processed.shape}\")\n",
    "print(f\"Processed test shape: {X_test_processed.shape}\")\n"
   ]
  },
  {
   "cell_type": "code",
   "execution_count": 9,
   "metadata": {
    "execution": {
     "iopub.execute_input": "2025-04-09T12:27:06.061010Z",
     "iopub.status.busy": "2025-04-09T12:27:06.060640Z",
     "iopub.status.idle": "2025-04-09T12:27:07.219117Z",
     "shell.execute_reply": "2025-04-09T12:27:07.218257Z",
     "shell.execute_reply.started": "2025-04-09T12:27:06.060981Z"
    },
    "trusted": true
   },
   "outputs": [
    {
     "name": "stdout",
     "output_type": "stream",
     "text": [
      "\n",
      "Training LightGBM model...\n"
     ]
    },
    {
     "name": "stdout",
     "output_type": "stream",
     "text": [
      "Training until validation scores don't improve for 50 rounds\n",
      "Early stopping, best iteration is:\n",
      "[32]\tvalid_0's auc: 0.903582\n",
      "\n",
      "Training XGBoost model...\n",
      "[0]\tval-auc:0.89475\n",
      "[100]\tval-auc:0.90046\n",
      "[123]\tval-auc:0.90067\n"
     ]
    }
   ],
   "source": [
    "# Split data untuk validasi\n",
    "X_train, X_val, y_train, y_val = train_test_split(\n",
    "    X_processed, y, \n",
    "    test_size=0.2, \n",
    "    random_state=42, \n",
    "    stratify=y\n",
    ")\n",
    "\n",
    "# Parameter LightGBM yang optimal\n",
    "lgb_params = {\n",
    "    'objective': 'binary',\n",
    "    'metric': 'auc',\n",
    "    'boosting_type': 'gbdt',\n",
    "    'num_leaves': 31,\n",
    "    'learning_rate': 0.05,\n",
    "    'feature_fraction': 0.9,\n",
    "    'bagging_fraction': 0.8,\n",
    "    'bagging_freq': 5,\n",
    "    'verbose': -1\n",
    "}\n",
    "\n",
    "# Parameter XGBoost yang optimal\n",
    "xgb_params = {\n",
    "    'objective': 'binary:logistic',\n",
    "    'eval_metric': 'auc',\n",
    "    'learning_rate': 0.05,\n",
    "    'max_depth': 5,\n",
    "    'min_child_weight': 1,\n",
    "    'subsample': 0.8,\n",
    "    'colsample_bytree': 0.8\n",
    "}\n",
    "\n",
    "# Training LightGBM\n",
    "print(\"\\nTraining LightGBM model...\")\n",
    "lgb_train = lgb.Dataset(X_train, y_train)\n",
    "lgb_val = lgb.Dataset(X_val, y_val, reference=lgb_train)\n",
    "\n",
    "lgb_model = lgb.train(\n",
    "    lgb_params,\n",
    "    lgb_train,\n",
    "    num_boost_round=1000,\n",
    "    valid_sets=[lgb_val],\n",
    "    callbacks=[\n",
    "        lgb.early_stopping(stopping_rounds=50),\n",
    "        lgb.log_evaluation(period=100)  # mirip verbose_eval=100\n",
    "    ]\n",
    ")\n",
    "\n",
    "# Training XGBoost\n",
    "print(\"\\nTraining XGBoost model...\")\n",
    "dtrain = xgb.DMatrix(X_train, label=y_train)\n",
    "dval = xgb.DMatrix(X_val, label=y_val)\n",
    "watchlist = [(dval, 'val')]\n",
    "\n",
    "xgb_model = xgb.train(\n",
    "    xgb_params,\n",
    "    dtrain,\n",
    "    num_boost_round=1000,\n",
    "    evals=watchlist,\n",
    "    early_stopping_rounds=100,\n",
    "    verbose_eval=100\n",
    ")\n"
   ]
  },
  {
   "cell_type": "code",
   "execution_count": 10,
   "metadata": {
    "execution": {
     "iopub.execute_input": "2025-04-09T12:27:11.360640Z",
     "iopub.status.busy": "2025-04-09T12:27:11.360319Z",
     "iopub.status.idle": "2025-04-09T12:27:11.427974Z",
     "shell.execute_reply": "2025-04-09T12:27:11.426693Z",
     "shell.execute_reply.started": "2025-04-09T12:27:11.360617Z"
    },
    "trusted": true
   },
   "outputs": [
    {
     "name": "stdout",
     "output_type": "stream",
     "text": [
      "\n",
      "LightGBM validation accuracy: 0.9014\n",
      "LightGBM validation ROC AUC: 0.9036\n",
      "\n",
      "LightGBM Classification Report:\n",
      "              precision    recall  f1-score   support\n",
      "\n",
      "           0       0.90      1.00      0.95      1261\n",
      "           1       0.57      0.03      0.05       139\n",
      "\n",
      "    accuracy                           0.90      1400\n",
      "   macro avg       0.74      0.51      0.50      1400\n",
      "weighted avg       0.87      0.90      0.86      1400\n",
      "\n",
      "\n",
      "XGBoost validation accuracy: 0.8993\n",
      "XGBoost validation ROC AUC: 0.9007\n",
      "\n",
      "XGBoost Classification Report:\n",
      "              precision    recall  f1-score   support\n",
      "\n",
      "           0       0.91      0.99      0.95      1261\n",
      "           1       0.47      0.11      0.18       139\n",
      "\n",
      "    accuracy                           0.90      1400\n",
      "   macro avg       0.69      0.55      0.56      1400\n",
      "weighted avg       0.87      0.90      0.87      1400\n",
      "\n",
      "\n",
      "Ensemble validation accuracy: 0.9014\n",
      "Ensemble validation ROC AUC: 0.9048\n",
      "\n",
      "Ensemble Classification Report:\n",
      "              precision    recall  f1-score   support\n",
      "\n",
      "           0       0.91      0.99      0.95      1261\n",
      "           1       0.53      0.06      0.12       139\n",
      "\n",
      "    accuracy                           0.90      1400\n",
      "   macro avg       0.72      0.53      0.53      1400\n",
      "weighted avg       0.87      0.90      0.87      1400\n",
      "\n"
     ]
    }
   ],
   "source": [
    "# Evaluasi LightGBM\n",
    "lgb_val_preds = (lgb_model.predict(X_val) > 0.5).astype(int)\n",
    "lgb_val_proba = lgb_model.predict(X_val)\n",
    "\n",
    "print(f\"\\nLightGBM validation accuracy: {accuracy_score(y_val, lgb_val_preds):.4f}\")\n",
    "print(f\"LightGBM validation ROC AUC: {roc_auc_score(y_val, lgb_val_proba):.4f}\")\n",
    "print(\"\\nLightGBM Classification Report:\")\n",
    "print(classification_report(y_val, lgb_val_preds))\n",
    "\n",
    "# Evaluasi XGBoost\n",
    "xgb_val_proba = xgb_model.predict(dval)\n",
    "xgb_val_preds = (xgb_val_proba > 0.5).astype(int)\n",
    "\n",
    "print(f\"\\nXGBoost validation accuracy: {accuracy_score(y_val, xgb_val_preds):.4f}\")\n",
    "print(f\"XGBoost validation ROC AUC: {roc_auc_score(y_val, xgb_val_proba):.4f}\")\n",
    "print(\"\\nXGBoost Classification Report:\")\n",
    "print(classification_report(y_val, xgb_val_preds))\n",
    "\n",
    "# Evaluasi Ensemble\n",
    "ensemble_val_proba = (lgb_val_proba + xgb_val_proba) / 2\n",
    "ensemble_val_preds = (ensemble_val_proba > 0.5).astype(int)\n",
    "\n",
    "print(f\"\\nEnsemble validation accuracy: {accuracy_score(y_val, ensemble_val_preds):.4f}\")\n",
    "print(f\"Ensemble validation ROC AUC: {roc_auc_score(y_val, ensemble_val_proba):.4f}\")\n",
    "print(\"\\nEnsemble Classification Report:\")\n",
    "print(classification_report(y_val, ensemble_val_preds))"
   ]
  },
  {
   "cell_type": "code",
   "execution_count": 11,
   "metadata": {
    "execution": {
     "iopub.execute_input": "2025-04-09T12:27:16.478110Z",
     "iopub.status.busy": "2025-04-09T12:27:16.477680Z",
     "iopub.status.idle": "2025-04-09T12:27:16.892351Z",
     "shell.execute_reply": "2025-04-09T12:27:16.891597Z",
     "shell.execute_reply.started": "2025-04-09T12:27:16.478079Z"
    },
    "trusted": true
   },
   "outputs": [
    {
     "name": "stdout",
     "output_type": "stream",
     "text": [
      "\n",
      "Training final models on all data...\n",
      "\n",
      "Top 10 Fitur Terpenting:\n",
      "                                      Feature  Importance\n",
      "1                                      appAge         205\n",
      "363                           userRatingCount         174\n",
      "0                                     adSpent          97\n",
      "7         appDescriptionBrandSafetyRating_low          48\n",
      "311                     isCorporateEmailScore          35\n",
      "10                          averageUserRating          32\n",
      "331                    primaryGenreName_Games          30\n",
      "326                primaryGenreName_Education          29\n",
      "327            primaryGenreName_Entertainment          29\n",
      "161  developerCountry_CANNOT IDENTIFY COUNTRY          27\n"
     ]
    }
   ],
   "source": [
    "# Train model final pada seluruh data\n",
    "print(\"\\nTraining final models on all data...\")\n",
    "\n",
    "# LightGBM final\n",
    "lgb_train_full = lgb.Dataset(X_processed, y)\n",
    "final_lgb = lgb.train(\n",
    "    lgb_params,\n",
    "    lgb_train_full,\n",
    "    num_boost_round=lgb_model.best_iteration\n",
    ")\n",
    "\n",
    "# XGBoost final\n",
    "dtrain_full = xgb.DMatrix(X_processed, label=y)\n",
    "final_xgb = xgb.train(\n",
    "    xgb_params,\n",
    "    dtrain_full,\n",
    "    num_boost_round=xgb_model.best_iteration\n",
    ")\n",
    "\n",
    "# Analisis fitur penting\n",
    "feature_importance = pd.DataFrame({\n",
    "    'Feature': X_processed.columns,\n",
    "    'Importance': final_lgb.feature_importance()\n",
    "}).sort_values('Importance', ascending=False)\n",
    "\n",
    "print(\"\\nTop 10 Fitur Terpenting:\")\n",
    "print(feature_importance.head(10))"
   ]
  },
  {
   "cell_type": "code",
   "execution_count": 12,
   "metadata": {
    "execution": {
     "iopub.execute_input": "2025-04-09T12:29:10.771649Z",
     "iopub.status.busy": "2025-04-09T12:29:10.771331Z",
     "iopub.status.idle": "2025-04-09T12:29:10.920584Z",
     "shell.execute_reply": "2025-04-09T12:29:10.919678Z",
     "shell.execute_reply.started": "2025-04-09T12:29:10.771627Z"
    },
    "trusted": true
   },
   "outputs": [
    {
     "name": "stdout",
     "output_type": "stream",
     "text": [
      "\n",
      "Membuat prediksi...\n",
      "\n",
      "File submission berhasil dibuat:\n",
      "1. lgb_submission.csv\n",
      "2. xgb_submission.csv\n",
      "3. ensemble_submission.csv (Hasil Terbaik)\n",
      "\n",
      "Distribusi prediksi:\n",
      "LightGBM: True=970, False=2030\n",
      "XGBoost: True=1126, False=1874\n",
      "Ensemble: True=996, False=2004\n",
      "\n",
      "Selesai! Gunakan file ensemble_submission.csv untuk hasil prediksi terbaik.\n"
     ]
    }
   ],
   "source": [
    "# Buat prediksi\n",
    "print(\"\\nMembuat prediksi...\")\n",
    "dtest = xgb.DMatrix(X_test_processed)\n",
    "\n",
    "# Prediksi LightGBM\n",
    "lgb_preds_proba = final_lgb.predict(X_test_processed)\n",
    "lgb_preds = (lgb_preds_proba > 0.09).astype(int)\n",
    "\n",
    "# Prediksi XGBoost\n",
    "xgb_preds_proba = final_xgb.predict(dtest)\n",
    "xgb_preds = (xgb_preds_proba > 0.085).astype(int)\n",
    "\n",
    "# Prediksi Ensemble\n",
    "ensemble_proba = (lgb_preds_proba + xgb_preds_proba) / 2\n",
    "ensemble_preds = (ensemble_proba > 0.09).astype(int)\n",
    "\n",
    "# Buat file submission\n",
    "def create_submission(preds, filename):\n",
    "    submission = submission_format.copy()\n",
    "    submission['coppaRisk'] = [True if p == 1 else False for p in preds]\n",
    "    submission.to_csv(filename, index=False)\n",
    "    return submission\n",
    "\n",
    "# Buat semua file submission\n",
    "lgb_sub = create_submission(lgb_preds, 'lgb_submission.csv')\n",
    "xgb_sub = create_submission(xgb_preds, 'xgb_submission.csv')\n",
    "ensemble_sub = create_submission(ensemble_preds, 'ensemble_submission.csv')\n",
    "\n",
    "print(\"\\nFile submission berhasil dibuat:\")\n",
    "print(\"1. lgb_submission.csv\")\n",
    "print(\"2. xgb_submission.csv\")\n",
    "print(\"3. ensemble_submission.csv (Hasil Terbaik)\")\n",
    "\n",
    "print(\"\\nDistribusi prediksi:\")\n",
    "print(f\"LightGBM: True={sum(lgb_preds)}, False={len(lgb_preds)-sum(lgb_preds)}\")\n",
    "print(f\"XGBoost: True={sum(xgb_preds)}, False={len(xgb_preds)-sum(xgb_preds)}\")\n",
    "print(f\"Ensemble: True={sum(ensemble_preds)}, False={len(ensemble_preds)-sum(ensemble_preds)}\")\n",
    "\n",
    "print(\"\\nSelesai! Gunakan file ensemble_submission.csv untuk hasil prediksi terbaik.\")\n"
   ]
  },
  {
   "cell_type": "code",
   "execution_count": 13,
   "metadata": {
    "execution": {
     "iopub.execute_input": "2025-04-09T12:28:28.670106Z",
     "iopub.status.busy": "2025-04-09T12:28:28.669683Z",
     "iopub.status.idle": "2025-04-09T12:28:28.681150Z",
     "shell.execute_reply": "2025-04-09T12:28:28.680168Z",
     "shell.execute_reply.started": "2025-04-09T12:28:28.670071Z"
    },
    "trusted": true
   },
   "outputs": [
    {
     "ename": "FileNotFoundError",
     "evalue": "[Errno 2] No such file or directory: '/kaggle/working/xgb_submission.csv'",
     "output_type": "error",
     "traceback": [
      "\u001b[1;31m---------------------------------------------------------------------------\u001b[0m",
      "\u001b[1;31mFileNotFoundError\u001b[0m                         Traceback (most recent call last)",
      "Cell \u001b[1;32mIn[13], line 1\u001b[0m\n\u001b[1;32m----> 1\u001b[0m hasil \u001b[38;5;241m=\u001b[39m \u001b[43mpd\u001b[49m\u001b[38;5;241;43m.\u001b[39;49m\u001b[43mread_csv\u001b[49m\u001b[43m(\u001b[49m\u001b[38;5;124;43m'\u001b[39;49m\u001b[38;5;124;43m/kaggle/working/xgb_submission.csv\u001b[39;49m\u001b[38;5;124;43m'\u001b[39;49m\u001b[43m)\u001b[49m\n\u001b[0;32m      2\u001b[0m hasil[\u001b[38;5;124m'\u001b[39m\u001b[38;5;124mcoppaRisk\u001b[39m\u001b[38;5;124m'\u001b[39m]\u001b[38;5;241m.\u001b[39mvalue_counts()\n",
      "File \u001b[1;32mc:\\Users\\Warge\\AppData\\Local\\Programs\\Python\\Python312\\Lib\\site-packages\\pandas\\io\\parsers\\readers.py:1026\u001b[0m, in \u001b[0;36mread_csv\u001b[1;34m(filepath_or_buffer, sep, delimiter, header, names, index_col, usecols, dtype, engine, converters, true_values, false_values, skipinitialspace, skiprows, skipfooter, nrows, na_values, keep_default_na, na_filter, verbose, skip_blank_lines, parse_dates, infer_datetime_format, keep_date_col, date_parser, date_format, dayfirst, cache_dates, iterator, chunksize, compression, thousands, decimal, lineterminator, quotechar, quoting, doublequote, escapechar, comment, encoding, encoding_errors, dialect, on_bad_lines, delim_whitespace, low_memory, memory_map, float_precision, storage_options, dtype_backend)\u001b[0m\n\u001b[0;32m   1013\u001b[0m kwds_defaults \u001b[38;5;241m=\u001b[39m _refine_defaults_read(\n\u001b[0;32m   1014\u001b[0m     dialect,\n\u001b[0;32m   1015\u001b[0m     delimiter,\n\u001b[1;32m   (...)\u001b[0m\n\u001b[0;32m   1022\u001b[0m     dtype_backend\u001b[38;5;241m=\u001b[39mdtype_backend,\n\u001b[0;32m   1023\u001b[0m )\n\u001b[0;32m   1024\u001b[0m kwds\u001b[38;5;241m.\u001b[39mupdate(kwds_defaults)\n\u001b[1;32m-> 1026\u001b[0m \u001b[38;5;28;01mreturn\u001b[39;00m \u001b[43m_read\u001b[49m\u001b[43m(\u001b[49m\u001b[43mfilepath_or_buffer\u001b[49m\u001b[43m,\u001b[49m\u001b[43m \u001b[49m\u001b[43mkwds\u001b[49m\u001b[43m)\u001b[49m\n",
      "File \u001b[1;32mc:\\Users\\Warge\\AppData\\Local\\Programs\\Python\\Python312\\Lib\\site-packages\\pandas\\io\\parsers\\readers.py:620\u001b[0m, in \u001b[0;36m_read\u001b[1;34m(filepath_or_buffer, kwds)\u001b[0m\n\u001b[0;32m    617\u001b[0m _validate_names(kwds\u001b[38;5;241m.\u001b[39mget(\u001b[38;5;124m\"\u001b[39m\u001b[38;5;124mnames\u001b[39m\u001b[38;5;124m\"\u001b[39m, \u001b[38;5;28;01mNone\u001b[39;00m))\n\u001b[0;32m    619\u001b[0m \u001b[38;5;66;03m# Create the parser.\u001b[39;00m\n\u001b[1;32m--> 620\u001b[0m parser \u001b[38;5;241m=\u001b[39m \u001b[43mTextFileReader\u001b[49m\u001b[43m(\u001b[49m\u001b[43mfilepath_or_buffer\u001b[49m\u001b[43m,\u001b[49m\u001b[43m \u001b[49m\u001b[38;5;241;43m*\u001b[39;49m\u001b[38;5;241;43m*\u001b[39;49m\u001b[43mkwds\u001b[49m\u001b[43m)\u001b[49m\n\u001b[0;32m    622\u001b[0m \u001b[38;5;28;01mif\u001b[39;00m chunksize \u001b[38;5;129;01mor\u001b[39;00m iterator:\n\u001b[0;32m    623\u001b[0m     \u001b[38;5;28;01mreturn\u001b[39;00m parser\n",
      "File \u001b[1;32mc:\\Users\\Warge\\AppData\\Local\\Programs\\Python\\Python312\\Lib\\site-packages\\pandas\\io\\parsers\\readers.py:1620\u001b[0m, in \u001b[0;36mTextFileReader.__init__\u001b[1;34m(self, f, engine, **kwds)\u001b[0m\n\u001b[0;32m   1617\u001b[0m     \u001b[38;5;28mself\u001b[39m\u001b[38;5;241m.\u001b[39moptions[\u001b[38;5;124m\"\u001b[39m\u001b[38;5;124mhas_index_names\u001b[39m\u001b[38;5;124m\"\u001b[39m] \u001b[38;5;241m=\u001b[39m kwds[\u001b[38;5;124m\"\u001b[39m\u001b[38;5;124mhas_index_names\u001b[39m\u001b[38;5;124m\"\u001b[39m]\n\u001b[0;32m   1619\u001b[0m \u001b[38;5;28mself\u001b[39m\u001b[38;5;241m.\u001b[39mhandles: IOHandles \u001b[38;5;241m|\u001b[39m \u001b[38;5;28;01mNone\u001b[39;00m \u001b[38;5;241m=\u001b[39m \u001b[38;5;28;01mNone\u001b[39;00m\n\u001b[1;32m-> 1620\u001b[0m \u001b[38;5;28mself\u001b[39m\u001b[38;5;241m.\u001b[39m_engine \u001b[38;5;241m=\u001b[39m \u001b[38;5;28;43mself\u001b[39;49m\u001b[38;5;241;43m.\u001b[39;49m\u001b[43m_make_engine\u001b[49m\u001b[43m(\u001b[49m\u001b[43mf\u001b[49m\u001b[43m,\u001b[49m\u001b[43m \u001b[49m\u001b[38;5;28;43mself\u001b[39;49m\u001b[38;5;241;43m.\u001b[39;49m\u001b[43mengine\u001b[49m\u001b[43m)\u001b[49m\n",
      "File \u001b[1;32mc:\\Users\\Warge\\AppData\\Local\\Programs\\Python\\Python312\\Lib\\site-packages\\pandas\\io\\parsers\\readers.py:1880\u001b[0m, in \u001b[0;36mTextFileReader._make_engine\u001b[1;34m(self, f, engine)\u001b[0m\n\u001b[0;32m   1878\u001b[0m     \u001b[38;5;28;01mif\u001b[39;00m \u001b[38;5;124m\"\u001b[39m\u001b[38;5;124mb\u001b[39m\u001b[38;5;124m\"\u001b[39m \u001b[38;5;129;01mnot\u001b[39;00m \u001b[38;5;129;01min\u001b[39;00m mode:\n\u001b[0;32m   1879\u001b[0m         mode \u001b[38;5;241m+\u001b[39m\u001b[38;5;241m=\u001b[39m \u001b[38;5;124m\"\u001b[39m\u001b[38;5;124mb\u001b[39m\u001b[38;5;124m\"\u001b[39m\n\u001b[1;32m-> 1880\u001b[0m \u001b[38;5;28mself\u001b[39m\u001b[38;5;241m.\u001b[39mhandles \u001b[38;5;241m=\u001b[39m \u001b[43mget_handle\u001b[49m\u001b[43m(\u001b[49m\n\u001b[0;32m   1881\u001b[0m \u001b[43m    \u001b[49m\u001b[43mf\u001b[49m\u001b[43m,\u001b[49m\n\u001b[0;32m   1882\u001b[0m \u001b[43m    \u001b[49m\u001b[43mmode\u001b[49m\u001b[43m,\u001b[49m\n\u001b[0;32m   1883\u001b[0m \u001b[43m    \u001b[49m\u001b[43mencoding\u001b[49m\u001b[38;5;241;43m=\u001b[39;49m\u001b[38;5;28;43mself\u001b[39;49m\u001b[38;5;241;43m.\u001b[39;49m\u001b[43moptions\u001b[49m\u001b[38;5;241;43m.\u001b[39;49m\u001b[43mget\u001b[49m\u001b[43m(\u001b[49m\u001b[38;5;124;43m\"\u001b[39;49m\u001b[38;5;124;43mencoding\u001b[39;49m\u001b[38;5;124;43m\"\u001b[39;49m\u001b[43m,\u001b[49m\u001b[43m \u001b[49m\u001b[38;5;28;43;01mNone\u001b[39;49;00m\u001b[43m)\u001b[49m\u001b[43m,\u001b[49m\n\u001b[0;32m   1884\u001b[0m \u001b[43m    \u001b[49m\u001b[43mcompression\u001b[49m\u001b[38;5;241;43m=\u001b[39;49m\u001b[38;5;28;43mself\u001b[39;49m\u001b[38;5;241;43m.\u001b[39;49m\u001b[43moptions\u001b[49m\u001b[38;5;241;43m.\u001b[39;49m\u001b[43mget\u001b[49m\u001b[43m(\u001b[49m\u001b[38;5;124;43m\"\u001b[39;49m\u001b[38;5;124;43mcompression\u001b[39;49m\u001b[38;5;124;43m\"\u001b[39;49m\u001b[43m,\u001b[49m\u001b[43m \u001b[49m\u001b[38;5;28;43;01mNone\u001b[39;49;00m\u001b[43m)\u001b[49m\u001b[43m,\u001b[49m\n\u001b[0;32m   1885\u001b[0m \u001b[43m    \u001b[49m\u001b[43mmemory_map\u001b[49m\u001b[38;5;241;43m=\u001b[39;49m\u001b[38;5;28;43mself\u001b[39;49m\u001b[38;5;241;43m.\u001b[39;49m\u001b[43moptions\u001b[49m\u001b[38;5;241;43m.\u001b[39;49m\u001b[43mget\u001b[49m\u001b[43m(\u001b[49m\u001b[38;5;124;43m\"\u001b[39;49m\u001b[38;5;124;43mmemory_map\u001b[39;49m\u001b[38;5;124;43m\"\u001b[39;49m\u001b[43m,\u001b[49m\u001b[43m \u001b[49m\u001b[38;5;28;43;01mFalse\u001b[39;49;00m\u001b[43m)\u001b[49m\u001b[43m,\u001b[49m\n\u001b[0;32m   1886\u001b[0m \u001b[43m    \u001b[49m\u001b[43mis_text\u001b[49m\u001b[38;5;241;43m=\u001b[39;49m\u001b[43mis_text\u001b[49m\u001b[43m,\u001b[49m\n\u001b[0;32m   1887\u001b[0m \u001b[43m    \u001b[49m\u001b[43merrors\u001b[49m\u001b[38;5;241;43m=\u001b[39;49m\u001b[38;5;28;43mself\u001b[39;49m\u001b[38;5;241;43m.\u001b[39;49m\u001b[43moptions\u001b[49m\u001b[38;5;241;43m.\u001b[39;49m\u001b[43mget\u001b[49m\u001b[43m(\u001b[49m\u001b[38;5;124;43m\"\u001b[39;49m\u001b[38;5;124;43mencoding_errors\u001b[39;49m\u001b[38;5;124;43m\"\u001b[39;49m\u001b[43m,\u001b[49m\u001b[43m \u001b[49m\u001b[38;5;124;43m\"\u001b[39;49m\u001b[38;5;124;43mstrict\u001b[39;49m\u001b[38;5;124;43m\"\u001b[39;49m\u001b[43m)\u001b[49m\u001b[43m,\u001b[49m\n\u001b[0;32m   1888\u001b[0m \u001b[43m    \u001b[49m\u001b[43mstorage_options\u001b[49m\u001b[38;5;241;43m=\u001b[39;49m\u001b[38;5;28;43mself\u001b[39;49m\u001b[38;5;241;43m.\u001b[39;49m\u001b[43moptions\u001b[49m\u001b[38;5;241;43m.\u001b[39;49m\u001b[43mget\u001b[49m\u001b[43m(\u001b[49m\u001b[38;5;124;43m\"\u001b[39;49m\u001b[38;5;124;43mstorage_options\u001b[39;49m\u001b[38;5;124;43m\"\u001b[39;49m\u001b[43m,\u001b[49m\u001b[43m \u001b[49m\u001b[38;5;28;43;01mNone\u001b[39;49;00m\u001b[43m)\u001b[49m\u001b[43m,\u001b[49m\n\u001b[0;32m   1889\u001b[0m \u001b[43m\u001b[49m\u001b[43m)\u001b[49m\n\u001b[0;32m   1890\u001b[0m \u001b[38;5;28;01massert\u001b[39;00m \u001b[38;5;28mself\u001b[39m\u001b[38;5;241m.\u001b[39mhandles \u001b[38;5;129;01mis\u001b[39;00m \u001b[38;5;129;01mnot\u001b[39;00m \u001b[38;5;28;01mNone\u001b[39;00m\n\u001b[0;32m   1891\u001b[0m f \u001b[38;5;241m=\u001b[39m \u001b[38;5;28mself\u001b[39m\u001b[38;5;241m.\u001b[39mhandles\u001b[38;5;241m.\u001b[39mhandle\n",
      "File \u001b[1;32mc:\\Users\\Warge\\AppData\\Local\\Programs\\Python\\Python312\\Lib\\site-packages\\pandas\\io\\common.py:873\u001b[0m, in \u001b[0;36mget_handle\u001b[1;34m(path_or_buf, mode, encoding, compression, memory_map, is_text, errors, storage_options)\u001b[0m\n\u001b[0;32m    868\u001b[0m \u001b[38;5;28;01melif\u001b[39;00m \u001b[38;5;28misinstance\u001b[39m(handle, \u001b[38;5;28mstr\u001b[39m):\n\u001b[0;32m    869\u001b[0m     \u001b[38;5;66;03m# Check whether the filename is to be opened in binary mode.\u001b[39;00m\n\u001b[0;32m    870\u001b[0m     \u001b[38;5;66;03m# Binary mode does not support 'encoding' and 'newline'.\u001b[39;00m\n\u001b[0;32m    871\u001b[0m     \u001b[38;5;28;01mif\u001b[39;00m ioargs\u001b[38;5;241m.\u001b[39mencoding \u001b[38;5;129;01mand\u001b[39;00m \u001b[38;5;124m\"\u001b[39m\u001b[38;5;124mb\u001b[39m\u001b[38;5;124m\"\u001b[39m \u001b[38;5;129;01mnot\u001b[39;00m \u001b[38;5;129;01min\u001b[39;00m ioargs\u001b[38;5;241m.\u001b[39mmode:\n\u001b[0;32m    872\u001b[0m         \u001b[38;5;66;03m# Encoding\u001b[39;00m\n\u001b[1;32m--> 873\u001b[0m         handle \u001b[38;5;241m=\u001b[39m \u001b[38;5;28;43mopen\u001b[39;49m\u001b[43m(\u001b[49m\n\u001b[0;32m    874\u001b[0m \u001b[43m            \u001b[49m\u001b[43mhandle\u001b[49m\u001b[43m,\u001b[49m\n\u001b[0;32m    875\u001b[0m \u001b[43m            \u001b[49m\u001b[43mioargs\u001b[49m\u001b[38;5;241;43m.\u001b[39;49m\u001b[43mmode\u001b[49m\u001b[43m,\u001b[49m\n\u001b[0;32m    876\u001b[0m \u001b[43m            \u001b[49m\u001b[43mencoding\u001b[49m\u001b[38;5;241;43m=\u001b[39;49m\u001b[43mioargs\u001b[49m\u001b[38;5;241;43m.\u001b[39;49m\u001b[43mencoding\u001b[49m\u001b[43m,\u001b[49m\n\u001b[0;32m    877\u001b[0m \u001b[43m            \u001b[49m\u001b[43merrors\u001b[49m\u001b[38;5;241;43m=\u001b[39;49m\u001b[43merrors\u001b[49m\u001b[43m,\u001b[49m\n\u001b[0;32m    878\u001b[0m \u001b[43m            \u001b[49m\u001b[43mnewline\u001b[49m\u001b[38;5;241;43m=\u001b[39;49m\u001b[38;5;124;43m\"\u001b[39;49m\u001b[38;5;124;43m\"\u001b[39;49m\u001b[43m,\u001b[49m\n\u001b[0;32m    879\u001b[0m \u001b[43m        \u001b[49m\u001b[43m)\u001b[49m\n\u001b[0;32m    880\u001b[0m     \u001b[38;5;28;01melse\u001b[39;00m:\n\u001b[0;32m    881\u001b[0m         \u001b[38;5;66;03m# Binary mode\u001b[39;00m\n\u001b[0;32m    882\u001b[0m         handle \u001b[38;5;241m=\u001b[39m \u001b[38;5;28mopen\u001b[39m(handle, ioargs\u001b[38;5;241m.\u001b[39mmode)\n",
      "\u001b[1;31mFileNotFoundError\u001b[0m: [Errno 2] No such file or directory: '/kaggle/working/xgb_submission.csv'"
     ]
    }
   ],
   "source": [
    "hasil = pd.read_csv('/kaggle/working/xgb_submission.csv')\n",
    "hasil['coppaRisk'].value_counts()"
   ]
  }
 ],
 "metadata": {
  "kaggle": {
   "accelerator": "none",
   "dataSources": [
    {
     "datasetId": 7094058,
     "sourceId": 11339506,
     "sourceType": "datasetVersion"
    }
   ],
   "dockerImageVersionId": 30918,
   "isGpuEnabled": false,
   "isInternetEnabled": false,
   "language": "python",
   "sourceType": "notebook"
  },
  "kernelspec": {
   "display_name": "Python 3",
   "language": "python",
   "name": "python3"
  },
  "language_info": {
   "codemirror_mode": {
    "name": "ipython",
    "version": 3
   },
   "file_extension": ".py",
   "mimetype": "text/x-python",
   "name": "python",
   "nbconvert_exporter": "python",
   "pygments_lexer": "ipython3",
   "version": "3.12.8"
  }
 },
 "nbformat": 4,
 "nbformat_minor": 4
}
