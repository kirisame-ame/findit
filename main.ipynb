{
 "cells": [
  {
   "cell_type": "markdown",
   "id": "e4673ccd",
   "metadata": {},
   "source": [
    "# 1. Data Loading"
   ]
  },
  {
   "cell_type": "code",
   "execution_count": 1,
   "id": "8a50a6b1",
   "metadata": {},
   "outputs": [],
   "source": [
    "STATE=34"
   ]
  },
  {
   "cell_type": "code",
   "execution_count": 2,
   "id": "8dfc3951",
   "metadata": {},
   "outputs": [],
   "source": [
    "import pandas as pd\n",
    "import numpy as np\n",
    "import os\n",
    "import sys\n",
    "import matplotlib.pyplot as plt\n",
    "import seaborn as sns\n",
    "\n",
    "DATA_DIR = os.path.join(os.getcwd(), 'dataset')\n",
    "OUTPUT_DIR = os.path.join(os.getcwd(), 'output')\n",
    "if not os.path.exists(OUTPUT_DIR):\n",
    "    os.makedirs(OUTPUT_DIR)"
   ]
  },
  {
   "cell_type": "code",
   "execution_count": 3,
   "id": "8440f1f3",
   "metadata": {},
   "outputs": [],
   "source": [
    "train = pd.read_csv(os.path.join(DATA_DIR, 'train.csv'))\n",
    "target = pd.read_csv(os.path.join(DATA_DIR, 'target.csv'))\n",
    "test = pd.read_csv(os.path.join(DATA_DIR, 'test.csv'))"
   ]
  },
  {
   "cell_type": "code",
   "execution_count": 4,
   "id": "e9680892",
   "metadata": {},
   "outputs": [],
   "source": [
    "train[\"target\"] = target[\"coppaRisk\"]\n",
    "train[\"target\"] = train[\"target\"].astype(int)"
   ]
  },
  {
   "cell_type": "markdown",
   "id": "9e88fdae",
   "metadata": {},
   "source": [
    "# 2. Data Description"
   ]
  },
  {
   "cell_type": "code",
   "execution_count": 5,
   "id": "db98961c",
   "metadata": {},
   "outputs": [
    {
     "name": "stdout",
     "output_type": "stream",
     "text": [
      "<class 'pandas.core.frame.DataFrame'>\n",
      "RangeIndex: 7000 entries, 0 to 6999\n",
      "Data columns (total 17 columns):\n",
      " #   Column                           Non-Null Count  Dtype  \n",
      "---  ------                           --------------  -----  \n",
      " 0   developerCountry                 7000 non-null   object \n",
      " 1   countryCode                      6936 non-null   object \n",
      " 2   userRatingCount                  7000 non-null   int64  \n",
      " 3   primaryGenreName                 7000 non-null   object \n",
      " 4   downloads                        4851 non-null   object \n",
      " 5   deviceType                       7000 non-null   object \n",
      " 6   hasPrivacyLink                   6250 non-null   object \n",
      " 7   hasTermsOfServiceLink            2365 non-null   object \n",
      " 8   hasTermsOfServiceLinkRating      2365 non-null   object \n",
      " 9   isCorporateEmailScore            5872 non-null   float64\n",
      " 10  adSpent                          1321 non-null   float64\n",
      " 11  appAge                           6950 non-null   float64\n",
      " 12  averageUserRating                5768 non-null   float64\n",
      " 13  appContentBrandSafetyRating      838 non-null    object \n",
      " 14  appDescriptionBrandSafetyRating  7000 non-null   object \n",
      " 15  mfaRating                        7000 non-null   object \n",
      " 16  target                           7000 non-null   int32  \n",
      "dtypes: float64(4), int32(1), int64(1), object(11)\n",
      "memory usage: 902.5+ KB\n"
     ]
    }
   ],
   "source": [
    "train.info()"
   ]
  },
  {
   "cell_type": "code",
   "execution_count": 6,
   "id": "16c63199",
   "metadata": {},
   "outputs": [
    {
     "data": {
      "application/vnd.microsoft.datawrangler.viewer.v0+json": {
       "columns": [
        {
         "name": "index",
         "rawType": "object",
         "type": "string"
        },
        {
         "name": "developerCountry",
         "rawType": "object",
         "type": "unknown"
        },
        {
         "name": "countryCode",
         "rawType": "object",
         "type": "unknown"
        },
        {
         "name": "userRatingCount",
         "rawType": "float64",
         "type": "float"
        },
        {
         "name": "primaryGenreName",
         "rawType": "object",
         "type": "unknown"
        },
        {
         "name": "downloads",
         "rawType": "object",
         "type": "unknown"
        },
        {
         "name": "deviceType",
         "rawType": "object",
         "type": "unknown"
        },
        {
         "name": "hasPrivacyLink",
         "rawType": "object",
         "type": "unknown"
        },
        {
         "name": "hasTermsOfServiceLink",
         "rawType": "object",
         "type": "unknown"
        },
        {
         "name": "hasTermsOfServiceLinkRating",
         "rawType": "object",
         "type": "unknown"
        },
        {
         "name": "isCorporateEmailScore",
         "rawType": "float64",
         "type": "float"
        },
        {
         "name": "adSpent",
         "rawType": "float64",
         "type": "float"
        },
        {
         "name": "appAge",
         "rawType": "float64",
         "type": "float"
        },
        {
         "name": "averageUserRating",
         "rawType": "float64",
         "type": "float"
        },
        {
         "name": "appContentBrandSafetyRating",
         "rawType": "object",
         "type": "unknown"
        },
        {
         "name": "appDescriptionBrandSafetyRating",
         "rawType": "object",
         "type": "unknown"
        },
        {
         "name": "mfaRating",
         "rawType": "object",
         "type": "unknown"
        },
        {
         "name": "target",
         "rawType": "float64",
         "type": "float"
        }
       ],
       "conversionMethod": "pd.DataFrame",
       "ref": "43563372-ed9e-4e5f-9f07-fb4a7474ec61",
       "rows": [
        [
         "count",
         "7000",
         "6936",
         "7000.0",
         "7000",
         "4851",
         "7000",
         "6250",
         "2365",
         "2365",
         "5872.0",
         "1321.0",
         "6950.0",
         "5768.0",
         "838",
         "7000",
         "7000",
         "7000.0"
        ],
        [
         "unique",
         "114",
         "119",
         null,
         "46",
         "26",
         "5",
         "2",
         "2",
         "2",
         null,
         null,
         null,
         null,
         "3",
         "3",
         "3",
         null
        ],
        [
         "top",
         "ADDRESS NOT LISTED IN PLAYSTORE",
         "GLOBAL",
         null,
         "Games",
         "100 - 500",
         "GLOBAL",
         "True",
         "False",
         "high",
         null,
         null,
         null,
         null,
         "medium",
         "low",
         "low",
         null
        ],
        [
         "freq",
         "4338",
         "5802",
         null,
         "1828",
         "699",
         "6045",
         "6189",
         "1424",
         "1424",
         null,
         null,
         null,
         null,
         "536",
         "5652",
         "6983",
         null
        ],
        [
         "mean",
         null,
         null,
         "32562.735571428573",
         null,
         null,
         null,
         null,
         null,
         null,
         "45.740292915531334",
         "3977.5627662655966",
         "57.09305995203836",
         "2.48248959778086",
         null,
         null,
         null,
         "0.09942857142857142"
        ],
        [
         "std",
         null,
         null,
         "550143.0706053296",
         null,
         null,
         null,
         null,
         null,
         null,
         "49.36121496637068",
         "92199.18853501811",
         "37.16989528779037",
         "1.9057118678186287",
         null,
         null,
         null,
         "0.29925795600115973"
        ],
        [
         "min",
         null,
         null,
         "0.0",
         null,
         null,
         null,
         null,
         null,
         null,
         "0.0",
         "0.0070385250412768",
         "0.5333333333333333",
         "0.0",
         null,
         null,
         null,
         "0.0"
        ],
        [
         "25%",
         null,
         null,
         "0.0",
         null,
         null,
         null,
         null,
         null,
         null,
         "0.0",
         "1.0869198314350712",
         "27.53333333333333",
         "0.0",
         null,
         null,
         null,
         "0.0"
        ],
        [
         "50%",
         null,
         null,
         "1.0",
         null,
         null,
         null,
         null,
         null,
         null,
         "0.0",
         "7.945580109182323",
         "52.86666666666667",
         "3.0",
         null,
         null,
         null,
         "0.0"
        ],
        [
         "75%",
         null,
         null,
         "88.0",
         null,
         null,
         null,
         null,
         null,
         null,
         "99.0",
         "49.08374716418179",
         "80.0",
         "4.0",
         null,
         null,
         null,
         "0.0"
        ],
        [
         "max",
         null,
         null,
         "38543343.0",
         null,
         null,
         null,
         null,
         null,
         null,
         "99.0",
         "3143906.128937907",
         "196.46666666666667",
         "5.0",
         null,
         null,
         null,
         "1.0"
        ]
       ],
       "shape": {
        "columns": 17,
        "rows": 11
       }
      },
      "text/html": [
       "<div>\n",
       "<style scoped>\n",
       "    .dataframe tbody tr th:only-of-type {\n",
       "        vertical-align: middle;\n",
       "    }\n",
       "\n",
       "    .dataframe tbody tr th {\n",
       "        vertical-align: top;\n",
       "    }\n",
       "\n",
       "    .dataframe thead th {\n",
       "        text-align: right;\n",
       "    }\n",
       "</style>\n",
       "<table border=\"1\" class=\"dataframe\">\n",
       "  <thead>\n",
       "    <tr style=\"text-align: right;\">\n",
       "      <th></th>\n",
       "      <th>developerCountry</th>\n",
       "      <th>countryCode</th>\n",
       "      <th>userRatingCount</th>\n",
       "      <th>primaryGenreName</th>\n",
       "      <th>downloads</th>\n",
       "      <th>deviceType</th>\n",
       "      <th>hasPrivacyLink</th>\n",
       "      <th>hasTermsOfServiceLink</th>\n",
       "      <th>hasTermsOfServiceLinkRating</th>\n",
       "      <th>isCorporateEmailScore</th>\n",
       "      <th>adSpent</th>\n",
       "      <th>appAge</th>\n",
       "      <th>averageUserRating</th>\n",
       "      <th>appContentBrandSafetyRating</th>\n",
       "      <th>appDescriptionBrandSafetyRating</th>\n",
       "      <th>mfaRating</th>\n",
       "      <th>target</th>\n",
       "    </tr>\n",
       "  </thead>\n",
       "  <tbody>\n",
       "    <tr>\n",
       "      <th>count</th>\n",
       "      <td>7000</td>\n",
       "      <td>6936</td>\n",
       "      <td>7.000000e+03</td>\n",
       "      <td>7000</td>\n",
       "      <td>4851</td>\n",
       "      <td>7000</td>\n",
       "      <td>6250</td>\n",
       "      <td>2365</td>\n",
       "      <td>2365</td>\n",
       "      <td>5872.000000</td>\n",
       "      <td>1.321000e+03</td>\n",
       "      <td>6950.000000</td>\n",
       "      <td>5768.000000</td>\n",
       "      <td>838</td>\n",
       "      <td>7000</td>\n",
       "      <td>7000</td>\n",
       "      <td>7000.000000</td>\n",
       "    </tr>\n",
       "    <tr>\n",
       "      <th>unique</th>\n",
       "      <td>114</td>\n",
       "      <td>119</td>\n",
       "      <td>NaN</td>\n",
       "      <td>46</td>\n",
       "      <td>26</td>\n",
       "      <td>5</td>\n",
       "      <td>2</td>\n",
       "      <td>2</td>\n",
       "      <td>2</td>\n",
       "      <td>NaN</td>\n",
       "      <td>NaN</td>\n",
       "      <td>NaN</td>\n",
       "      <td>NaN</td>\n",
       "      <td>3</td>\n",
       "      <td>3</td>\n",
       "      <td>3</td>\n",
       "      <td>NaN</td>\n",
       "    </tr>\n",
       "    <tr>\n",
       "      <th>top</th>\n",
       "      <td>ADDRESS NOT LISTED IN PLAYSTORE</td>\n",
       "      <td>GLOBAL</td>\n",
       "      <td>NaN</td>\n",
       "      <td>Games</td>\n",
       "      <td>100 - 500</td>\n",
       "      <td>GLOBAL</td>\n",
       "      <td>True</td>\n",
       "      <td>False</td>\n",
       "      <td>high</td>\n",
       "      <td>NaN</td>\n",
       "      <td>NaN</td>\n",
       "      <td>NaN</td>\n",
       "      <td>NaN</td>\n",
       "      <td>medium</td>\n",
       "      <td>low</td>\n",
       "      <td>low</td>\n",
       "      <td>NaN</td>\n",
       "    </tr>\n",
       "    <tr>\n",
       "      <th>freq</th>\n",
       "      <td>4338</td>\n",
       "      <td>5802</td>\n",
       "      <td>NaN</td>\n",
       "      <td>1828</td>\n",
       "      <td>699</td>\n",
       "      <td>6045</td>\n",
       "      <td>6189</td>\n",
       "      <td>1424</td>\n",
       "      <td>1424</td>\n",
       "      <td>NaN</td>\n",
       "      <td>NaN</td>\n",
       "      <td>NaN</td>\n",
       "      <td>NaN</td>\n",
       "      <td>536</td>\n",
       "      <td>5652</td>\n",
       "      <td>6983</td>\n",
       "      <td>NaN</td>\n",
       "    </tr>\n",
       "    <tr>\n",
       "      <th>mean</th>\n",
       "      <td>NaN</td>\n",
       "      <td>NaN</td>\n",
       "      <td>3.256274e+04</td>\n",
       "      <td>NaN</td>\n",
       "      <td>NaN</td>\n",
       "      <td>NaN</td>\n",
       "      <td>NaN</td>\n",
       "      <td>NaN</td>\n",
       "      <td>NaN</td>\n",
       "      <td>45.740293</td>\n",
       "      <td>3.977563e+03</td>\n",
       "      <td>57.093060</td>\n",
       "      <td>2.482490</td>\n",
       "      <td>NaN</td>\n",
       "      <td>NaN</td>\n",
       "      <td>NaN</td>\n",
       "      <td>0.099429</td>\n",
       "    </tr>\n",
       "    <tr>\n",
       "      <th>std</th>\n",
       "      <td>NaN</td>\n",
       "      <td>NaN</td>\n",
       "      <td>5.501431e+05</td>\n",
       "      <td>NaN</td>\n",
       "      <td>NaN</td>\n",
       "      <td>NaN</td>\n",
       "      <td>NaN</td>\n",
       "      <td>NaN</td>\n",
       "      <td>NaN</td>\n",
       "      <td>49.361215</td>\n",
       "      <td>9.219919e+04</td>\n",
       "      <td>37.169895</td>\n",
       "      <td>1.905712</td>\n",
       "      <td>NaN</td>\n",
       "      <td>NaN</td>\n",
       "      <td>NaN</td>\n",
       "      <td>0.299258</td>\n",
       "    </tr>\n",
       "    <tr>\n",
       "      <th>min</th>\n",
       "      <td>NaN</td>\n",
       "      <td>NaN</td>\n",
       "      <td>0.000000e+00</td>\n",
       "      <td>NaN</td>\n",
       "      <td>NaN</td>\n",
       "      <td>NaN</td>\n",
       "      <td>NaN</td>\n",
       "      <td>NaN</td>\n",
       "      <td>NaN</td>\n",
       "      <td>0.000000</td>\n",
       "      <td>7.038525e-03</td>\n",
       "      <td>0.533333</td>\n",
       "      <td>0.000000</td>\n",
       "      <td>NaN</td>\n",
       "      <td>NaN</td>\n",
       "      <td>NaN</td>\n",
       "      <td>0.000000</td>\n",
       "    </tr>\n",
       "    <tr>\n",
       "      <th>25%</th>\n",
       "      <td>NaN</td>\n",
       "      <td>NaN</td>\n",
       "      <td>0.000000e+00</td>\n",
       "      <td>NaN</td>\n",
       "      <td>NaN</td>\n",
       "      <td>NaN</td>\n",
       "      <td>NaN</td>\n",
       "      <td>NaN</td>\n",
       "      <td>NaN</td>\n",
       "      <td>0.000000</td>\n",
       "      <td>1.086920e+00</td>\n",
       "      <td>27.533333</td>\n",
       "      <td>0.000000</td>\n",
       "      <td>NaN</td>\n",
       "      <td>NaN</td>\n",
       "      <td>NaN</td>\n",
       "      <td>0.000000</td>\n",
       "    </tr>\n",
       "    <tr>\n",
       "      <th>50%</th>\n",
       "      <td>NaN</td>\n",
       "      <td>NaN</td>\n",
       "      <td>1.000000e+00</td>\n",
       "      <td>NaN</td>\n",
       "      <td>NaN</td>\n",
       "      <td>NaN</td>\n",
       "      <td>NaN</td>\n",
       "      <td>NaN</td>\n",
       "      <td>NaN</td>\n",
       "      <td>0.000000</td>\n",
       "      <td>7.945580e+00</td>\n",
       "      <td>52.866667</td>\n",
       "      <td>3.000000</td>\n",
       "      <td>NaN</td>\n",
       "      <td>NaN</td>\n",
       "      <td>NaN</td>\n",
       "      <td>0.000000</td>\n",
       "    </tr>\n",
       "    <tr>\n",
       "      <th>75%</th>\n",
       "      <td>NaN</td>\n",
       "      <td>NaN</td>\n",
       "      <td>8.800000e+01</td>\n",
       "      <td>NaN</td>\n",
       "      <td>NaN</td>\n",
       "      <td>NaN</td>\n",
       "      <td>NaN</td>\n",
       "      <td>NaN</td>\n",
       "      <td>NaN</td>\n",
       "      <td>99.000000</td>\n",
       "      <td>4.908375e+01</td>\n",
       "      <td>80.000000</td>\n",
       "      <td>4.000000</td>\n",
       "      <td>NaN</td>\n",
       "      <td>NaN</td>\n",
       "      <td>NaN</td>\n",
       "      <td>0.000000</td>\n",
       "    </tr>\n",
       "    <tr>\n",
       "      <th>max</th>\n",
       "      <td>NaN</td>\n",
       "      <td>NaN</td>\n",
       "      <td>3.854334e+07</td>\n",
       "      <td>NaN</td>\n",
       "      <td>NaN</td>\n",
       "      <td>NaN</td>\n",
       "      <td>NaN</td>\n",
       "      <td>NaN</td>\n",
       "      <td>NaN</td>\n",
       "      <td>99.000000</td>\n",
       "      <td>3.143906e+06</td>\n",
       "      <td>196.466667</td>\n",
       "      <td>5.000000</td>\n",
       "      <td>NaN</td>\n",
       "      <td>NaN</td>\n",
       "      <td>NaN</td>\n",
       "      <td>1.000000</td>\n",
       "    </tr>\n",
       "  </tbody>\n",
       "</table>\n",
       "</div>"
      ],
      "text/plain": [
       "                       developerCountry countryCode  userRatingCount  \\\n",
       "count                              7000        6936     7.000000e+03   \n",
       "unique                              114         119              NaN   \n",
       "top     ADDRESS NOT LISTED IN PLAYSTORE      GLOBAL              NaN   \n",
       "freq                               4338        5802              NaN   \n",
       "mean                                NaN         NaN     3.256274e+04   \n",
       "std                                 NaN         NaN     5.501431e+05   \n",
       "min                                 NaN         NaN     0.000000e+00   \n",
       "25%                                 NaN         NaN     0.000000e+00   \n",
       "50%                                 NaN         NaN     1.000000e+00   \n",
       "75%                                 NaN         NaN     8.800000e+01   \n",
       "max                                 NaN         NaN     3.854334e+07   \n",
       "\n",
       "       primaryGenreName  downloads deviceType hasPrivacyLink  \\\n",
       "count              7000       4851       7000           6250   \n",
       "unique               46         26          5              2   \n",
       "top               Games  100 - 500     GLOBAL           True   \n",
       "freq               1828        699       6045           6189   \n",
       "mean                NaN        NaN        NaN            NaN   \n",
       "std                 NaN        NaN        NaN            NaN   \n",
       "min                 NaN        NaN        NaN            NaN   \n",
       "25%                 NaN        NaN        NaN            NaN   \n",
       "50%                 NaN        NaN        NaN            NaN   \n",
       "75%                 NaN        NaN        NaN            NaN   \n",
       "max                 NaN        NaN        NaN            NaN   \n",
       "\n",
       "       hasTermsOfServiceLink hasTermsOfServiceLinkRating  \\\n",
       "count                   2365                        2365   \n",
       "unique                     2                           2   \n",
       "top                    False                        high   \n",
       "freq                    1424                        1424   \n",
       "mean                     NaN                         NaN   \n",
       "std                      NaN                         NaN   \n",
       "min                      NaN                         NaN   \n",
       "25%                      NaN                         NaN   \n",
       "50%                      NaN                         NaN   \n",
       "75%                      NaN                         NaN   \n",
       "max                      NaN                         NaN   \n",
       "\n",
       "        isCorporateEmailScore       adSpent       appAge  averageUserRating  \\\n",
       "count             5872.000000  1.321000e+03  6950.000000        5768.000000   \n",
       "unique                    NaN           NaN          NaN                NaN   \n",
       "top                       NaN           NaN          NaN                NaN   \n",
       "freq                      NaN           NaN          NaN                NaN   \n",
       "mean                45.740293  3.977563e+03    57.093060           2.482490   \n",
       "std                 49.361215  9.219919e+04    37.169895           1.905712   \n",
       "min                  0.000000  7.038525e-03     0.533333           0.000000   \n",
       "25%                  0.000000  1.086920e+00    27.533333           0.000000   \n",
       "50%                  0.000000  7.945580e+00    52.866667           3.000000   \n",
       "75%                 99.000000  4.908375e+01    80.000000           4.000000   \n",
       "max                 99.000000  3.143906e+06   196.466667           5.000000   \n",
       "\n",
       "       appContentBrandSafetyRating appDescriptionBrandSafetyRating mfaRating  \\\n",
       "count                          838                            7000      7000   \n",
       "unique                           3                               3         3   \n",
       "top                         medium                             low       low   \n",
       "freq                           536                            5652      6983   \n",
       "mean                           NaN                             NaN       NaN   \n",
       "std                            NaN                             NaN       NaN   \n",
       "min                            NaN                             NaN       NaN   \n",
       "25%                            NaN                             NaN       NaN   \n",
       "50%                            NaN                             NaN       NaN   \n",
       "75%                            NaN                             NaN       NaN   \n",
       "max                            NaN                             NaN       NaN   \n",
       "\n",
       "             target  \n",
       "count   7000.000000  \n",
       "unique          NaN  \n",
       "top             NaN  \n",
       "freq            NaN  \n",
       "mean       0.099429  \n",
       "std        0.299258  \n",
       "min        0.000000  \n",
       "25%        0.000000  \n",
       "50%        0.000000  \n",
       "75%        0.000000  \n",
       "max        1.000000  "
      ]
     },
     "execution_count": 6,
     "metadata": {},
     "output_type": "execute_result"
    }
   ],
   "source": [
    "train.describe(include='all')"
   ]
  },
  {
   "cell_type": "code",
   "execution_count": 7,
   "id": "e18280d3",
   "metadata": {},
   "outputs": [
    {
     "data": {
      "application/vnd.microsoft.datawrangler.viewer.v0+json": {
       "columns": [
        {
         "name": "index",
         "rawType": "object",
         "type": "string"
        },
        {
         "name": "ID",
         "rawType": "float64",
         "type": "float"
        },
        {
         "name": "developerCountry",
         "rawType": "object",
         "type": "unknown"
        },
        {
         "name": "countryCode",
         "rawType": "object",
         "type": "unknown"
        },
        {
         "name": "userRatingCount",
         "rawType": "float64",
         "type": "float"
        },
        {
         "name": "primaryGenreName",
         "rawType": "object",
         "type": "unknown"
        },
        {
         "name": "downloads",
         "rawType": "object",
         "type": "unknown"
        },
        {
         "name": "deviceType",
         "rawType": "object",
         "type": "unknown"
        },
        {
         "name": "hasPrivacyLink",
         "rawType": "object",
         "type": "unknown"
        },
        {
         "name": "hasTermsOfServiceLink",
         "rawType": "object",
         "type": "unknown"
        },
        {
         "name": "hasTermsOfServiceLinkRating",
         "rawType": "object",
         "type": "unknown"
        },
        {
         "name": "isCorporateEmailScore",
         "rawType": "float64",
         "type": "float"
        },
        {
         "name": "adSpent",
         "rawType": "float64",
         "type": "float"
        },
        {
         "name": "appAge",
         "rawType": "float64",
         "type": "float"
        },
        {
         "name": "averageUserRating",
         "rawType": "float64",
         "type": "float"
        },
        {
         "name": "appContentBrandSafetyRating",
         "rawType": "object",
         "type": "unknown"
        },
        {
         "name": "appDescriptionBrandSafetyRating",
         "rawType": "object",
         "type": "unknown"
        },
        {
         "name": "mfaRating",
         "rawType": "object",
         "type": "unknown"
        }
       ],
       "conversionMethod": "pd.DataFrame",
       "ref": "54d6de81-d70b-4e9c-a198-0dc814a5fe13",
       "rows": [
        [
         "count",
         "3000.0",
         "3000",
         "2971",
         "3000.0",
         "3000",
         "2119",
         "3000",
         "2684",
         "1039",
         "1039",
         "2560.0",
         "574.0",
         "2983.0",
         "2486.0",
         "329",
         "3000",
         "3000"
        ],
        [
         "unique",
         null,
         "89",
         "92",
         null,
         "45",
         "21",
         "5",
         "2",
         "2",
         "2",
         null,
         null,
         null,
         null,
         "3",
         "3",
         "3"
        ],
        [
         "top",
         null,
         "ADDRESS NOT LISTED IN PLAYSTORE",
         "GLOBAL",
         null,
         "Games",
         "100 - 500",
         "GLOBAL",
         "True",
         "False",
         "high",
         null,
         null,
         null,
         null,
         "medium",
         "low",
         "low"
        ],
        [
         "freq",
         null,
         "1821",
         "2470",
         null,
         "805",
         "334",
         "2603",
         "2652",
         "643",
         "643",
         null,
         null,
         null,
         null,
         "213",
         "2451",
         "2996"
        ],
        [
         "mean",
         "5016.298333333333",
         null,
         null,
         "35769.051666666666",
         null,
         null,
         null,
         null,
         null,
         null,
         "46.444921875",
         "286.6122759516549",
         "56.04439602190188",
         "2.490748189863234",
         null,
         null,
         null
        ],
        [
         "std",
         "2894.99112777118",
         null,
         null,
         "445555.6489167612",
         null,
         null,
         null,
         null,
         null,
         null,
         "49.41528461171591",
         "1890.9976974797244",
         "36.41740951407488",
         "1.8962302121449945",
         null,
         null,
         null
        ],
        [
         "min",
         "1.0",
         null,
         null,
         "0.0",
         null,
         null,
         null,
         null,
         null,
         null,
         "0.0",
         "0.0074500863060989",
         "-1.2",
         "0.0",
         null,
         null,
         null
        ],
        [
         "25%",
         "2495.75",
         null,
         null,
         "0.0",
         null,
         null,
         null,
         null,
         null,
         null,
         "0.0",
         "1.121507413146169",
         "26.933333333333334",
         "0.0",
         null,
         null,
         null
        ],
        [
         "50%",
         "4969.5",
         null,
         null,
         "1.0",
         null,
         null,
         null,
         null,
         null,
         null,
         "0.0",
         "7.186536958075057",
         "51.93333333333333",
         "3.0",
         null,
         null,
         null
        ],
        [
         "75%",
         "7585.5",
         null,
         null,
         "82.5",
         null,
         null,
         null,
         null,
         null,
         null,
         "99.0",
         "44.878463216524295",
         "77.75",
         "4.0",
         null,
         null,
         null
        ],
        [
         "max",
         "9999.0",
         null,
         null,
         "13199411.0",
         null,
         null,
         null,
         null,
         null,
         null,
         "99.0",
         "37542.7796927614",
         "194.46666666666667",
         "5.0",
         null,
         null,
         null
        ]
       ],
       "shape": {
        "columns": 17,
        "rows": 11
       }
      },
      "text/html": [
       "<div>\n",
       "<style scoped>\n",
       "    .dataframe tbody tr th:only-of-type {\n",
       "        vertical-align: middle;\n",
       "    }\n",
       "\n",
       "    .dataframe tbody tr th {\n",
       "        vertical-align: top;\n",
       "    }\n",
       "\n",
       "    .dataframe thead th {\n",
       "        text-align: right;\n",
       "    }\n",
       "</style>\n",
       "<table border=\"1\" class=\"dataframe\">\n",
       "  <thead>\n",
       "    <tr style=\"text-align: right;\">\n",
       "      <th></th>\n",
       "      <th>ID</th>\n",
       "      <th>developerCountry</th>\n",
       "      <th>countryCode</th>\n",
       "      <th>userRatingCount</th>\n",
       "      <th>primaryGenreName</th>\n",
       "      <th>downloads</th>\n",
       "      <th>deviceType</th>\n",
       "      <th>hasPrivacyLink</th>\n",
       "      <th>hasTermsOfServiceLink</th>\n",
       "      <th>hasTermsOfServiceLinkRating</th>\n",
       "      <th>isCorporateEmailScore</th>\n",
       "      <th>adSpent</th>\n",
       "      <th>appAge</th>\n",
       "      <th>averageUserRating</th>\n",
       "      <th>appContentBrandSafetyRating</th>\n",
       "      <th>appDescriptionBrandSafetyRating</th>\n",
       "      <th>mfaRating</th>\n",
       "    </tr>\n",
       "  </thead>\n",
       "  <tbody>\n",
       "    <tr>\n",
       "      <th>count</th>\n",
       "      <td>3000.000000</td>\n",
       "      <td>3000</td>\n",
       "      <td>2971</td>\n",
       "      <td>3.000000e+03</td>\n",
       "      <td>3000</td>\n",
       "      <td>2119</td>\n",
       "      <td>3000</td>\n",
       "      <td>2684</td>\n",
       "      <td>1039</td>\n",
       "      <td>1039</td>\n",
       "      <td>2560.000000</td>\n",
       "      <td>574.000000</td>\n",
       "      <td>2983.000000</td>\n",
       "      <td>2486.000000</td>\n",
       "      <td>329</td>\n",
       "      <td>3000</td>\n",
       "      <td>3000</td>\n",
       "    </tr>\n",
       "    <tr>\n",
       "      <th>unique</th>\n",
       "      <td>NaN</td>\n",
       "      <td>89</td>\n",
       "      <td>92</td>\n",
       "      <td>NaN</td>\n",
       "      <td>45</td>\n",
       "      <td>21</td>\n",
       "      <td>5</td>\n",
       "      <td>2</td>\n",
       "      <td>2</td>\n",
       "      <td>2</td>\n",
       "      <td>NaN</td>\n",
       "      <td>NaN</td>\n",
       "      <td>NaN</td>\n",
       "      <td>NaN</td>\n",
       "      <td>3</td>\n",
       "      <td>3</td>\n",
       "      <td>3</td>\n",
       "    </tr>\n",
       "    <tr>\n",
       "      <th>top</th>\n",
       "      <td>NaN</td>\n",
       "      <td>ADDRESS NOT LISTED IN PLAYSTORE</td>\n",
       "      <td>GLOBAL</td>\n",
       "      <td>NaN</td>\n",
       "      <td>Games</td>\n",
       "      <td>100 - 500</td>\n",
       "      <td>GLOBAL</td>\n",
       "      <td>True</td>\n",
       "      <td>False</td>\n",
       "      <td>high</td>\n",
       "      <td>NaN</td>\n",
       "      <td>NaN</td>\n",
       "      <td>NaN</td>\n",
       "      <td>NaN</td>\n",
       "      <td>medium</td>\n",
       "      <td>low</td>\n",
       "      <td>low</td>\n",
       "    </tr>\n",
       "    <tr>\n",
       "      <th>freq</th>\n",
       "      <td>NaN</td>\n",
       "      <td>1821</td>\n",
       "      <td>2470</td>\n",
       "      <td>NaN</td>\n",
       "      <td>805</td>\n",
       "      <td>334</td>\n",
       "      <td>2603</td>\n",
       "      <td>2652</td>\n",
       "      <td>643</td>\n",
       "      <td>643</td>\n",
       "      <td>NaN</td>\n",
       "      <td>NaN</td>\n",
       "      <td>NaN</td>\n",
       "      <td>NaN</td>\n",
       "      <td>213</td>\n",
       "      <td>2451</td>\n",
       "      <td>2996</td>\n",
       "    </tr>\n",
       "    <tr>\n",
       "      <th>mean</th>\n",
       "      <td>5016.298333</td>\n",
       "      <td>NaN</td>\n",
       "      <td>NaN</td>\n",
       "      <td>3.576905e+04</td>\n",
       "      <td>NaN</td>\n",
       "      <td>NaN</td>\n",
       "      <td>NaN</td>\n",
       "      <td>NaN</td>\n",
       "      <td>NaN</td>\n",
       "      <td>NaN</td>\n",
       "      <td>46.444922</td>\n",
       "      <td>286.612276</td>\n",
       "      <td>56.044396</td>\n",
       "      <td>2.490748</td>\n",
       "      <td>NaN</td>\n",
       "      <td>NaN</td>\n",
       "      <td>NaN</td>\n",
       "    </tr>\n",
       "    <tr>\n",
       "      <th>std</th>\n",
       "      <td>2894.991128</td>\n",
       "      <td>NaN</td>\n",
       "      <td>NaN</td>\n",
       "      <td>4.455556e+05</td>\n",
       "      <td>NaN</td>\n",
       "      <td>NaN</td>\n",
       "      <td>NaN</td>\n",
       "      <td>NaN</td>\n",
       "      <td>NaN</td>\n",
       "      <td>NaN</td>\n",
       "      <td>49.415285</td>\n",
       "      <td>1890.997697</td>\n",
       "      <td>36.417410</td>\n",
       "      <td>1.896230</td>\n",
       "      <td>NaN</td>\n",
       "      <td>NaN</td>\n",
       "      <td>NaN</td>\n",
       "    </tr>\n",
       "    <tr>\n",
       "      <th>min</th>\n",
       "      <td>1.000000</td>\n",
       "      <td>NaN</td>\n",
       "      <td>NaN</td>\n",
       "      <td>0.000000e+00</td>\n",
       "      <td>NaN</td>\n",
       "      <td>NaN</td>\n",
       "      <td>NaN</td>\n",
       "      <td>NaN</td>\n",
       "      <td>NaN</td>\n",
       "      <td>NaN</td>\n",
       "      <td>0.000000</td>\n",
       "      <td>0.007450</td>\n",
       "      <td>-1.200000</td>\n",
       "      <td>0.000000</td>\n",
       "      <td>NaN</td>\n",
       "      <td>NaN</td>\n",
       "      <td>NaN</td>\n",
       "    </tr>\n",
       "    <tr>\n",
       "      <th>25%</th>\n",
       "      <td>2495.750000</td>\n",
       "      <td>NaN</td>\n",
       "      <td>NaN</td>\n",
       "      <td>0.000000e+00</td>\n",
       "      <td>NaN</td>\n",
       "      <td>NaN</td>\n",
       "      <td>NaN</td>\n",
       "      <td>NaN</td>\n",
       "      <td>NaN</td>\n",
       "      <td>NaN</td>\n",
       "      <td>0.000000</td>\n",
       "      <td>1.121507</td>\n",
       "      <td>26.933333</td>\n",
       "      <td>0.000000</td>\n",
       "      <td>NaN</td>\n",
       "      <td>NaN</td>\n",
       "      <td>NaN</td>\n",
       "    </tr>\n",
       "    <tr>\n",
       "      <th>50%</th>\n",
       "      <td>4969.500000</td>\n",
       "      <td>NaN</td>\n",
       "      <td>NaN</td>\n",
       "      <td>1.000000e+00</td>\n",
       "      <td>NaN</td>\n",
       "      <td>NaN</td>\n",
       "      <td>NaN</td>\n",
       "      <td>NaN</td>\n",
       "      <td>NaN</td>\n",
       "      <td>NaN</td>\n",
       "      <td>0.000000</td>\n",
       "      <td>7.186537</td>\n",
       "      <td>51.933333</td>\n",
       "      <td>3.000000</td>\n",
       "      <td>NaN</td>\n",
       "      <td>NaN</td>\n",
       "      <td>NaN</td>\n",
       "    </tr>\n",
       "    <tr>\n",
       "      <th>75%</th>\n",
       "      <td>7585.500000</td>\n",
       "      <td>NaN</td>\n",
       "      <td>NaN</td>\n",
       "      <td>8.250000e+01</td>\n",
       "      <td>NaN</td>\n",
       "      <td>NaN</td>\n",
       "      <td>NaN</td>\n",
       "      <td>NaN</td>\n",
       "      <td>NaN</td>\n",
       "      <td>NaN</td>\n",
       "      <td>99.000000</td>\n",
       "      <td>44.878463</td>\n",
       "      <td>77.750000</td>\n",
       "      <td>4.000000</td>\n",
       "      <td>NaN</td>\n",
       "      <td>NaN</td>\n",
       "      <td>NaN</td>\n",
       "    </tr>\n",
       "    <tr>\n",
       "      <th>max</th>\n",
       "      <td>9999.000000</td>\n",
       "      <td>NaN</td>\n",
       "      <td>NaN</td>\n",
       "      <td>1.319941e+07</td>\n",
       "      <td>NaN</td>\n",
       "      <td>NaN</td>\n",
       "      <td>NaN</td>\n",
       "      <td>NaN</td>\n",
       "      <td>NaN</td>\n",
       "      <td>NaN</td>\n",
       "      <td>99.000000</td>\n",
       "      <td>37542.779693</td>\n",
       "      <td>194.466667</td>\n",
       "      <td>5.000000</td>\n",
       "      <td>NaN</td>\n",
       "      <td>NaN</td>\n",
       "      <td>NaN</td>\n",
       "    </tr>\n",
       "  </tbody>\n",
       "</table>\n",
       "</div>"
      ],
      "text/plain": [
       "                 ID                 developerCountry countryCode  \\\n",
       "count   3000.000000                             3000        2971   \n",
       "unique          NaN                               89          92   \n",
       "top             NaN  ADDRESS NOT LISTED IN PLAYSTORE      GLOBAL   \n",
       "freq            NaN                             1821        2470   \n",
       "mean    5016.298333                              NaN         NaN   \n",
       "std     2894.991128                              NaN         NaN   \n",
       "min        1.000000                              NaN         NaN   \n",
       "25%     2495.750000                              NaN         NaN   \n",
       "50%     4969.500000                              NaN         NaN   \n",
       "75%     7585.500000                              NaN         NaN   \n",
       "max     9999.000000                              NaN         NaN   \n",
       "\n",
       "        userRatingCount primaryGenreName  downloads deviceType hasPrivacyLink  \\\n",
       "count      3.000000e+03             3000       2119       3000           2684   \n",
       "unique              NaN               45         21          5              2   \n",
       "top                 NaN            Games  100 - 500     GLOBAL           True   \n",
       "freq                NaN              805        334       2603           2652   \n",
       "mean       3.576905e+04              NaN        NaN        NaN            NaN   \n",
       "std        4.455556e+05              NaN        NaN        NaN            NaN   \n",
       "min        0.000000e+00              NaN        NaN        NaN            NaN   \n",
       "25%        0.000000e+00              NaN        NaN        NaN            NaN   \n",
       "50%        1.000000e+00              NaN        NaN        NaN            NaN   \n",
       "75%        8.250000e+01              NaN        NaN        NaN            NaN   \n",
       "max        1.319941e+07              NaN        NaN        NaN            NaN   \n",
       "\n",
       "       hasTermsOfServiceLink hasTermsOfServiceLinkRating  \\\n",
       "count                   1039                        1039   \n",
       "unique                     2                           2   \n",
       "top                    False                        high   \n",
       "freq                     643                         643   \n",
       "mean                     NaN                         NaN   \n",
       "std                      NaN                         NaN   \n",
       "min                      NaN                         NaN   \n",
       "25%                      NaN                         NaN   \n",
       "50%                      NaN                         NaN   \n",
       "75%                      NaN                         NaN   \n",
       "max                      NaN                         NaN   \n",
       "\n",
       "        isCorporateEmailScore       adSpent       appAge  averageUserRating  \\\n",
       "count             2560.000000    574.000000  2983.000000        2486.000000   \n",
       "unique                    NaN           NaN          NaN                NaN   \n",
       "top                       NaN           NaN          NaN                NaN   \n",
       "freq                      NaN           NaN          NaN                NaN   \n",
       "mean                46.444922    286.612276    56.044396           2.490748   \n",
       "std                 49.415285   1890.997697    36.417410           1.896230   \n",
       "min                  0.000000      0.007450    -1.200000           0.000000   \n",
       "25%                  0.000000      1.121507    26.933333           0.000000   \n",
       "50%                  0.000000      7.186537    51.933333           3.000000   \n",
       "75%                 99.000000     44.878463    77.750000           4.000000   \n",
       "max                 99.000000  37542.779693   194.466667           5.000000   \n",
       "\n",
       "       appContentBrandSafetyRating appDescriptionBrandSafetyRating mfaRating  \n",
       "count                          329                            3000      3000  \n",
       "unique                           3                               3         3  \n",
       "top                         medium                             low       low  \n",
       "freq                           213                            2451      2996  \n",
       "mean                           NaN                             NaN       NaN  \n",
       "std                            NaN                             NaN       NaN  \n",
       "min                            NaN                             NaN       NaN  \n",
       "25%                            NaN                             NaN       NaN  \n",
       "50%                            NaN                             NaN       NaN  \n",
       "75%                            NaN                             NaN       NaN  \n",
       "max                            NaN                             NaN       NaN  "
      ]
     },
     "execution_count": 7,
     "metadata": {},
     "output_type": "execute_result"
    }
   ],
   "source": [
    "test.describe(include='all')"
   ]
  },
  {
   "cell_type": "code",
   "execution_count": 8,
   "id": "3ed5ac18",
   "metadata": {},
   "outputs": [
    {
     "data": {
      "application/vnd.microsoft.datawrangler.viewer.v0+json": {
       "columns": [
        {
         "name": "index",
         "rawType": "int64",
         "type": "integer"
        },
        {
         "name": "developerCountry",
         "rawType": "object",
         "type": "string"
        },
        {
         "name": "countryCode",
         "rawType": "object",
         "type": "string"
        },
        {
         "name": "userRatingCount",
         "rawType": "int64",
         "type": "integer"
        },
        {
         "name": "primaryGenreName",
         "rawType": "object",
         "type": "string"
        },
        {
         "name": "downloads",
         "rawType": "object",
         "type": "unknown"
        },
        {
         "name": "deviceType",
         "rawType": "object",
         "type": "string"
        },
        {
         "name": "hasPrivacyLink",
         "rawType": "object",
         "type": "unknown"
        },
        {
         "name": "hasTermsOfServiceLink",
         "rawType": "object",
         "type": "unknown"
        },
        {
         "name": "hasTermsOfServiceLinkRating",
         "rawType": "object",
         "type": "unknown"
        },
        {
         "name": "isCorporateEmailScore",
         "rawType": "float64",
         "type": "float"
        },
        {
         "name": "adSpent",
         "rawType": "float64",
         "type": "float"
        },
        {
         "name": "appAge",
         "rawType": "float64",
         "type": "float"
        },
        {
         "name": "averageUserRating",
         "rawType": "float64",
         "type": "float"
        },
        {
         "name": "appContentBrandSafetyRating",
         "rawType": "object",
         "type": "unknown"
        },
        {
         "name": "appDescriptionBrandSafetyRating",
         "rawType": "object",
         "type": "string"
        },
        {
         "name": "mfaRating",
         "rawType": "object",
         "type": "string"
        },
        {
         "name": "target",
         "rawType": "int32",
         "type": "integer"
        }
       ],
       "conversionMethod": "pd.DataFrame",
       "ref": "e41fadbe-0833-4fe0-99be-173542a9f646",
       "rows": [
        [
         "0",
         "NORWAY",
         "RO",
         "127731",
         "Sports",
         null,
         "smartphone",
         "True",
         "True",
         "low",
         "99.0",
         "14.017220031335052",
         "160.4",
         "4.0",
         "medium",
         "low",
         "low",
         "0"
        ],
        [
         "1",
         "ADDRESS NOT LISTED IN PLAYSTORE",
         "GLOBAL",
         "0",
         "Medical",
         "50 - 100",
         "GLOBAL",
         "True",
         null,
         null,
         "99.0",
         null,
         "17.5",
         "0.0",
         null,
         "low",
         "low",
         "0"
        ],
        [
         "2",
         "UNITED ARAB EMIRATES",
         "CZ",
         "51143",
         "Games",
         "50000000 - 100000000",
         "GLOBAL",
         "True",
         "True",
         "low",
         "0.0",
         "31.883162966505576",
         "30.766666666666666",
         "4.0",
         null,
         "low",
         "low",
         "0"
        ],
        [
         "3",
         "GERMANY",
         "GLOBAL",
         "1074",
         "Games",
         null,
         "GLOBAL",
         "True",
         null,
         null,
         "99.0",
         null,
         "71.53333333333333",
         "4.0",
         null,
         "low",
         "low",
         "0"
        ],
        [
         "4",
         "CANNOT IDENTIFY COUNTRY",
         "GLOBAL",
         "17",
         "Tools",
         "1000 - 5000",
         "GLOBAL",
         "True",
         null,
         null,
         "99.0",
         null,
         "52.4",
         "4.0",
         null,
         "low",
         "low",
         "0"
        ]
       ],
       "shape": {
        "columns": 17,
        "rows": 5
       }
      },
      "text/html": [
       "<div>\n",
       "<style scoped>\n",
       "    .dataframe tbody tr th:only-of-type {\n",
       "        vertical-align: middle;\n",
       "    }\n",
       "\n",
       "    .dataframe tbody tr th {\n",
       "        vertical-align: top;\n",
       "    }\n",
       "\n",
       "    .dataframe thead th {\n",
       "        text-align: right;\n",
       "    }\n",
       "</style>\n",
       "<table border=\"1\" class=\"dataframe\">\n",
       "  <thead>\n",
       "    <tr style=\"text-align: right;\">\n",
       "      <th></th>\n",
       "      <th>developerCountry</th>\n",
       "      <th>countryCode</th>\n",
       "      <th>userRatingCount</th>\n",
       "      <th>primaryGenreName</th>\n",
       "      <th>downloads</th>\n",
       "      <th>deviceType</th>\n",
       "      <th>hasPrivacyLink</th>\n",
       "      <th>hasTermsOfServiceLink</th>\n",
       "      <th>hasTermsOfServiceLinkRating</th>\n",
       "      <th>isCorporateEmailScore</th>\n",
       "      <th>adSpent</th>\n",
       "      <th>appAge</th>\n",
       "      <th>averageUserRating</th>\n",
       "      <th>appContentBrandSafetyRating</th>\n",
       "      <th>appDescriptionBrandSafetyRating</th>\n",
       "      <th>mfaRating</th>\n",
       "      <th>target</th>\n",
       "    </tr>\n",
       "  </thead>\n",
       "  <tbody>\n",
       "    <tr>\n",
       "      <th>0</th>\n",
       "      <td>NORWAY</td>\n",
       "      <td>RO</td>\n",
       "      <td>127731</td>\n",
       "      <td>Sports</td>\n",
       "      <td>NaN</td>\n",
       "      <td>smartphone</td>\n",
       "      <td>True</td>\n",
       "      <td>True</td>\n",
       "      <td>low</td>\n",
       "      <td>99.0</td>\n",
       "      <td>14.017220</td>\n",
       "      <td>160.400000</td>\n",
       "      <td>4.0</td>\n",
       "      <td>medium</td>\n",
       "      <td>low</td>\n",
       "      <td>low</td>\n",
       "      <td>0</td>\n",
       "    </tr>\n",
       "    <tr>\n",
       "      <th>1</th>\n",
       "      <td>ADDRESS NOT LISTED IN PLAYSTORE</td>\n",
       "      <td>GLOBAL</td>\n",
       "      <td>0</td>\n",
       "      <td>Medical</td>\n",
       "      <td>50 - 100</td>\n",
       "      <td>GLOBAL</td>\n",
       "      <td>True</td>\n",
       "      <td>NaN</td>\n",
       "      <td>NaN</td>\n",
       "      <td>99.0</td>\n",
       "      <td>NaN</td>\n",
       "      <td>17.500000</td>\n",
       "      <td>0.0</td>\n",
       "      <td>NaN</td>\n",
       "      <td>low</td>\n",
       "      <td>low</td>\n",
       "      <td>0</td>\n",
       "    </tr>\n",
       "    <tr>\n",
       "      <th>2</th>\n",
       "      <td>UNITED ARAB EMIRATES</td>\n",
       "      <td>CZ</td>\n",
       "      <td>51143</td>\n",
       "      <td>Games</td>\n",
       "      <td>50000000 - 100000000</td>\n",
       "      <td>GLOBAL</td>\n",
       "      <td>True</td>\n",
       "      <td>True</td>\n",
       "      <td>low</td>\n",
       "      <td>0.0</td>\n",
       "      <td>31.883163</td>\n",
       "      <td>30.766667</td>\n",
       "      <td>4.0</td>\n",
       "      <td>NaN</td>\n",
       "      <td>low</td>\n",
       "      <td>low</td>\n",
       "      <td>0</td>\n",
       "    </tr>\n",
       "    <tr>\n",
       "      <th>3</th>\n",
       "      <td>GERMANY</td>\n",
       "      <td>GLOBAL</td>\n",
       "      <td>1074</td>\n",
       "      <td>Games</td>\n",
       "      <td>NaN</td>\n",
       "      <td>GLOBAL</td>\n",
       "      <td>True</td>\n",
       "      <td>NaN</td>\n",
       "      <td>NaN</td>\n",
       "      <td>99.0</td>\n",
       "      <td>NaN</td>\n",
       "      <td>71.533333</td>\n",
       "      <td>4.0</td>\n",
       "      <td>NaN</td>\n",
       "      <td>low</td>\n",
       "      <td>low</td>\n",
       "      <td>0</td>\n",
       "    </tr>\n",
       "    <tr>\n",
       "      <th>4</th>\n",
       "      <td>CANNOT IDENTIFY COUNTRY</td>\n",
       "      <td>GLOBAL</td>\n",
       "      <td>17</td>\n",
       "      <td>Tools</td>\n",
       "      <td>1000 - 5000</td>\n",
       "      <td>GLOBAL</td>\n",
       "      <td>True</td>\n",
       "      <td>NaN</td>\n",
       "      <td>NaN</td>\n",
       "      <td>99.0</td>\n",
       "      <td>NaN</td>\n",
       "      <td>52.400000</td>\n",
       "      <td>4.0</td>\n",
       "      <td>NaN</td>\n",
       "      <td>low</td>\n",
       "      <td>low</td>\n",
       "      <td>0</td>\n",
       "    </tr>\n",
       "  </tbody>\n",
       "</table>\n",
       "</div>"
      ],
      "text/plain": [
       "                  developerCountry countryCode  userRatingCount  \\\n",
       "0                           NORWAY          RO           127731   \n",
       "1  ADDRESS NOT LISTED IN PLAYSTORE      GLOBAL                0   \n",
       "2             UNITED ARAB EMIRATES          CZ            51143   \n",
       "3                          GERMANY      GLOBAL             1074   \n",
       "4          CANNOT IDENTIFY COUNTRY      GLOBAL               17   \n",
       "\n",
       "  primaryGenreName             downloads  deviceType hasPrivacyLink  \\\n",
       "0           Sports                   NaN  smartphone           True   \n",
       "1          Medical              50 - 100      GLOBAL           True   \n",
       "2            Games  50000000 - 100000000      GLOBAL           True   \n",
       "3            Games                   NaN      GLOBAL           True   \n",
       "4            Tools           1000 - 5000      GLOBAL           True   \n",
       "\n",
       "  hasTermsOfServiceLink hasTermsOfServiceLinkRating  isCorporateEmailScore  \\\n",
       "0                  True                         low                   99.0   \n",
       "1                   NaN                         NaN                   99.0   \n",
       "2                  True                         low                    0.0   \n",
       "3                   NaN                         NaN                   99.0   \n",
       "4                   NaN                         NaN                   99.0   \n",
       "\n",
       "     adSpent      appAge  averageUserRating appContentBrandSafetyRating  \\\n",
       "0  14.017220  160.400000                4.0                      medium   \n",
       "1        NaN   17.500000                0.0                         NaN   \n",
       "2  31.883163   30.766667                4.0                         NaN   \n",
       "3        NaN   71.533333                4.0                         NaN   \n",
       "4        NaN   52.400000                4.0                         NaN   \n",
       "\n",
       "  appDescriptionBrandSafetyRating mfaRating  target  \n",
       "0                             low       low       0  \n",
       "1                             low       low       0  \n",
       "2                             low       low       0  \n",
       "3                             low       low       0  \n",
       "4                             low       low       0  "
      ]
     },
     "execution_count": 8,
     "metadata": {},
     "output_type": "execute_result"
    }
   ],
   "source": [
    "train.head()"
   ]
  },
  {
   "cell_type": "code",
   "execution_count": 9,
   "id": "846eace1",
   "metadata": {},
   "outputs": [
    {
     "data": {
      "application/vnd.microsoft.datawrangler.viewer.v0+json": {
       "columns": [
        {
         "name": "index",
         "rawType": "int64",
         "type": "integer"
        },
        {
         "name": "ID",
         "rawType": "int64",
         "type": "integer"
        },
        {
         "name": "developerCountry",
         "rawType": "object",
         "type": "string"
        },
        {
         "name": "countryCode",
         "rawType": "object",
         "type": "string"
        },
        {
         "name": "userRatingCount",
         "rawType": "int64",
         "type": "integer"
        },
        {
         "name": "primaryGenreName",
         "rawType": "object",
         "type": "string"
        },
        {
         "name": "downloads",
         "rawType": "object",
         "type": "unknown"
        },
        {
         "name": "deviceType",
         "rawType": "object",
         "type": "string"
        },
        {
         "name": "hasPrivacyLink",
         "rawType": "object",
         "type": "unknown"
        },
        {
         "name": "hasTermsOfServiceLink",
         "rawType": "object",
         "type": "unknown"
        },
        {
         "name": "hasTermsOfServiceLinkRating",
         "rawType": "object",
         "type": "unknown"
        },
        {
         "name": "isCorporateEmailScore",
         "rawType": "float64",
         "type": "float"
        },
        {
         "name": "adSpent",
         "rawType": "float64",
         "type": "float"
        },
        {
         "name": "appAge",
         "rawType": "float64",
         "type": "float"
        },
        {
         "name": "averageUserRating",
         "rawType": "float64",
         "type": "float"
        },
        {
         "name": "appContentBrandSafetyRating",
         "rawType": "object",
         "type": "unknown"
        },
        {
         "name": "appDescriptionBrandSafetyRating",
         "rawType": "object",
         "type": "string"
        },
        {
         "name": "mfaRating",
         "rawType": "object",
         "type": "string"
        }
       ],
       "conversionMethod": "pd.DataFrame",
       "ref": "cf4dba1a-a8b3-4665-810c-a1f303310094",
       "rows": [
        [
         "0",
         "2807",
         "ADDRESS NOT LISTED IN PLAYSTORE",
         "GLOBAL",
         "2",
         "Medical",
         null,
         "GLOBAL",
         "True",
         null,
         null,
         null,
         null,
         "81.6",
         "5.0",
         null,
         "low",
         "low"
        ],
        [
         "1",
         "1742",
         "ICELAND",
         "EMEA",
         "0",
         "Games",
         "5000 - 10000",
         "GLOBAL",
         "True",
         "True",
         "low",
         "0.0",
         "0.0277423323266787",
         "24.7",
         "0.0",
         null,
         "low",
         "low"
        ],
        [
         "2",
         "806",
         "UNITED STATES",
         "RU",
         "13059",
         "Games",
         null,
         "smartphone",
         "True",
         "False",
         "high",
         "99.0",
         "9.2490563735218",
         "40.3",
         "4.0",
         null,
         "low",
         "low"
        ],
        [
         "3",
         "2635",
         "ADDRESS NOT LISTED IN PLAYSTORE",
         "GLOBAL",
         "0",
         "Games",
         null,
         "GLOBAL",
         "True",
         "False",
         "high",
         null,
         null,
         "39.23333333333333",
         "0.0",
         null,
         "medium",
         "low"
        ],
        [
         "4",
         "9047",
         "ADDRESS NOT LISTED IN PLAYSTORE",
         "GLOBAL",
         "0",
         "Shopping",
         null,
         "GLOBAL",
         null,
         null,
         null,
         null,
         null,
         "65.53333333333333",
         "0.0",
         null,
         "low",
         "low"
        ]
       ],
       "shape": {
        "columns": 17,
        "rows": 5
       }
      },
      "text/html": [
       "<div>\n",
       "<style scoped>\n",
       "    .dataframe tbody tr th:only-of-type {\n",
       "        vertical-align: middle;\n",
       "    }\n",
       "\n",
       "    .dataframe tbody tr th {\n",
       "        vertical-align: top;\n",
       "    }\n",
       "\n",
       "    .dataframe thead th {\n",
       "        text-align: right;\n",
       "    }\n",
       "</style>\n",
       "<table border=\"1\" class=\"dataframe\">\n",
       "  <thead>\n",
       "    <tr style=\"text-align: right;\">\n",
       "      <th></th>\n",
       "      <th>ID</th>\n",
       "      <th>developerCountry</th>\n",
       "      <th>countryCode</th>\n",
       "      <th>userRatingCount</th>\n",
       "      <th>primaryGenreName</th>\n",
       "      <th>downloads</th>\n",
       "      <th>deviceType</th>\n",
       "      <th>hasPrivacyLink</th>\n",
       "      <th>hasTermsOfServiceLink</th>\n",
       "      <th>hasTermsOfServiceLinkRating</th>\n",
       "      <th>isCorporateEmailScore</th>\n",
       "      <th>adSpent</th>\n",
       "      <th>appAge</th>\n",
       "      <th>averageUserRating</th>\n",
       "      <th>appContentBrandSafetyRating</th>\n",
       "      <th>appDescriptionBrandSafetyRating</th>\n",
       "      <th>mfaRating</th>\n",
       "    </tr>\n",
       "  </thead>\n",
       "  <tbody>\n",
       "    <tr>\n",
       "      <th>0</th>\n",
       "      <td>2807</td>\n",
       "      <td>ADDRESS NOT LISTED IN PLAYSTORE</td>\n",
       "      <td>GLOBAL</td>\n",
       "      <td>2</td>\n",
       "      <td>Medical</td>\n",
       "      <td>NaN</td>\n",
       "      <td>GLOBAL</td>\n",
       "      <td>True</td>\n",
       "      <td>NaN</td>\n",
       "      <td>NaN</td>\n",
       "      <td>NaN</td>\n",
       "      <td>NaN</td>\n",
       "      <td>81.600000</td>\n",
       "      <td>5.0</td>\n",
       "      <td>NaN</td>\n",
       "      <td>low</td>\n",
       "      <td>low</td>\n",
       "    </tr>\n",
       "    <tr>\n",
       "      <th>1</th>\n",
       "      <td>1742</td>\n",
       "      <td>ICELAND</td>\n",
       "      <td>EMEA</td>\n",
       "      <td>0</td>\n",
       "      <td>Games</td>\n",
       "      <td>5000 - 10000</td>\n",
       "      <td>GLOBAL</td>\n",
       "      <td>True</td>\n",
       "      <td>True</td>\n",
       "      <td>low</td>\n",
       "      <td>0.0</td>\n",
       "      <td>0.027742</td>\n",
       "      <td>24.700000</td>\n",
       "      <td>0.0</td>\n",
       "      <td>NaN</td>\n",
       "      <td>low</td>\n",
       "      <td>low</td>\n",
       "    </tr>\n",
       "    <tr>\n",
       "      <th>2</th>\n",
       "      <td>806</td>\n",
       "      <td>UNITED STATES</td>\n",
       "      <td>RU</td>\n",
       "      <td>13059</td>\n",
       "      <td>Games</td>\n",
       "      <td>NaN</td>\n",
       "      <td>smartphone</td>\n",
       "      <td>True</td>\n",
       "      <td>False</td>\n",
       "      <td>high</td>\n",
       "      <td>99.0</td>\n",
       "      <td>9.249056</td>\n",
       "      <td>40.300000</td>\n",
       "      <td>4.0</td>\n",
       "      <td>NaN</td>\n",
       "      <td>low</td>\n",
       "      <td>low</td>\n",
       "    </tr>\n",
       "    <tr>\n",
       "      <th>3</th>\n",
       "      <td>2635</td>\n",
       "      <td>ADDRESS NOT LISTED IN PLAYSTORE</td>\n",
       "      <td>GLOBAL</td>\n",
       "      <td>0</td>\n",
       "      <td>Games</td>\n",
       "      <td>NaN</td>\n",
       "      <td>GLOBAL</td>\n",
       "      <td>True</td>\n",
       "      <td>False</td>\n",
       "      <td>high</td>\n",
       "      <td>NaN</td>\n",
       "      <td>NaN</td>\n",
       "      <td>39.233333</td>\n",
       "      <td>0.0</td>\n",
       "      <td>NaN</td>\n",
       "      <td>medium</td>\n",
       "      <td>low</td>\n",
       "    </tr>\n",
       "    <tr>\n",
       "      <th>4</th>\n",
       "      <td>9047</td>\n",
       "      <td>ADDRESS NOT LISTED IN PLAYSTORE</td>\n",
       "      <td>GLOBAL</td>\n",
       "      <td>0</td>\n",
       "      <td>Shopping</td>\n",
       "      <td>NaN</td>\n",
       "      <td>GLOBAL</td>\n",
       "      <td>NaN</td>\n",
       "      <td>NaN</td>\n",
       "      <td>NaN</td>\n",
       "      <td>NaN</td>\n",
       "      <td>NaN</td>\n",
       "      <td>65.533333</td>\n",
       "      <td>0.0</td>\n",
       "      <td>NaN</td>\n",
       "      <td>low</td>\n",
       "      <td>low</td>\n",
       "    </tr>\n",
       "  </tbody>\n",
       "</table>\n",
       "</div>"
      ],
      "text/plain": [
       "     ID                 developerCountry countryCode  userRatingCount  \\\n",
       "0  2807  ADDRESS NOT LISTED IN PLAYSTORE      GLOBAL                2   \n",
       "1  1742                          ICELAND        EMEA                0   \n",
       "2   806                    UNITED STATES          RU            13059   \n",
       "3  2635  ADDRESS NOT LISTED IN PLAYSTORE      GLOBAL                0   \n",
       "4  9047  ADDRESS NOT LISTED IN PLAYSTORE      GLOBAL                0   \n",
       "\n",
       "  primaryGenreName     downloads  deviceType hasPrivacyLink  \\\n",
       "0          Medical           NaN      GLOBAL           True   \n",
       "1            Games  5000 - 10000      GLOBAL           True   \n",
       "2            Games           NaN  smartphone           True   \n",
       "3            Games           NaN      GLOBAL           True   \n",
       "4         Shopping           NaN      GLOBAL            NaN   \n",
       "\n",
       "  hasTermsOfServiceLink hasTermsOfServiceLinkRating  isCorporateEmailScore  \\\n",
       "0                   NaN                         NaN                    NaN   \n",
       "1                  True                         low                    0.0   \n",
       "2                 False                        high                   99.0   \n",
       "3                 False                        high                    NaN   \n",
       "4                   NaN                         NaN                    NaN   \n",
       "\n",
       "    adSpent     appAge  averageUserRating appContentBrandSafetyRating  \\\n",
       "0       NaN  81.600000                5.0                         NaN   \n",
       "1  0.027742  24.700000                0.0                         NaN   \n",
       "2  9.249056  40.300000                4.0                         NaN   \n",
       "3       NaN  39.233333                0.0                         NaN   \n",
       "4       NaN  65.533333                0.0                         NaN   \n",
       "\n",
       "  appDescriptionBrandSafetyRating mfaRating  \n",
       "0                             low       low  \n",
       "1                             low       low  \n",
       "2                             low       low  \n",
       "3                          medium       low  \n",
       "4                             low       low  "
      ]
     },
     "execution_count": 9,
     "metadata": {},
     "output_type": "execute_result"
    }
   ],
   "source": [
    "test.head()"
   ]
  },
  {
   "cell_type": "code",
   "execution_count": 10,
   "id": "f7bf0754",
   "metadata": {},
   "outputs": [
    {
     "data": {
      "text/plain": [
       "developerCountry                      0\n",
       "countryCode                          64\n",
       "userRatingCount                       0\n",
       "primaryGenreName                      0\n",
       "downloads                          2149\n",
       "deviceType                            0\n",
       "hasPrivacyLink                      750\n",
       "hasTermsOfServiceLink              4635\n",
       "hasTermsOfServiceLinkRating        4635\n",
       "isCorporateEmailScore              1128\n",
       "adSpent                            5679\n",
       "appAge                               50\n",
       "averageUserRating                  1232\n",
       "appContentBrandSafetyRating        6162\n",
       "appDescriptionBrandSafetyRating       0\n",
       "mfaRating                             0\n",
       "target                                0\n",
       "dtype: int64"
      ]
     },
     "execution_count": 10,
     "metadata": {},
     "output_type": "execute_result"
    }
   ],
   "source": [
    "train.isnull().sum()"
   ]
  },
  {
   "cell_type": "code",
   "execution_count": 11,
   "id": "f16f9cfd",
   "metadata": {},
   "outputs": [
    {
     "data": {
      "text/plain": [
       "ID                                    0\n",
       "developerCountry                      0\n",
       "countryCode                          29\n",
       "userRatingCount                       0\n",
       "primaryGenreName                      0\n",
       "downloads                           881\n",
       "deviceType                            0\n",
       "hasPrivacyLink                      316\n",
       "hasTermsOfServiceLink              1961\n",
       "hasTermsOfServiceLinkRating        1961\n",
       "isCorporateEmailScore               440\n",
       "adSpent                            2426\n",
       "appAge                               17\n",
       "averageUserRating                   514\n",
       "appContentBrandSafetyRating        2671\n",
       "appDescriptionBrandSafetyRating       0\n",
       "mfaRating                             0\n",
       "dtype: int64"
      ]
     },
     "execution_count": 11,
     "metadata": {},
     "output_type": "execute_result"
    }
   ],
   "source": [
    "test.isnull().sum()"
   ]
  },
  {
   "cell_type": "markdown",
   "id": "91a5b25c",
   "metadata": {},
   "source": [
    "# 3. Exploratory Data Analysis"
   ]
  },
  {
   "cell_type": "markdown",
   "id": "6aee7afe",
   "metadata": {},
   "source": [
    "## Categorical and Numerical Cols"
   ]
  },
  {
   "cell_type": "code",
   "execution_count": 12,
   "id": "237056a4",
   "metadata": {},
   "outputs": [],
   "source": [
    "cat_cols = train.select_dtypes(include=['object']).columns\n",
    "num_cols = train.select_dtypes(exclude=['object']).columns"
   ]
  },
  {
   "cell_type": "code",
   "execution_count": 13,
   "id": "34794432",
   "metadata": {},
   "outputs": [
    {
     "name": "stdout",
     "output_type": "stream",
     "text": [
      "Categorical columns: Index(['developerCountry', 'countryCode', 'primaryGenreName', 'downloads',\n",
      "       'deviceType', 'hasPrivacyLink', 'hasTermsOfServiceLink',\n",
      "       'hasTermsOfServiceLinkRating', 'appContentBrandSafetyRating',\n",
      "       'appDescriptionBrandSafetyRating', 'mfaRating'],\n",
      "      dtype='object')\n",
      "Numerical columns: Index(['userRatingCount', 'isCorporateEmailScore', 'adSpent', 'appAge',\n",
      "       'averageUserRating', 'target'],\n",
      "      dtype='object')\n"
     ]
    }
   ],
   "source": [
    "print(f\"Categorical columns: {cat_cols}\")\n",
    "print(f\"Numerical columns: {num_cols}\")"
   ]
  },
  {
   "cell_type": "markdown",
   "id": "c1fa537d",
   "metadata": {},
   "source": [
    "## Target Distribution"
   ]
  },
  {
   "cell_type": "code",
   "execution_count": 14,
   "id": "68a17897",
   "metadata": {},
   "outputs": [
    {
     "data": {
      "text/plain": [
       "<Axes: xlabel='target'>"
      ]
     },
     "execution_count": 14,
     "metadata": {},
     "output_type": "execute_result"
    },
    {
     "data": {
      "image/png": "[encoded data removed]",
      "text/plain": [
       "<Figure size 640x480 with 1 Axes>"
      ]
     },
     "metadata": {},
     "output_type": "display_data"
    }
   ],
   "source": [
    "train['target'].value_counts(normalize=True).plot(kind='bar', color=['blue', 'orange'])"
   ]
  },
  {
   "cell_type": "code",
   "execution_count": 15,
   "id": "28520fb4",
   "metadata": {},
   "outputs": [
    {
     "data": {
      "text/plain": [
       "target\n",
       "0    6304\n",
       "1     696\n",
       "Name: count, dtype: int64"
      ]
     },
     "execution_count": 15,
     "metadata": {},
     "output_type": "execute_result"
    }
   ],
   "source": [
    "train['target'].value_counts()"
   ]
  },
  {
   "cell_type": "markdown",
   "id": "7643f24b",
   "metadata": {},
   "source": [
    "## Numerical Correlations"
   ]
  },
  {
   "cell_type": "code",
   "execution_count": 16,
   "id": "7aca8d18",
   "metadata": {},
   "outputs": [
    {
     "data": {
      "text/plain": [
       "Text(0.5, 1.0, 'Correlation Heatmap')"
      ]
     },
     "execution_count": 16,
     "metadata": {},
     "output_type": "execute_result"
    },
    {
     "data": {
      "image/png": "[encoded data removed]",
      "text/plain": [
       "<Figure size 640x480 with 2 Axes>"
      ]
     },
     "metadata": {},
     "output_type": "display_data"
    }
   ],
   "source": [
    "sns.heatmap(train[num_cols].corr(), annot=True, fmt='.2f', cmap='coolwarm')\n",
    "plt.title('Correlation Heatmap')"
   ]
  },
  {
   "cell_type": "markdown",
   "id": "2a5741b4",
   "metadata": {},
   "source": [
    "## Pairplot"
   ]
  },
  {
   "cell_type": "code",
   "execution_count": 17,
   "id": "e08beb68",
   "metadata": {},
   "outputs": [],
   "source": [
    "# sns.pairplot(train, hue='target', palette='coolwarm')"
   ]
  },
  {
   "cell_type": "markdown",
   "id": "af5b51c2",
   "metadata": {},
   "source": [
    "## User Rating Count"
   ]
  },
  {
   "cell_type": "code",
   "execution_count": 18,
   "id": "2754bf01",
   "metadata": {},
   "outputs": [
    {
     "data": {
      "text/plain": [
       "userRatingCount\n",
       "0        3338\n",
       "1         238\n",
       "6         123\n",
       "5         117\n",
       "7         100\n",
       "         ... \n",
       "40168       1\n",
       "855         1\n",
       "11408       1\n",
       "5588        1\n",
       "4606        1\n",
       "Name: count, Length: 1528, dtype: int64"
      ]
     },
     "execution_count": 18,
     "metadata": {},
     "output_type": "execute_result"
    }
   ],
   "source": [
    "train[\"userRatingCount\"].value_counts()"
   ]
  },
  {
   "cell_type": "code",
   "execution_count": 19,
   "id": "390f7e19",
   "metadata": {},
   "outputs": [
    {
     "data": {
      "text/plain": [
       "userRatingCount\n",
       "0       1414\n",
       "1         89\n",
       "6         68\n",
       "5         52\n",
       "2         45\n",
       "        ... \n",
       "204        1\n",
       "5527       1\n",
       "61         1\n",
       "1022       1\n",
       "7166       1\n",
       "Name: count, Length: 763, dtype: int64"
      ]
     },
     "execution_count": 19,
     "metadata": {},
     "output_type": "execute_result"
    }
   ],
   "source": [
    "test[\"userRatingCount\"].value_counts()"
   ]
  },
  {
   "cell_type": "markdown",
   "id": "be332b58",
   "metadata": {},
   "source": [
    "# 4. Preprocessing"
   ]
  },
  {
   "cell_type": "code",
   "execution_count": 20,
   "id": "2ad8380f",
   "metadata": {},
   "outputs": [],
   "source": [
    "preproc = train.copy()"
   ]
  },
  {
   "cell_type": "code",
   "execution_count": 21,
   "id": "27b1740a",
   "metadata": {},
   "outputs": [],
   "source": [
    "for col in num_cols:\n",
    "        preproc[col] = preproc[col].fillna(preproc[col].median())"
   ]
  },
  {
   "cell_type": "markdown",
   "id": "a9c02fb4",
   "metadata": {},
   "source": [
    "## One Hot Encoding"
   ]
  },
  {
   "cell_type": "code",
   "execution_count": 22,
   "id": "812e95db",
   "metadata": {},
   "outputs": [],
   "source": [
    "from sklearn.preprocessing import OneHotEncoder"
   ]
  },
  {
   "cell_type": "code",
   "execution_count": 23,
   "id": "8ee9bc01",
   "metadata": {},
   "outputs": [
    {
     "name": "stdout",
     "output_type": "stream",
     "text": [
      "Index(['developerCountry', 'countryCode', 'primaryGenreName', 'downloads',\n",
      "       'deviceType', 'hasPrivacyLink', 'hasTermsOfServiceLink',\n",
      "       'hasTermsOfServiceLinkRating', 'appContentBrandSafetyRating',\n",
      "       'appDescriptionBrandSafetyRating', 'mfaRating'],\n",
      "      dtype='object')\n"
     ]
    }
   ],
   "source": [
    "print(cat_cols)"
   ]
  },
  {
   "cell_type": "code",
   "execution_count": 24,
   "id": "bfd617e0",
   "metadata": {},
   "outputs": [],
   "source": [
    "preproc[cat_cols] = preproc[cat_cols].astype('str')"
   ]
  },
  {
   "cell_type": "code",
   "execution_count": 25,
   "id": "a8864130",
   "metadata": {},
   "outputs": [],
   "source": [
    "one_coder = OneHotEncoder(handle_unknown='ignore',sparse_output=False)\n",
    "one_hot_encoded = one_coder.fit_transform(preproc[cat_cols])\n",
    "one_hot_df = pd.DataFrame(one_hot_encoded,columns=one_coder.get_feature_names_out(cat_cols))\n",
    "preproc.drop(cat_cols,axis=1,inplace=True)\n",
    "preproc = pd.concat([preproc,one_hot_df],axis=1)"
   ]
  },
  {
   "cell_type": "code",
   "execution_count": 26,
   "id": "46650083",
   "metadata": {},
   "outputs": [],
   "source": [
    "# preproc.drop(\"userRatingCount\",axis=1,inplace=True)"
   ]
  },
  {
   "cell_type": "code",
   "execution_count": 27,
   "id": "2758a770",
   "metadata": {},
   "outputs": [
    {
     "data": {
      "application/vnd.microsoft.datawrangler.viewer.v0+json": {
       "columns": [
        {
         "name": "index",
         "rawType": "int64",
         "type": "integer"
        },
        {
         "name": "userRatingCount",
         "rawType": "int64",
         "type": "integer"
        },
        {
         "name": "isCorporateEmailScore",
         "rawType": "float64",
         "type": "float"
        },
        {
         "name": "adSpent",
         "rawType": "float64",
         "type": "float"
        },
        {
         "name": "appAge",
         "rawType": "float64",
         "type": "float"
        },
        {
         "name": "averageUserRating",
         "rawType": "float64",
         "type": "float"
        },
        {
         "name": "target",
         "rawType": "int32",
         "type": "integer"
        },
        {
         "name": "developerCountry_ADDRESS NOT LISTED IN PLAYSTORE",
         "rawType": "float64",
         "type": "float"
        },
        {
         "name": "developerCountry_ALBANIA",
         "rawType": "float64",
         "type": "float"
        },
        {
         "name": "developerCountry_ALGERIA",
         "rawType": "float64",
         "type": "float"
        },
        {
         "name": "developerCountry_ANDORRA",
         "rawType": "float64",
         "type": "float"
        },
        {
         "name": "developerCountry_ANGOLA",
         "rawType": "float64",
         "type": "float"
        },
        {
         "name": "developerCountry_ARGENTINA",
         "rawType": "float64",
         "type": "float"
        },
        {
         "name": "developerCountry_ARMENIA",
         "rawType": "float64",
         "type": "float"
        },
        {
         "name": "developerCountry_AUSTRALIA",
         "rawType": "float64",
         "type": "float"
        },
        {
         "name": "developerCountry_AUSTRIA",
         "rawType": "float64",
         "type": "float"
        },
        {
         "name": "developerCountry_BAHRAIN",
         "rawType": "float64",
         "type": "float"
        },
        {
         "name": "developerCountry_BANGLADESH",
         "rawType": "float64",
         "type": "float"
        },
        {
         "name": "developerCountry_BELARUS",
         "rawType": "float64",
         "type": "float"
        },
        {
         "name": "developerCountry_BELGIUM",
         "rawType": "float64",
         "type": "float"
        },
        {
         "name": "developerCountry_BELIZE",
         "rawType": "float64",
         "type": "float"
        },
        {
         "name": "developerCountry_BRAZIL",
         "rawType": "float64",
         "type": "float"
        },
        {
         "name": "developerCountry_BRITISH VIRGIN ISLANDS",
         "rawType": "float64",
         "type": "float"
        },
        {
         "name": "developerCountry_BRUNEI DARUSSALAM",
         "rawType": "float64",
         "type": "float"
        },
        {
         "name": "developerCountry_BULGARIA",
         "rawType": "float64",
         "type": "float"
        },
        {
         "name": "developerCountry_BURUNDI",
         "rawType": "float64",
         "type": "float"
        },
        {
         "name": "developerCountry_CANADA",
         "rawType": "float64",
         "type": "float"
        },
        {
         "name": "developerCountry_CANNOT IDENTIFY COUNTRY",
         "rawType": "float64",
         "type": "float"
        },
        {
         "name": "developerCountry_CAYMAN ISLANDS",
         "rawType": "float64",
         "type": "float"
        },
        {
         "name": "developerCountry_CHILE",
         "rawType": "float64",
         "type": "float"
        },
        {
         "name": "developerCountry_CHINA",
         "rawType": "float64",
         "type": "float"
        },
        {
         "name": "developerCountry_COLOMBIA",
         "rawType": "float64",
         "type": "float"
        },
        {
         "name": "developerCountry_COSTA RICA",
         "rawType": "float64",
         "type": "float"
        },
        {
         "name": "developerCountry_COTE D'IVOIRE",
         "rawType": "float64",
         "type": "float"
        },
        {
         "name": "developerCountry_CYPRUS",
         "rawType": "float64",
         "type": "float"
        },
        {
         "name": "developerCountry_CZECH REPUBLIC",
         "rawType": "float64",
         "type": "float"
        },
        {
         "name": "developerCountry_DENMARK",
         "rawType": "float64",
         "type": "float"
        },
        {
         "name": "developerCountry_DOMINICAN REPUBLIC",
         "rawType": "float64",
         "type": "float"
        },
        {
         "name": "developerCountry_ECUADOR",
         "rawType": "float64",
         "type": "float"
        },
        {
         "name": "developerCountry_EGYPT",
         "rawType": "float64",
         "type": "float"
        },
        {
         "name": "developerCountry_ESTONIA",
         "rawType": "float64",
         "type": "float"
        },
        {
         "name": "developerCountry_FINLAND",
         "rawType": "float64",
         "type": "float"
        },
        {
         "name": "developerCountry_FRANCE",
         "rawType": "float64",
         "type": "float"
        },
        {
         "name": "developerCountry_GEORGIA",
         "rawType": "float64",
         "type": "float"
        },
        {
         "name": "developerCountry_GERMANY",
         "rawType": "float64",
         "type": "float"
        },
        {
         "name": "developerCountry_GHANA",
         "rawType": "float64",
         "type": "float"
        },
        {
         "name": "developerCountry_GIBRALTAR",
         "rawType": "float64",
         "type": "float"
        },
        {
         "name": "developerCountry_GREECE",
         "rawType": "float64",
         "type": "float"
        },
        {
         "name": "developerCountry_GREENLAND",
         "rawType": "float64",
         "type": "float"
        },
        {
         "name": "developerCountry_GUATEMALA",
         "rawType": "float64",
         "type": "float"
        },
        {
         "name": "developerCountry_HONDURAS",
         "rawType": "float64",
         "type": "float"
        },
        {
         "name": "developerCountry_HONG KONG",
         "rawType": "float64",
         "type": "float"
        },
        {
         "name": "developerCountry_HUNGARY",
         "rawType": "float64",
         "type": "float"
        },
        {
         "name": "developerCountry_ICELAND",
         "rawType": "float64",
         "type": "float"
        },
        {
         "name": "developerCountry_INDIA",
         "rawType": "float64",
         "type": "float"
        },
        {
         "name": "developerCountry_INDONESIA",
         "rawType": "float64",
         "type": "float"
        },
        {
         "name": "developerCountry_IRAQ",
         "rawType": "float64",
         "type": "float"
        },
        {
         "name": "developerCountry_IRELAND",
         "rawType": "float64",
         "type": "float"
        },
        {
         "name": "developerCountry_ISLE OF MAN",
         "rawType": "float64",
         "type": "float"
        },
        {
         "name": "developerCountry_ISRAEL",
         "rawType": "float64",
         "type": "float"
        },
        {
         "name": "developerCountry_ITALY",
         "rawType": "float64",
         "type": "float"
        },
        {
         "name": "developerCountry_JAPAN",
         "rawType": "float64",
         "type": "float"
        },
        {
         "name": "developerCountry_JORDAN",
         "rawType": "float64",
         "type": "float"
        },
        {
         "name": "developerCountry_KAZAKHSTAN",
         "rawType": "float64",
         "type": "float"
        },
        {
         "name": "developerCountry_KENYA",
         "rawType": "float64",
         "type": "float"
        },
        {
         "name": "developerCountry_KUWAIT",
         "rawType": "float64",
         "type": "float"
        },
        {
         "name": "developerCountry_KYRGYZSTAN",
         "rawType": "float64",
         "type": "float"
        },
        {
         "name": "developerCountry_LEBANON",
         "rawType": "float64",
         "type": "float"
        },
        {
         "name": "developerCountry_LITHUANIA",
         "rawType": "float64",
         "type": "float"
        },
        {
         "name": "developerCountry_LUXEMBOURG",
         "rawType": "float64",
         "type": "float"
        },
        {
         "name": "developerCountry_MALAYSIA",
         "rawType": "float64",
         "type": "float"
        },
        {
         "name": "developerCountry_MALDIVES",
         "rawType": "float64",
         "type": "float"
        },
        {
         "name": "developerCountry_MALI",
         "rawType": "float64",
         "type": "float"
        },
        {
         "name": "developerCountry_MALTA",
         "rawType": "float64",
         "type": "float"
        },
        {
         "name": "developerCountry_MEXICO",
         "rawType": "float64",
         "type": "float"
        },
        {
         "name": "developerCountry_MONGOLIA",
         "rawType": "float64",
         "type": "float"
        },
        {
         "name": "developerCountry_MOROCCO",
         "rawType": "float64",
         "type": "float"
        },
        {
         "name": "developerCountry_NEPAL",
         "rawType": "float64",
         "type": "float"
        },
        {
         "name": "developerCountry_NETHERLANDS",
         "rawType": "float64",
         "type": "float"
        },
        {
         "name": "developerCountry_NEW ZEALAND",
         "rawType": "float64",
         "type": "float"
        },
        {
         "name": "developerCountry_NICARAGUA",
         "rawType": "float64",
         "type": "float"
        },
        {
         "name": "developerCountry_NIGER",
         "rawType": "float64",
         "type": "float"
        },
        {
         "name": "developerCountry_NIGERIA",
         "rawType": "float64",
         "type": "float"
        },
        {
         "name": "developerCountry_NORWAY",
         "rawType": "float64",
         "type": "float"
        },
        {
         "name": "developerCountry_OMAN",
         "rawType": "float64",
         "type": "float"
        },
        {
         "name": "developerCountry_PAKISTAN",
         "rawType": "float64",
         "type": "float"
        },
        {
         "name": "developerCountry_PALESTINE, STATE OF",
         "rawType": "float64",
         "type": "float"
        },
        {
         "name": "developerCountry_PANAMA",
         "rawType": "float64",
         "type": "float"
        },
        {
         "name": "developerCountry_PERSONAL DATA, CAN NOT BE PUBLICLY DISCLOSED ACCORDING TO APPLICABLE LAWS.",
         "rawType": "float64",
         "type": "float"
        },
        {
         "name": "developerCountry_PERU",
         "rawType": "float64",
         "type": "float"
        },
        {
         "name": "developerCountry_PHILIPPINES",
         "rawType": "float64",
         "type": "float"
        },
        {
         "name": "developerCountry_POLAND",
         "rawType": "float64",
         "type": "float"
        },
        {
         "name": "developerCountry_PORTUGAL",
         "rawType": "float64",
         "type": "float"
        },
        {
         "name": "developerCountry_QATAR",
         "rawType": "float64",
         "type": "float"
        },
        {
         "name": "developerCountry_REPUBLIC OF KOREA",
         "rawType": "float64",
         "type": "float"
        },
        {
         "name": "developerCountry_ROMANIA",
         "rawType": "float64",
         "type": "float"
        },
        {
         "name": "developerCountry_RUSSIAN FEDERATION",
         "rawType": "float64",
         "type": "float"
        },
        {
         "name": "developerCountry_SAUDI ARABIA",
         "rawType": "float64",
         "type": "float"
        },
        {
         "name": "developerCountry_SENEGAL",
         "rawType": "float64",
         "type": "float"
        },
        {
         "name": "developerCountry_SERBIA",
         "rawType": "float64",
         "type": "float"
        },
        {
         "name": "developerCountry_SINGAPORE",
         "rawType": "float64",
         "type": "float"
        },
        {
         "name": "developerCountry_SLOVENIA",
         "rawType": "float64",
         "type": "float"
        },
        {
         "name": "developerCountry_SOUTH AFRICA",
         "rawType": "float64",
         "type": "float"
        },
        {
         "name": "developerCountry_SPAIN",
         "rawType": "float64",
         "type": "float"
        },
        {
         "name": "developerCountry_SRI LANKA",
         "rawType": "float64",
         "type": "float"
        },
        {
         "name": "developerCountry_STATUTORY MASKING ENABLED",
         "rawType": "float64",
         "type": "float"
        },
        {
         "name": "developerCountry_SWEDEN",
         "rawType": "float64",
         "type": "float"
        },
        {
         "name": "developerCountry_SWITZERLAND",
         "rawType": "float64",
         "type": "float"
        },
        {
         "name": "developerCountry_TAIWAN, PROVINCE OF CHINA",
         "rawType": "float64",
         "type": "float"
        },
        {
         "name": "developerCountry_THAILAND",
         "rawType": "float64",
         "type": "float"
        },
        {
         "name": "developerCountry_TURKEY",
         "rawType": "float64",
         "type": "float"
        },
        {
         "name": "developerCountry_UKRAINE",
         "rawType": "float64",
         "type": "float"
        },
        {
         "name": "developerCountry_UNITED ARAB EMIRATES",
         "rawType": "float64",
         "type": "float"
        },
        {
         "name": "developerCountry_UNITED KINGDOM",
         "rawType": "float64",
         "type": "float"
        },
        {
         "name": "developerCountry_UNITED STATES",
         "rawType": "float64",
         "type": "float"
        },
        {
         "name": "developerCountry_URUGUAY",
         "rawType": "float64",
         "type": "float"
        },
        {
         "name": "developerCountry_UZBEKISTAN",
         "rawType": "float64",
         "type": "float"
        },
        {
         "name": "developerCountry_VENEZUELA",
         "rawType": "float64",
         "type": "float"
        },
        {
         "name": "developerCountry_VIET NAM",
         "rawType": "float64",
         "type": "float"
        },
        {
         "name": "developerCountry_YEMEN",
         "rawType": "float64",
         "type": "float"
        },
        {
         "name": "developerCountry_ZIMBABWE",
         "rawType": "float64",
         "type": "float"
        },
        {
         "name": "countryCode_AE",
         "rawType": "float64",
         "type": "float"
        },
        {
         "name": "countryCode_AF",
         "rawType": "float64",
         "type": "float"
        },
        {
         "name": "countryCode_AM",
         "rawType": "float64",
         "type": "float"
        },
        {
         "name": "countryCode_APAC",
         "rawType": "float64",
         "type": "float"
        },
        {
         "name": "countryCode_AR",
         "rawType": "float64",
         "type": "float"
        },
        {
         "name": "countryCode_AT",
         "rawType": "float64",
         "type": "float"
        },
        {
         "name": "countryCode_AU",
         "rawType": "float64",
         "type": "float"
        },
        {
         "name": "countryCode_AZ",
         "rawType": "float64",
         "type": "float"
        },
        {
         "name": "countryCode_BD",
         "rawType": "float64",
         "type": "float"
        },
        {
         "name": "countryCode_BE",
         "rawType": "float64",
         "type": "float"
        },
        {
         "name": "countryCode_BG",
         "rawType": "float64",
         "type": "float"
        },
        {
         "name": "countryCode_BH",
         "rawType": "float64",
         "type": "float"
        },
        {
         "name": "countryCode_BJ",
         "rawType": "float64",
         "type": "float"
        },
        {
         "name": "countryCode_BR",
         "rawType": "float64",
         "type": "float"
        },
        {
         "name": "countryCode_BY",
         "rawType": "float64",
         "type": "float"
        },
        {
         "name": "countryCode_CA",
         "rawType": "float64",
         "type": "float"
        },
        {
         "name": "countryCode_CD",
         "rawType": "float64",
         "type": "float"
        },
        {
         "name": "countryCode_CH",
         "rawType": "float64",
         "type": "float"
        },
        {
         "name": "countryCode_CI",
         "rawType": "float64",
         "type": "float"
        },
        {
         "name": "countryCode_CL",
         "rawType": "float64",
         "type": "float"
        },
        {
         "name": "countryCode_CM",
         "rawType": "float64",
         "type": "float"
        },
        {
         "name": "countryCode_CN",
         "rawType": "float64",
         "type": "float"
        },
        {
         "name": "countryCode_CO",
         "rawType": "float64",
         "type": "float"
        },
        {
         "name": "countryCode_CR",
         "rawType": "float64",
         "type": "float"
        },
        {
         "name": "countryCode_CY",
         "rawType": "float64",
         "type": "float"
        },
        {
         "name": "countryCode_CZ",
         "rawType": "float64",
         "type": "float"
        },
        {
         "name": "countryCode_DE",
         "rawType": "float64",
         "type": "float"
        },
        {
         "name": "countryCode_DJ",
         "rawType": "float64",
         "type": "float"
        },
        {
         "name": "countryCode_DK",
         "rawType": "float64",
         "type": "float"
        },
        {
         "name": "countryCode_DO",
         "rawType": "float64",
         "type": "float"
        },
        {
         "name": "countryCode_DZ",
         "rawType": "float64",
         "type": "float"
        },
        {
         "name": "countryCode_EC",
         "rawType": "float64",
         "type": "float"
        },
        {
         "name": "countryCode_EE",
         "rawType": "float64",
         "type": "float"
        },
        {
         "name": "countryCode_EG",
         "rawType": "float64",
         "type": "float"
        },
        {
         "name": "countryCode_EMEA",
         "rawType": "float64",
         "type": "float"
        },
        {
         "name": "countryCode_ES",
         "rawType": "float64",
         "type": "float"
        },
        {
         "name": "countryCode_FI",
         "rawType": "float64",
         "type": "float"
        },
        {
         "name": "countryCode_FR",
         "rawType": "float64",
         "type": "float"
        },
        {
         "name": "countryCode_GB",
         "rawType": "float64",
         "type": "float"
        },
        {
         "name": "countryCode_GE",
         "rawType": "float64",
         "type": "float"
        },
        {
         "name": "countryCode_GLOBAL",
         "rawType": "float64",
         "type": "float"
        },
        {
         "name": "countryCode_GR",
         "rawType": "float64",
         "type": "float"
        },
        {
         "name": "countryCode_GT",
         "rawType": "float64",
         "type": "float"
        },
        {
         "name": "countryCode_GU",
         "rawType": "float64",
         "type": "float"
        },
        {
         "name": "countryCode_GY",
         "rawType": "float64",
         "type": "float"
        },
        {
         "name": "countryCode_HK",
         "rawType": "float64",
         "type": "float"
        },
        {
         "name": "countryCode_HN",
         "rawType": "float64",
         "type": "float"
        },
        {
         "name": "countryCode_HR",
         "rawType": "float64",
         "type": "float"
        },
        {
         "name": "countryCode_HU",
         "rawType": "float64",
         "type": "float"
        },
        {
         "name": "countryCode_ID",
         "rawType": "float64",
         "type": "float"
        },
        {
         "name": "countryCode_IE",
         "rawType": "float64",
         "type": "float"
        },
        {
         "name": "countryCode_IL",
         "rawType": "float64",
         "type": "float"
        },
        {
         "name": "countryCode_IN",
         "rawType": "float64",
         "type": "float"
        },
        {
         "name": "countryCode_IQ",
         "rawType": "float64",
         "type": "float"
        },
        {
         "name": "countryCode_IR",
         "rawType": "float64",
         "type": "float"
        },
        {
         "name": "countryCode_IT",
         "rawType": "float64",
         "type": "float"
        },
        {
         "name": "countryCode_JM",
         "rawType": "float64",
         "type": "float"
        },
        {
         "name": "countryCode_JO",
         "rawType": "float64",
         "type": "float"
        },
        {
         "name": "countryCode_JP",
         "rawType": "float64",
         "type": "float"
        },
        {
         "name": "countryCode_KE",
         "rawType": "float64",
         "type": "float"
        },
        {
         "name": "countryCode_KG",
         "rawType": "float64",
         "type": "float"
        },
        {
         "name": "countryCode_KH",
         "rawType": "float64",
         "type": "float"
        },
        {
         "name": "countryCode_KR",
         "rawType": "float64",
         "type": "float"
        },
        {
         "name": "countryCode_KW",
         "rawType": "float64",
         "type": "float"
        },
        {
         "name": "countryCode_KZ",
         "rawType": "float64",
         "type": "float"
        },
        {
         "name": "countryCode_LATAM",
         "rawType": "float64",
         "type": "float"
        },
        {
         "name": "countryCode_LB",
         "rawType": "float64",
         "type": "float"
        },
        {
         "name": "countryCode_LK",
         "rawType": "float64",
         "type": "float"
        },
        {
         "name": "countryCode_LY",
         "rawType": "float64",
         "type": "float"
        },
        {
         "name": "countryCode_MA",
         "rawType": "float64",
         "type": "float"
        },
        {
         "name": "countryCode_MK",
         "rawType": "float64",
         "type": "float"
        },
        {
         "name": "countryCode_MM",
         "rawType": "float64",
         "type": "float"
        },
        {
         "name": "countryCode_MN",
         "rawType": "float64",
         "type": "float"
        },
        {
         "name": "countryCode_MX",
         "rawType": "float64",
         "type": "float"
        },
        {
         "name": "countryCode_MY",
         "rawType": "float64",
         "type": "float"
        },
        {
         "name": "countryCode_NG",
         "rawType": "float64",
         "type": "float"
        },
        {
         "name": "countryCode_NI",
         "rawType": "float64",
         "type": "float"
        },
        {
         "name": "countryCode_NL",
         "rawType": "float64",
         "type": "float"
        },
        {
         "name": "countryCode_NO",
         "rawType": "float64",
         "type": "float"
        },
        {
         "name": "countryCode_NZ",
         "rawType": "float64",
         "type": "float"
        },
        {
         "name": "countryCode_OM",
         "rawType": "float64",
         "type": "float"
        },
        {
         "name": "countryCode_PA",
         "rawType": "float64",
         "type": "float"
        },
        {
         "name": "countryCode_PE",
         "rawType": "float64",
         "type": "float"
        },
        {
         "name": "countryCode_PH",
         "rawType": "float64",
         "type": "float"
        },
        {
         "name": "countryCode_PK",
         "rawType": "float64",
         "type": "float"
        },
        {
         "name": "countryCode_PL",
         "rawType": "float64",
         "type": "float"
        },
        {
         "name": "countryCode_PR",
         "rawType": "float64",
         "type": "float"
        },
        {
         "name": "countryCode_PS",
         "rawType": "float64",
         "type": "float"
        },
        {
         "name": "countryCode_PT",
         "rawType": "float64",
         "type": "float"
        },
        {
         "name": "countryCode_PY",
         "rawType": "float64",
         "type": "float"
        },
        {
         "name": "countryCode_QA",
         "rawType": "float64",
         "type": "float"
        },
        {
         "name": "countryCode_RE",
         "rawType": "float64",
         "type": "float"
        },
        {
         "name": "countryCode_RO",
         "rawType": "float64",
         "type": "float"
        },
        {
         "name": "countryCode_RS",
         "rawType": "float64",
         "type": "float"
        },
        {
         "name": "countryCode_RU",
         "rawType": "float64",
         "type": "float"
        },
        {
         "name": "countryCode_SA",
         "rawType": "float64",
         "type": "float"
        },
        {
         "name": "countryCode_SD",
         "rawType": "float64",
         "type": "float"
        },
        {
         "name": "countryCode_SE",
         "rawType": "float64",
         "type": "float"
        },
        {
         "name": "countryCode_SG",
         "rawType": "float64",
         "type": "float"
        },
        {
         "name": "countryCode_SK",
         "rawType": "float64",
         "type": "float"
        },
        {
         "name": "countryCode_SN",
         "rawType": "float64",
         "type": "float"
        },
        {
         "name": "countryCode_SO",
         "rawType": "float64",
         "type": "float"
        },
        {
         "name": "countryCode_SV",
         "rawType": "float64",
         "type": "float"
        },
        {
         "name": "countryCode_SX",
         "rawType": "float64",
         "type": "float"
        },
        {
         "name": "countryCode_TH",
         "rawType": "float64",
         "type": "float"
        },
        {
         "name": "countryCode_TJ",
         "rawType": "float64",
         "type": "float"
        },
        {
         "name": "countryCode_TN",
         "rawType": "float64",
         "type": "float"
        },
        {
         "name": "countryCode_TR",
         "rawType": "float64",
         "type": "float"
        },
        {
         "name": "countryCode_TW",
         "rawType": "float64",
         "type": "float"
        },
        {
         "name": "countryCode_UA",
         "rawType": "float64",
         "type": "float"
        },
        {
         "name": "countryCode_UG",
         "rawType": "float64",
         "type": "float"
        },
        {
         "name": "countryCode_US",
         "rawType": "float64",
         "type": "float"
        },
        {
         "name": "countryCode_UY",
         "rawType": "float64",
         "type": "float"
        },
        {
         "name": "countryCode_UZ",
         "rawType": "float64",
         "type": "float"
        },
        {
         "name": "countryCode_VE",
         "rawType": "float64",
         "type": "float"
        },
        {
         "name": "countryCode_VN",
         "rawType": "float64",
         "type": "float"
        },
        {
         "name": "countryCode_YE",
         "rawType": "float64",
         "type": "float"
        },
        {
         "name": "countryCode_ZA",
         "rawType": "float64",
         "type": "float"
        },
        {
         "name": "countryCode_ZM",
         "rawType": "float64",
         "type": "float"
        },
        {
         "name": "countryCode_nan",
         "rawType": "float64",
         "type": "float"
        },
        {
         "name": "primaryGenreName_Art & Design",
         "rawType": "float64",
         "type": "float"
        },
        {
         "name": "primaryGenreName_Auto & Vehicles",
         "rawType": "float64",
         "type": "float"
        },
        {
         "name": "primaryGenreName_Beauty",
         "rawType": "float64",
         "type": "float"
        },
        {
         "name": "primaryGenreName_Book",
         "rawType": "float64",
         "type": "float"
        },
        {
         "name": "primaryGenreName_Books & Reference",
         "rawType": "float64",
         "type": "float"
        },
        {
         "name": "primaryGenreName_Business",
         "rawType": "float64",
         "type": "float"
        },
        {
         "name": "primaryGenreName_Comics",
         "rawType": "float64",
         "type": "float"
        },
        {
         "name": "primaryGenreName_Communication",
         "rawType": "float64",
         "type": "float"
        },
        {
         "name": "primaryGenreName_Dating",
         "rawType": "float64",
         "type": "float"
        },
        {
         "name": "primaryGenreName_Developer Tools",
         "rawType": "float64",
         "type": "float"
        },
        {
         "name": "primaryGenreName_Education",
         "rawType": "float64",
         "type": "float"
        },
        {
         "name": "primaryGenreName_Entertainment",
         "rawType": "float64",
         "type": "float"
        },
        {
         "name": "primaryGenreName_Events",
         "rawType": "float64",
         "type": "float"
        },
        {
         "name": "primaryGenreName_Finance",
         "rawType": "float64",
         "type": "float"
        },
        {
         "name": "primaryGenreName_Food & Drink",
         "rawType": "float64",
         "type": "float"
        },
        {
         "name": "primaryGenreName_Games",
         "rawType": "float64",
         "type": "float"
        },
        {
         "name": "primaryGenreName_Graphics & Design",
         "rawType": "float64",
         "type": "float"
        },
        {
         "name": "primaryGenreName_Health & Fitness",
         "rawType": "float64",
         "type": "float"
        },
        {
         "name": "primaryGenreName_House & Home",
         "rawType": "float64",
         "type": "float"
        },
        {
         "name": "primaryGenreName_Libraries & Demo",
         "rawType": "float64",
         "type": "float"
        },
        {
         "name": "primaryGenreName_Lifestyle",
         "rawType": "float64",
         "type": "float"
        },
        {
         "name": "primaryGenreName_Magazines & Newspapers",
         "rawType": "float64",
         "type": "float"
        },
        {
         "name": "primaryGenreName_Maps & Navigation",
         "rawType": "float64",
         "type": "float"
        },
        {
         "name": "primaryGenreName_Medical",
         "rawType": "float64",
         "type": "float"
        },
        {
         "name": "primaryGenreName_Music",
         "rawType": "float64",
         "type": "float"
        },
        {
         "name": "primaryGenreName_Music & Audio",
         "rawType": "float64",
         "type": "float"
        },
        {
         "name": "primaryGenreName_Navigation",
         "rawType": "float64",
         "type": "float"
        },
        {
         "name": "primaryGenreName_News",
         "rawType": "float64",
         "type": "float"
        },
        {
         "name": "primaryGenreName_News & Magazines",
         "rawType": "float64",
         "type": "float"
        },
        {
         "name": "primaryGenreName_Parenting",
         "rawType": "float64",
         "type": "float"
        },
        {
         "name": "primaryGenreName_Personalization",
         "rawType": "float64",
         "type": "float"
        },
        {
         "name": "primaryGenreName_Photo & Video",
         "rawType": "float64",
         "type": "float"
        },
        {
         "name": "primaryGenreName_Photography",
         "rawType": "float64",
         "type": "float"
        },
        {
         "name": "primaryGenreName_Productivity",
         "rawType": "float64",
         "type": "float"
        },
        {
         "name": "primaryGenreName_Reference",
         "rawType": "float64",
         "type": "float"
        },
        {
         "name": "primaryGenreName_Shopping",
         "rawType": "float64",
         "type": "float"
        },
        {
         "name": "primaryGenreName_Social",
         "rawType": "float64",
         "type": "float"
        },
        {
         "name": "primaryGenreName_Social Networking",
         "rawType": "float64",
         "type": "float"
        },
        {
         "name": "primaryGenreName_Sports",
         "rawType": "float64",
         "type": "float"
        },
        {
         "name": "primaryGenreName_Stickers",
         "rawType": "float64",
         "type": "float"
        },
        {
         "name": "primaryGenreName_Tools",
         "rawType": "float64",
         "type": "float"
        },
        {
         "name": "primaryGenreName_Travel",
         "rawType": "float64",
         "type": "float"
        },
        {
         "name": "primaryGenreName_Travel & Local",
         "rawType": "float64",
         "type": "float"
        },
        {
         "name": "primaryGenreName_Utilities",
         "rawType": "float64",
         "type": "float"
        },
        {
         "name": "primaryGenreName_Video Players & Editors",
         "rawType": "float64",
         "type": "float"
        },
        {
         "name": "primaryGenreName_Weather",
         "rawType": "float64",
         "type": "float"
        },
        {
         "name": "downloads_0 - 1",
         "rawType": "float64",
         "type": "float"
        },
        {
         "name": "downloads_1 - 1",
         "rawType": "float64",
         "type": "float"
        },
        {
         "name": "downloads_1 - 5",
         "rawType": "float64",
         "type": "float"
        },
        {
         "name": "downloads_10 - 1",
         "rawType": "float64",
         "type": "float"
        },
        {
         "name": "downloads_10 - 50",
         "rawType": "float64",
         "type": "float"
        },
        {
         "name": "downloads_100 - 500",
         "rawType": "float64",
         "type": "float"
        },
        {
         "name": "downloads_1000 - 5000",
         "rawType": "float64",
         "type": "float"
        },
        {
         "name": "downloads_10000 - 50000",
         "rawType": "float64",
         "type": "float"
        },
        {
         "name": "downloads_100000 - 500000",
         "rawType": "float64",
         "type": "float"
        },
        {
         "name": "downloads_1000000 - 5000000",
         "rawType": "float64",
         "type": "float"
        },
        {
         "name": "downloads_10000000 - 50000000",
         "rawType": "float64",
         "type": "float"
        },
        {
         "name": "downloads_100000000 - 500000000",
         "rawType": "float64",
         "type": "float"
        },
        {
         "name": "downloads_1000000000 - 5000000000",
         "rawType": "float64",
         "type": "float"
        },
        {
         "name": "downloads_10000000000 - 15000000000",
         "rawType": "float64",
         "type": "float"
        },
        {
         "name": "downloads_5 - 1",
         "rawType": "float64",
         "type": "float"
        },
        {
         "name": "downloads_5 - 10",
         "rawType": "float64",
         "type": "float"
        },
        {
         "name": "downloads_50 - 1",
         "rawType": "float64",
         "type": "float"
        },
        {
         "name": "downloads_50 - 100",
         "rawType": "float64",
         "type": "float"
        },
        {
         "name": "downloads_500 - 1",
         "rawType": "float64",
         "type": "float"
        },
        {
         "name": "downloads_500 - 1000",
         "rawType": "float64",
         "type": "float"
        },
        {
         "name": "downloads_5000 - 10000",
         "rawType": "float64",
         "type": "float"
        },
        {
         "name": "downloads_50000 - 100000",
         "rawType": "float64",
         "type": "float"
        },
        {
         "name": "downloads_500000 - 1000000",
         "rawType": "float64",
         "type": "float"
        },
        {
         "name": "downloads_5000000 - 10000000",
         "rawType": "float64",
         "type": "float"
        },
        {
         "name": "downloads_50000000 - 100000000",
         "rawType": "float64",
         "type": "float"
        },
        {
         "name": "downloads_500000000 - 1000000000",
         "rawType": "float64",
         "type": "float"
        },
        {
         "name": "downloads_nan",
         "rawType": "float64",
         "type": "float"
        },
        {
         "name": "deviceType_GLOBAL",
         "rawType": "float64",
         "type": "float"
        },
        {
         "name": "deviceType_connected-tv/ott",
         "rawType": "float64",
         "type": "float"
        },
        {
         "name": "deviceType_smartphone",
         "rawType": "float64",
         "type": "float"
        },
        {
         "name": "deviceType_tablet",
         "rawType": "float64",
         "type": "float"
        },
        {
         "name": "deviceType_undetermined",
         "rawType": "float64",
         "type": "float"
        },
        {
         "name": "hasPrivacyLink_False",
         "rawType": "float64",
         "type": "float"
        },
        {
         "name": "hasPrivacyLink_True",
         "rawType": "float64",
         "type": "float"
        },
        {
         "name": "hasPrivacyLink_nan",
         "rawType": "float64",
         "type": "float"
        },
        {
         "name": "hasTermsOfServiceLink_False",
         "rawType": "float64",
         "type": "float"
        },
        {
         "name": "hasTermsOfServiceLink_True",
         "rawType": "float64",
         "type": "float"
        },
        {
         "name": "hasTermsOfServiceLink_nan",
         "rawType": "float64",
         "type": "float"
        },
        {
         "name": "hasTermsOfServiceLinkRating_high",
         "rawType": "float64",
         "type": "float"
        },
        {
         "name": "hasTermsOfServiceLinkRating_low",
         "rawType": "float64",
         "type": "float"
        },
        {
         "name": "hasTermsOfServiceLinkRating_nan",
         "rawType": "float64",
         "type": "float"
        },
        {
         "name": "appContentBrandSafetyRating_high",
         "rawType": "float64",
         "type": "float"
        },
        {
         "name": "appContentBrandSafetyRating_low",
         "rawType": "float64",
         "type": "float"
        },
        {
         "name": "appContentBrandSafetyRating_medium",
         "rawType": "float64",
         "type": "float"
        },
        {
         "name": "appContentBrandSafetyRating_nan",
         "rawType": "float64",
         "type": "float"
        },
        {
         "name": "appDescriptionBrandSafetyRating_high",
         "rawType": "float64",
         "type": "float"
        },
        {
         "name": "appDescriptionBrandSafetyRating_low",
         "rawType": "float64",
         "type": "float"
        },
        {
         "name": "appDescriptionBrandSafetyRating_medium",
         "rawType": "float64",
         "type": "float"
        },
        {
         "name": "mfaRating_high",
         "rawType": "float64",
         "type": "float"
        },
        {
         "name": "mfaRating_low",
         "rawType": "float64",
         "type": "float"
        },
        {
         "name": "mfaRating_medium",
         "rawType": "float64",
         "type": "float"
        }
       ],
       "conversionMethod": "pd.DataFrame",
       "ref": "82a7f08c-1876-4525-83c5-56431af67da8",
       "rows": [
        [
         "0",
         "127731",
         "99.0",
         "14.017220031335052",
         "160.4",
         "4.0",
         "0",
         "0.0",
         "0.0",
         "0.0",
         "0.0",
         "0.0",
         "0.0",
         "0.0",
         "0.0",
         "0.0",
         "0.0",
         "0.0",
         "0.0",
         "0.0",
         "0.0",
         "0.0",
         "0.0",
         "0.0",
         "0.0",
         "0.0",
         "0.0",
         "0.0",
         "0.0",
         "0.0",
         "0.0",
         "0.0",
         "0.0",
         "0.0",
         "0.0",
         "0.0",
         "0.0",
         "0.0",
         "0.0",
         "0.0",
         "0.0",
         "0.0",
         "0.0",
         "0.0",
         "0.0",
         "0.0",
         "0.0",
         "0.0",
         "0.0",
         "0.0",
         "0.0",
         "0.0",
         "0.0",
         "0.0",
         "0.0",
         "0.0",
         "0.0",
         "0.0",
         "0.0",
         "0.0",
         "0.0",
         "0.0",
         "0.0",
         "0.0",
         "0.0",
         "0.0",
         "0.0",
         "0.0",
         "0.0",
         "0.0",
         "0.0",
         "0.0",
         "0.0",
         "0.0",
         "0.0",
         "0.0",
         "0.0",
         "0.0",
         "0.0",
         "0.0",
         "0.0",
         "0.0",
         "0.0",
         "1.0",
         "0.0",
         "0.0",
         "0.0",
         "0.0",
         "0.0",
         "0.0",
         "0.0",
         "0.0",
         "0.0",
         "0.0",
         "0.0",
         "0.0",
         "0.0",
         "0.0",
         "0.0",
         "0.0",
         "0.0",
         "0.0",
         "0.0",
         "0.0",
         "0.0",
         "0.0",
         "0.0",
         "0.0",
         "0.0",
         "0.0",
         "0.0",
         "0.0",
         "0.0",
         "0.0",
         "0.0",
         "0.0",
         "0.0",
         "0.0",
         "0.0",
         "0.0",
         "0.0",
         "0.0",
         "0.0",
         "0.0",
         "0.0",
         "0.0",
         "0.0",
         "0.0",
         "0.0",
         "0.0",
         "0.0",
         "0.0",
         "0.0",
         "0.0",
         "0.0",
         "0.0",
         "0.0",
         "0.0",
         "0.0",
         "0.0",
         "0.0",
         "0.0",
         "0.0",
         "0.0",
         "0.0",
         "0.0",
         "0.0",
         "0.0",
         "0.0",
         "0.0",
         "0.0",
         "0.0",
         "0.0",
         "0.0",
         "0.0",
         "0.0",
         "0.0",
         "0.0",
         "0.0",
         "0.0",
         "0.0",
         "0.0",
         "0.0",
         "0.0",
         "0.0",
         "0.0",
         "0.0",
         "0.0",
         "0.0",
         "0.0",
         "0.0",
         "0.0",
         "0.0",
         "0.0",
         "0.0",
         "0.0",
         "0.0",
         "0.0",
         "0.0",
         "0.0",
         "0.0",
         "0.0",
         "0.0",
         "0.0",
         "0.0",
         "0.0",
         "0.0",
         "0.0",
         "0.0",
         "0.0",
         "0.0",
         "0.0",
         "0.0",
         "0.0",
         "0.0",
         "0.0",
         "0.0",
         "0.0",
         "0.0",
         "0.0",
         "0.0",
         "0.0",
         "0.0",
         "0.0",
         "0.0",
         "0.0",
         "0.0",
         "0.0",
         "0.0",
         "0.0",
         "0.0",
         "0.0",
         "0.0",
         "1.0",
         "0.0",
         "0.0",
         "0.0",
         "0.0",
         "0.0",
         "0.0",
         "0.0",
         "0.0",
         "0.0",
         "0.0",
         "0.0",
         "0.0",
         "0.0",
         "0.0",
         "0.0",
         "0.0",
         "0.0",
         "0.0",
         "0.0",
         "0.0",
         "0.0",
         "0.0",
         "0.0",
         "0.0",
         "0.0",
         "0.0",
         "0.0",
         "0.0",
         "0.0",
         "0.0",
         "0.0",
         "0.0",
         "0.0",
         "0.0",
         "0.0",
         "0.0",
         "0.0",
         "0.0",
         "0.0",
         "0.0",
         "0.0",
         "0.0",
         "0.0",
         "0.0",
         "0.0",
         "0.0",
         "0.0",
         "0.0",
         "0.0",
         "0.0",
         "0.0",
         "0.0",
         "0.0",
         "0.0",
         "0.0",
         "0.0",
         "0.0",
         "0.0",
         "0.0",
         "0.0",
         "0.0",
         "0.0",
         "0.0",
         "0.0",
         "0.0",
         "1.0",
         "0.0",
         "0.0",
         "0.0",
         "0.0",
         "0.0",
         "0.0",
         "0.0",
         "0.0",
         "0.0",
         "0.0",
         "0.0",
         "0.0",
         "0.0",
         "0.0",
         "0.0",
         "0.0",
         "0.0",
         "0.0",
         "0.0",
         "0.0",
         "0.0",
         "0.0",
         "0.0",
         "0.0",
         "0.0",
         "0.0",
         "0.0",
         "0.0",
         "0.0",
         "0.0",
         "0.0",
         "0.0",
         "0.0",
         "1.0",
         "0.0",
         "0.0",
         "1.0",
         "0.0",
         "0.0",
         "0.0",
         "1.0",
         "0.0",
         "0.0",
         "1.0",
         "0.0",
         "0.0",
         "1.0",
         "0.0",
         "0.0",
         "0.0",
         "1.0",
         "0.0",
         "0.0",
         "1.0",
         "0.0",
         "0.0",
         "1.0",
         "0.0"
        ],
        [
         "1",
         "0",
         "99.0",
         "7.945580109182323",
         "17.5",
         "0.0",
         "0",
         "1.0",
         "0.0",
         "0.0",
         "0.0",
         "0.0",
         "0.0",
         "0.0",
         "0.0",
         "0.0",
         "0.0",
         "0.0",
         "0.0",
         "0.0",
         "0.0",
         "0.0",
         "0.0",
         "0.0",
         "0.0",
         "0.0",
         "0.0",
         "0.0",
         "0.0",
         "0.0",
         "0.0",
         "0.0",
         "0.0",
         "0.0",
         "0.0",
         "0.0",
         "0.0",
         "0.0",
         "0.0",
         "0.0",
         "0.0",
         "0.0",
         "0.0",
         "0.0",
         "0.0",
         "0.0",
         "0.0",
         "0.0",
         "0.0",
         "0.0",
         "0.0",
         "0.0",
         "0.0",
         "0.0",
         "0.0",
         "0.0",
         "0.0",
         "0.0",
         "0.0",
         "0.0",
         "0.0",
         "0.0",
         "0.0",
         "0.0",
         "0.0",
         "0.0",
         "0.0",
         "0.0",
         "0.0",
         "0.0",
         "0.0",
         "0.0",
         "0.0",
         "0.0",
         "0.0",
         "0.0",
         "0.0",
         "0.0",
         "0.0",
         "0.0",
         "0.0",
         "0.0",
         "0.0",
         "0.0",
         "0.0",
         "0.0",
         "0.0",
         "0.0",
         "0.0",
         "0.0",
         "0.0",
         "0.0",
         "0.0",
         "0.0",
         "0.0",
         "0.0",
         "0.0",
         "0.0",
         "0.0",
         "0.0",
         "0.0",
         "0.0",
         "0.0",
         "0.0",
         "0.0",
         "0.0",
         "0.0",
         "0.0",
         "0.0",
         "0.0",
         "0.0",
         "0.0",
         "0.0",
         "0.0",
         "0.0",
         "0.0",
         "0.0",
         "0.0",
         "0.0",
         "0.0",
         "0.0",
         "0.0",
         "0.0",
         "0.0",
         "0.0",
         "0.0",
         "0.0",
         "0.0",
         "0.0",
         "0.0",
         "0.0",
         "0.0",
         "0.0",
         "0.0",
         "0.0",
         "0.0",
         "0.0",
         "0.0",
         "0.0",
         "0.0",
         "0.0",
         "0.0",
         "0.0",
         "0.0",
         "0.0",
         "0.0",
         "0.0",
         "0.0",
         "0.0",
         "0.0",
         "0.0",
         "0.0",
         "0.0",
         "0.0",
         "0.0",
         "0.0",
         "0.0",
         "0.0",
         "0.0",
         "0.0",
         "0.0",
         "1.0",
         "0.0",
         "0.0",
         "0.0",
         "0.0",
         "0.0",
         "0.0",
         "0.0",
         "0.0",
         "0.0",
         "0.0",
         "0.0",
         "0.0",
         "0.0",
         "0.0",
         "0.0",
         "0.0",
         "0.0",
         "0.0",
         "0.0",
         "0.0",
         "0.0",
         "0.0",
         "0.0",
         "0.0",
         "0.0",
         "0.0",
         "0.0",
         "0.0",
         "0.0",
         "0.0",
         "0.0",
         "0.0",
         "0.0",
         "0.0",
         "0.0",
         "0.0",
         "0.0",
         "0.0",
         "0.0",
         "0.0",
         "0.0",
         "0.0",
         "0.0",
         "0.0",
         "0.0",
         "0.0",
         "0.0",
         "0.0",
         "0.0",
         "0.0",
         "0.0",
         "0.0",
         "0.0",
         "0.0",
         "0.0",
         "0.0",
         "0.0",
         "0.0",
         "0.0",
         "0.0",
         "0.0",
         "0.0",
         "0.0",
         "0.0",
         "0.0",
         "0.0",
         "0.0",
         "0.0",
         "0.0",
         "0.0",
         "0.0",
         "0.0",
         "0.0",
         "0.0",
         "0.0",
         "0.0",
         "0.0",
         "0.0",
         "0.0",
         "0.0",
         "0.0",
         "0.0",
         "0.0",
         "0.0",
         "0.0",
         "0.0",
         "0.0",
         "0.0",
         "0.0",
         "0.0",
         "0.0",
         "0.0",
         "0.0",
         "0.0",
         "0.0",
         "0.0",
         "0.0",
         "0.0",
         "0.0",
         "0.0",
         "0.0",
         "0.0",
         "1.0",
         "0.0",
         "0.0",
         "0.0",
         "0.0",
         "0.0",
         "0.0",
         "0.0",
         "0.0",
         "0.0",
         "0.0",
         "0.0",
         "0.0",
         "0.0",
         "0.0",
         "0.0",
         "0.0",
         "0.0",
         "0.0",
         "0.0",
         "0.0",
         "0.0",
         "0.0",
         "0.0",
         "0.0",
         "0.0",
         "0.0",
         "0.0",
         "0.0",
         "0.0",
         "0.0",
         "0.0",
         "0.0",
         "0.0",
         "0.0",
         "0.0",
         "0.0",
         "0.0",
         "0.0",
         "0.0",
         "1.0",
         "0.0",
         "0.0",
         "0.0",
         "0.0",
         "0.0",
         "0.0",
         "0.0",
         "0.0",
         "0.0",
         "1.0",
         "0.0",
         "0.0",
         "0.0",
         "0.0",
         "0.0",
         "1.0",
         "0.0",
         "0.0",
         "0.0",
         "1.0",
         "0.0",
         "0.0",
         "1.0",
         "0.0",
         "0.0",
         "0.0",
         "1.0",
         "0.0",
         "1.0",
         "0.0",
         "0.0",
         "1.0",
         "0.0"
        ],
        [
         "2",
         "51143",
         "0.0",
         "31.883162966505576",
         "30.766666666666666",
         "4.0",
         "0",
         "0.0",
         "0.0",
         "0.0",
         "0.0",
         "0.0",
         "0.0",
         "0.0",
         "0.0",
         "0.0",
         "0.0",
         "0.0",
         "0.0",
         "0.0",
         "0.0",
         "0.0",
         "0.0",
         "0.0",
         "0.0",
         "0.0",
         "0.0",
         "0.0",
         "0.0",
         "0.0",
         "0.0",
         "0.0",
         "0.0",
         "0.0",
         "0.0",
         "0.0",
         "0.0",
         "0.0",
         "0.0",
         "0.0",
         "0.0",
         "0.0",
         "0.0",
         "0.0",
         "0.0",
         "0.0",
         "0.0",
         "0.0",
         "0.0",
         "0.0",
         "0.0",
         "0.0",
         "0.0",
         "0.0",
         "0.0",
         "0.0",
         "0.0",
         "0.0",
         "0.0",
         "0.0",
         "0.0",
         "0.0",
         "0.0",
         "0.0",
         "0.0",
         "0.0",
         "0.0",
         "0.0",
         "0.0",
         "0.0",
         "0.0",
         "0.0",
         "0.0",
         "0.0",
         "0.0",
         "0.0",
         "0.0",
         "0.0",
         "0.0",
         "0.0",
         "0.0",
         "0.0",
         "0.0",
         "0.0",
         "0.0",
         "0.0",
         "0.0",
         "0.0",
         "0.0",
         "0.0",
         "0.0",
         "0.0",
         "0.0",
         "0.0",
         "0.0",
         "0.0",
         "0.0",
         "0.0",
         "0.0",
         "0.0",
         "0.0",
         "0.0",
         "0.0",
         "0.0",
         "0.0",
         "0.0",
         "0.0",
         "0.0",
         "0.0",
         "0.0",
         "0.0",
         "0.0",
         "1.0",
         "0.0",
         "0.0",
         "0.0",
         "0.0",
         "0.0",
         "0.0",
         "0.0",
         "0.0",
         "0.0",
         "0.0",
         "0.0",
         "0.0",
         "0.0",
         "0.0",
         "0.0",
         "0.0",
         "0.0",
         "0.0",
         "0.0",
         "0.0",
         "0.0",
         "0.0",
         "0.0",
         "0.0",
         "0.0",
         "0.0",
         "0.0",
         "0.0",
         "0.0",
         "0.0",
         "0.0",
         "0.0",
         "0.0",
         "1.0",
         "0.0",
         "0.0",
         "0.0",
         "0.0",
         "0.0",
         "0.0",
         "0.0",
         "0.0",
         "0.0",
         "0.0",
         "0.0",
         "0.0",
         "0.0",
         "0.0",
         "0.0",
         "0.0",
         "0.0",
         "0.0",
         "0.0",
         "0.0",
         "0.0",
         "0.0",
         "0.0",
         "0.0",
         "0.0",
         "0.0",
         "0.0",
         "0.0",
         "0.0",
         "0.0",
         "0.0",
         "0.0",
         "0.0",
         "0.0",
         "0.0",
         "0.0",
         "0.0",
         "0.0",
         "0.0",
         "0.0",
         "0.0",
         "0.0",
         "0.0",
         "0.0",
         "0.0",
         "0.0",
         "0.0",
         "0.0",
         "0.0",
         "0.0",
         "0.0",
         "0.0",
         "0.0",
         "0.0",
         "0.0",
         "0.0",
         "0.0",
         "0.0",
         "0.0",
         "0.0",
         "0.0",
         "0.0",
         "0.0",
         "0.0",
         "0.0",
         "0.0",
         "0.0",
         "0.0",
         "0.0",
         "0.0",
         "0.0",
         "0.0",
         "0.0",
         "0.0",
         "0.0",
         "0.0",
         "0.0",
         "0.0",
         "0.0",
         "0.0",
         "0.0",
         "0.0",
         "0.0",
         "0.0",
         "0.0",
         "0.0",
         "0.0",
         "0.0",
         "0.0",
         "0.0",
         "0.0",
         "0.0",
         "0.0",
         "0.0",
         "0.0",
         "0.0",
         "0.0",
         "0.0",
         "0.0",
         "0.0",
         "0.0",
         "0.0",
         "0.0",
         "0.0",
         "0.0",
         "0.0",
         "0.0",
         "0.0",
         "0.0",
         "1.0",
         "0.0",
         "0.0",
         "0.0",
         "0.0",
         "0.0",
         "0.0",
         "0.0",
         "0.0",
         "0.0",
         "0.0",
         "0.0",
         "0.0",
         "0.0",
         "0.0",
         "0.0",
         "0.0",
         "0.0",
         "0.0",
         "0.0",
         "0.0",
         "0.0",
         "0.0",
         "0.0",
         "0.0",
         "0.0",
         "0.0",
         "0.0",
         "0.0",
         "0.0",
         "0.0",
         "0.0",
         "0.0",
         "0.0",
         "0.0",
         "0.0",
         "0.0",
         "0.0",
         "0.0",
         "0.0",
         "0.0",
         "0.0",
         "0.0",
         "0.0",
         "0.0",
         "0.0",
         "0.0",
         "0.0",
         "0.0",
         "0.0",
         "0.0",
         "0.0",
         "0.0",
         "0.0",
         "0.0",
         "1.0",
         "0.0",
         "0.0",
         "1.0",
         "0.0",
         "0.0",
         "0.0",
         "0.0",
         "0.0",
         "1.0",
         "0.0",
         "0.0",
         "1.0",
         "0.0",
         "0.0",
         "1.0",
         "0.0",
         "0.0",
         "0.0",
         "0.0",
         "1.0",
         "0.0",
         "1.0",
         "0.0",
         "0.0",
         "1.0",
         "0.0"
        ],
        [
         "3",
         "1074",
         "99.0",
         "7.945580109182323",
         "71.53333333333333",
         "4.0",
         "0",
         "0.0",
         "0.0",
         "0.0",
         "0.0",
         "0.0",
         "0.0",
         "0.0",
         "0.0",
         "0.0",
         "0.0",
         "0.0",
         "0.0",
         "0.0",
         "0.0",
         "0.0",
         "0.0",
         "0.0",
         "0.0",
         "0.0",
         "0.0",
         "0.0",
         "0.0",
         "0.0",
         "0.0",
         "0.0",
         "0.0",
         "0.0",
         "0.0",
         "0.0",
         "0.0",
         "0.0",
         "0.0",
         "0.0",
         "0.0",
         "0.0",
         "0.0",
         "0.0",
         "1.0",
         "0.0",
         "0.0",
         "0.0",
         "0.0",
         "0.0",
         "0.0",
         "0.0",
         "0.0",
         "0.0",
         "0.0",
         "0.0",
         "0.0",
         "0.0",
         "0.0",
         "0.0",
         "0.0",
         "0.0",
         "0.0",
         "0.0",
         "0.0",
         "0.0",
         "0.0",
         "0.0",
         "0.0",
         "0.0",
         "0.0",
         "0.0",
         "0.0",
         "0.0",
         "0.0",
         "0.0",
         "0.0",
         "0.0",
         "0.0",
         "0.0",
         "0.0",
         "0.0",
         "0.0",
         "0.0",
         "0.0",
         "0.0",
         "0.0",
         "0.0",
         "0.0",
         "0.0",
         "0.0",
         "0.0",
         "0.0",
         "0.0",
         "0.0",
         "0.0",
         "0.0",
         "0.0",
         "0.0",
         "0.0",
         "0.0",
         "0.0",
         "0.0",
         "0.0",
         "0.0",
         "0.0",
         "0.0",
         "0.0",
         "0.0",
         "0.0",
         "0.0",
         "0.0",
         "0.0",
         "0.0",
         "0.0",
         "0.0",
         "0.0",
         "0.0",
         "0.0",
         "0.0",
         "0.0",
         "0.0",
         "0.0",
         "0.0",
         "0.0",
         "0.0",
         "0.0",
         "0.0",
         "0.0",
         "0.0",
         "0.0",
         "0.0",
         "0.0",
         "0.0",
         "0.0",
         "0.0",
         "0.0",
         "0.0",
         "0.0",
         "0.0",
         "0.0",
         "0.0",
         "0.0",
         "0.0",
         "0.0",
         "0.0",
         "0.0",
         "0.0",
         "0.0",
         "0.0",
         "0.0",
         "0.0",
         "0.0",
         "0.0",
         "0.0",
         "0.0",
         "0.0",
         "0.0",
         "0.0",
         "0.0",
         "0.0",
         "1.0",
         "0.0",
         "0.0",
         "0.0",
         "0.0",
         "0.0",
         "0.0",
         "0.0",
         "0.0",
         "0.0",
         "0.0",
         "0.0",
         "0.0",
         "0.0",
         "0.0",
         "0.0",
         "0.0",
         "0.0",
         "0.0",
         "0.0",
         "0.0",
         "0.0",
         "0.0",
         "0.0",
         "0.0",
         "0.0",
         "0.0",
         "0.0",
         "0.0",
         "0.0",
         "0.0",
         "0.0",
         "0.0",
         "0.0",
         "0.0",
         "0.0",
         "0.0",
         "0.0",
         "0.0",
         "0.0",
         "0.0",
         "0.0",
         "0.0",
         "0.0",
         "0.0",
         "0.0",
         "0.0",
         "0.0",
         "0.0",
         "0.0",
         "0.0",
         "0.0",
         "0.0",
         "0.0",
         "0.0",
         "0.0",
         "0.0",
         "0.0",
         "0.0",
         "0.0",
         "0.0",
         "0.0",
         "0.0",
         "0.0",
         "0.0",
         "0.0",
         "0.0",
         "0.0",
         "0.0",
         "0.0",
         "0.0",
         "0.0",
         "0.0",
         "0.0",
         "0.0",
         "0.0",
         "0.0",
         "0.0",
         "0.0",
         "0.0",
         "0.0",
         "0.0",
         "0.0",
         "0.0",
         "0.0",
         "0.0",
         "0.0",
         "0.0",
         "0.0",
         "0.0",
         "0.0",
         "0.0",
         "0.0",
         "0.0",
         "0.0",
         "1.0",
         "0.0",
         "0.0",
         "0.0",
         "0.0",
         "0.0",
         "0.0",
         "0.0",
         "0.0",
         "0.0",
         "0.0",
         "0.0",
         "0.0",
         "0.0",
         "0.0",
         "0.0",
         "0.0",
         "0.0",
         "0.0",
         "0.0",
         "0.0",
         "0.0",
         "0.0",
         "0.0",
         "0.0",
         "0.0",
         "0.0",
         "0.0",
         "0.0",
         "0.0",
         "0.0",
         "0.0",
         "0.0",
         "0.0",
         "0.0",
         "0.0",
         "0.0",
         "0.0",
         "0.0",
         "0.0",
         "0.0",
         "0.0",
         "0.0",
         "0.0",
         "0.0",
         "0.0",
         "0.0",
         "0.0",
         "0.0",
         "0.0",
         "0.0",
         "0.0",
         "0.0",
         "0.0",
         "0.0",
         "0.0",
         "0.0",
         "1.0",
         "1.0",
         "0.0",
         "0.0",
         "0.0",
         "0.0",
         "0.0",
         "1.0",
         "0.0",
         "0.0",
         "0.0",
         "1.0",
         "0.0",
         "0.0",
         "1.0",
         "0.0",
         "0.0",
         "0.0",
         "1.0",
         "0.0",
         "1.0",
         "0.0",
         "0.0",
         "1.0",
         "0.0"
        ],
        [
         "4",
         "17",
         "99.0",
         "7.945580109182323",
         "52.4",
         "4.0",
         "0",
         "0.0",
         "0.0",
         "0.0",
         "0.0",
         "0.0",
         "0.0",
         "0.0",
         "0.0",
         "0.0",
         "0.0",
         "0.0",
         "0.0",
         "0.0",
         "0.0",
         "0.0",
         "0.0",
         "0.0",
         "0.0",
         "0.0",
         "0.0",
         "1.0",
         "0.0",
         "0.0",
         "0.0",
         "0.0",
         "0.0",
         "0.0",
         "0.0",
         "0.0",
         "0.0",
         "0.0",
         "0.0",
         "0.0",
         "0.0",
         "0.0",
         "0.0",
         "0.0",
         "0.0",
         "0.0",
         "0.0",
         "0.0",
         "0.0",
         "0.0",
         "0.0",
         "0.0",
         "0.0",
         "0.0",
         "0.0",
         "0.0",
         "0.0",
         "0.0",
         "0.0",
         "0.0",
         "0.0",
         "0.0",
         "0.0",
         "0.0",
         "0.0",
         "0.0",
         "0.0",
         "0.0",
         "0.0",
         "0.0",
         "0.0",
         "0.0",
         "0.0",
         "0.0",
         "0.0",
         "0.0",
         "0.0",
         "0.0",
         "0.0",
         "0.0",
         "0.0",
         "0.0",
         "0.0",
         "0.0",
         "0.0",
         "0.0",
         "0.0",
         "0.0",
         "0.0",
         "0.0",
         "0.0",
         "0.0",
         "0.0",
         "0.0",
         "0.0",
         "0.0",
         "0.0",
         "0.0",
         "0.0",
         "0.0",
         "0.0",
         "0.0",
         "0.0",
         "0.0",
         "0.0",
         "0.0",
         "0.0",
         "0.0",
         "0.0",
         "0.0",
         "0.0",
         "0.0",
         "0.0",
         "0.0",
         "0.0",
         "0.0",
         "0.0",
         "0.0",
         "0.0",
         "0.0",
         "0.0",
         "0.0",
         "0.0",
         "0.0",
         "0.0",
         "0.0",
         "0.0",
         "0.0",
         "0.0",
         "0.0",
         "0.0",
         "0.0",
         "0.0",
         "0.0",
         "0.0",
         "0.0",
         "0.0",
         "0.0",
         "0.0",
         "0.0",
         "0.0",
         "0.0",
         "0.0",
         "0.0",
         "0.0",
         "0.0",
         "0.0",
         "0.0",
         "0.0",
         "0.0",
         "0.0",
         "0.0",
         "0.0",
         "0.0",
         "0.0",
         "0.0",
         "0.0",
         "0.0",
         "0.0",
         "0.0",
         "0.0",
         "1.0",
         "0.0",
         "0.0",
         "0.0",
         "0.0",
         "0.0",
         "0.0",
         "0.0",
         "0.0",
         "0.0",
         "0.0",
         "0.0",
         "0.0",
         "0.0",
         "0.0",
         "0.0",
         "0.0",
         "0.0",
         "0.0",
         "0.0",
         "0.0",
         "0.0",
         "0.0",
         "0.0",
         "0.0",
         "0.0",
         "0.0",
         "0.0",
         "0.0",
         "0.0",
         "0.0",
         "0.0",
         "0.0",
         "0.0",
         "0.0",
         "0.0",
         "0.0",
         "0.0",
         "0.0",
         "0.0",
         "0.0",
         "0.0",
         "0.0",
         "0.0",
         "0.0",
         "0.0",
         "0.0",
         "0.0",
         "0.0",
         "0.0",
         "0.0",
         "0.0",
         "0.0",
         "0.0",
         "0.0",
         "0.0",
         "0.0",
         "0.0",
         "0.0",
         "0.0",
         "0.0",
         "0.0",
         "0.0",
         "0.0",
         "0.0",
         "0.0",
         "0.0",
         "0.0",
         "0.0",
         "0.0",
         "0.0",
         "0.0",
         "0.0",
         "0.0",
         "0.0",
         "0.0",
         "0.0",
         "0.0",
         "0.0",
         "0.0",
         "0.0",
         "0.0",
         "0.0",
         "0.0",
         "0.0",
         "0.0",
         "0.0",
         "0.0",
         "0.0",
         "0.0",
         "0.0",
         "0.0",
         "0.0",
         "0.0",
         "0.0",
         "0.0",
         "0.0",
         "0.0",
         "0.0",
         "0.0",
         "0.0",
         "0.0",
         "0.0",
         "0.0",
         "0.0",
         "0.0",
         "0.0",
         "0.0",
         "0.0",
         "0.0",
         "0.0",
         "0.0",
         "0.0",
         "0.0",
         "0.0",
         "0.0",
         "0.0",
         "0.0",
         "0.0",
         "0.0",
         "1.0",
         "0.0",
         "0.0",
         "0.0",
         "0.0",
         "0.0",
         "0.0",
         "0.0",
         "0.0",
         "0.0",
         "0.0",
         "0.0",
         "1.0",
         "0.0",
         "0.0",
         "0.0",
         "0.0",
         "0.0",
         "0.0",
         "0.0",
         "0.0",
         "0.0",
         "0.0",
         "0.0",
         "0.0",
         "0.0",
         "0.0",
         "0.0",
         "0.0",
         "0.0",
         "0.0",
         "0.0",
         "0.0",
         "1.0",
         "0.0",
         "0.0",
         "0.0",
         "0.0",
         "0.0",
         "1.0",
         "0.0",
         "0.0",
         "0.0",
         "1.0",
         "0.0",
         "0.0",
         "1.0",
         "0.0",
         "0.0",
         "0.0",
         "1.0",
         "0.0",
         "1.0",
         "0.0",
         "0.0",
         "1.0",
         "0.0"
        ]
       ],
       "shape": {
        "columns": 337,
        "rows": 5
       }
      },
      "text/html": [
       "<div>\n",
       "<style scoped>\n",
       "    .dataframe tbody tr th:only-of-type {\n",
       "        vertical-align: middle;\n",
       "    }\n",
       "\n",
       "    .dataframe tbody tr th {\n",
       "        vertical-align: top;\n",
       "    }\n",
       "\n",
       "    .dataframe thead th {\n",
       "        text-align: right;\n",
       "    }\n",
       "</style>\n",
       "<table border=\"1\" class=\"dataframe\">\n",
       "  <thead>\n",
       "    <tr style=\"text-align: right;\">\n",
       "      <th></th>\n",
       "      <th>userRatingCount</th>\n",
       "      <th>isCorporateEmailScore</th>\n",
       "      <th>adSpent</th>\n",
       "      <th>appAge</th>\n",
       "      <th>averageUserRating</th>\n",
       "      <th>target</th>\n",
       "      <th>developerCountry_ADDRESS NOT LISTED IN PLAYSTORE</th>\n",
       "      <th>developerCountry_ALBANIA</th>\n",
       "      <th>developerCountry_ALGERIA</th>\n",
       "      <th>developerCountry_ANDORRA</th>\n",
       "      <th>...</th>\n",
       "      <th>appContentBrandSafetyRating_high</th>\n",
       "      <th>appContentBrandSafetyRating_low</th>\n",
       "      <th>appContentBrandSafetyRating_medium</th>\n",
       "      <th>appContentBrandSafetyRating_nan</th>\n",
       "      <th>appDescriptionBrandSafetyRating_high</th>\n",
       "      <th>appDescriptionBrandSafetyRating_low</th>\n",
       "      <th>appDescriptionBrandSafetyRating_medium</th>\n",
       "      <th>mfaRating_high</th>\n",
       "      <th>mfaRating_low</th>\n",
       "      <th>mfaRating_medium</th>\n",
       "    </tr>\n",
       "  </thead>\n",
       "  <tbody>\n",
       "    <tr>\n",
       "      <th>0</th>\n",
       "      <td>127731</td>\n",
       "      <td>99.0</td>\n",
       "      <td>14.017220</td>\n",
       "      <td>160.400000</td>\n",
       "      <td>4.0</td>\n",
       "      <td>0</td>\n",
       "      <td>0.0</td>\n",
       "      <td>0.0</td>\n",
       "      <td>0.0</td>\n",
       "      <td>0.0</td>\n",
       "      <td>...</td>\n",
       "      <td>0.0</td>\n",
       "      <td>0.0</td>\n",
       "      <td>1.0</td>\n",
       "      <td>0.0</td>\n",
       "      <td>0.0</td>\n",
       "      <td>1.0</td>\n",
       "      <td>0.0</td>\n",
       "      <td>0.0</td>\n",
       "      <td>1.0</td>\n",
       "      <td>0.0</td>\n",
       "    </tr>\n",
       "    <tr>\n",
       "      <th>1</th>\n",
       "      <td>0</td>\n",
       "      <td>99.0</td>\n",
       "      <td>7.945580</td>\n",
       "      <td>17.500000</td>\n",
       "      <td>0.0</td>\n",
       "      <td>0</td>\n",
       "      <td>1.0</td>\n",
       "      <td>0.0</td>\n",
       "      <td>0.0</td>\n",
       "      <td>0.0</td>\n",
       "      <td>...</td>\n",
       "      <td>0.0</td>\n",
       "      <td>0.0</td>\n",
       "      <td>0.0</td>\n",
       "      <td>1.0</td>\n",
       "      <td>0.0</td>\n",
       "      <td>1.0</td>\n",
       "      <td>0.0</td>\n",
       "      <td>0.0</td>\n",
       "      <td>1.0</td>\n",
       "      <td>0.0</td>\n",
       "    </tr>\n",
       "    <tr>\n",
       "      <th>2</th>\n",
       "      <td>51143</td>\n",
       "      <td>0.0</td>\n",
       "      <td>31.883163</td>\n",
       "      <td>30.766667</td>\n",
       "      <td>4.0</td>\n",
       "      <td>0</td>\n",
       "      <td>0.0</td>\n",
       "      <td>0.0</td>\n",
       "      <td>0.0</td>\n",
       "      <td>0.0</td>\n",
       "      <td>...</td>\n",
       "      <td>0.0</td>\n",
       "      <td>0.0</td>\n",
       "      <td>0.0</td>\n",
       "      <td>1.0</td>\n",
       "      <td>0.0</td>\n",
       "      <td>1.0</td>\n",
       "      <td>0.0</td>\n",
       "      <td>0.0</td>\n",
       "      <td>1.0</td>\n",
       "      <td>0.0</td>\n",
       "    </tr>\n",
       "    <tr>\n",
       "      <th>3</th>\n",
       "      <td>1074</td>\n",
       "      <td>99.0</td>\n",
       "      <td>7.945580</td>\n",
       "      <td>71.533333</td>\n",
       "      <td>4.0</td>\n",
       "      <td>0</td>\n",
       "      <td>0.0</td>\n",
       "      <td>0.0</td>\n",
       "      <td>0.0</td>\n",
       "      <td>0.0</td>\n",
       "      <td>...</td>\n",
       "      <td>0.0</td>\n",
       "      <td>0.0</td>\n",
       "      <td>0.0</td>\n",
       "      <td>1.0</td>\n",
       "      <td>0.0</td>\n",
       "      <td>1.0</td>\n",
       "      <td>0.0</td>\n",
       "      <td>0.0</td>\n",
       "      <td>1.0</td>\n",
       "      <td>0.0</td>\n",
       "    </tr>\n",
       "    <tr>\n",
       "      <th>4</th>\n",
       "      <td>17</td>\n",
       "      <td>99.0</td>\n",
       "      <td>7.945580</td>\n",
       "      <td>52.400000</td>\n",
       "      <td>4.0</td>\n",
       "      <td>0</td>\n",
       "      <td>0.0</td>\n",
       "      <td>0.0</td>\n",
       "      <td>0.0</td>\n",
       "      <td>0.0</td>\n",
       "      <td>...</td>\n",
       "      <td>0.0</td>\n",
       "      <td>0.0</td>\n",
       "      <td>0.0</td>\n",
       "      <td>1.0</td>\n",
       "      <td>0.0</td>\n",
       "      <td>1.0</td>\n",
       "      <td>0.0</td>\n",
       "      <td>0.0</td>\n",
       "      <td>1.0</td>\n",
       "      <td>0.0</td>\n",
       "    </tr>\n",
       "  </tbody>\n",
       "</table>\n",
       "<p>5 rows × 337 columns</p>\n",
       "</div>"
      ],
      "text/plain": [
       "   userRatingCount  isCorporateEmailScore    adSpent      appAge  \\\n",
       "0           127731                   99.0  14.017220  160.400000   \n",
       "1                0                   99.0   7.945580   17.500000   \n",
       "2            51143                    0.0  31.883163   30.766667   \n",
       "3             1074                   99.0   7.945580   71.533333   \n",
       "4               17                   99.0   7.945580   52.400000   \n",
       "\n",
       "   averageUserRating  target  \\\n",
       "0                4.0       0   \n",
       "1                0.0       0   \n",
       "2                4.0       0   \n",
       "3                4.0       0   \n",
       "4                4.0       0   \n",
       "\n",
       "   developerCountry_ADDRESS NOT LISTED IN PLAYSTORE  developerCountry_ALBANIA  \\\n",
       "0                                               0.0                       0.0   \n",
       "1                                               1.0                       0.0   \n",
       "2                                               0.0                       0.0   \n",
       "3                                               0.0                       0.0   \n",
       "4                                               0.0                       0.0   \n",
       "\n",
       "   developerCountry_ALGERIA  developerCountry_ANDORRA  ...  \\\n",
       "0                       0.0                       0.0  ...   \n",
       "1                       0.0                       0.0  ...   \n",
       "2                       0.0                       0.0  ...   \n",
       "3                       0.0                       0.0  ...   \n",
       "4                       0.0                       0.0  ...   \n",
       "\n",
       "   appContentBrandSafetyRating_high  appContentBrandSafetyRating_low  \\\n",
       "0                               0.0                              0.0   \n",
       "1                               0.0                              0.0   \n",
       "2                               0.0                              0.0   \n",
       "3                               0.0                              0.0   \n",
       "4                               0.0                              0.0   \n",
       "\n",
       "   appContentBrandSafetyRating_medium  appContentBrandSafetyRating_nan  \\\n",
       "0                                 1.0                              0.0   \n",
       "1                                 0.0                              1.0   \n",
       "2                                 0.0                              1.0   \n",
       "3                                 0.0                              1.0   \n",
       "4                                 0.0                              1.0   \n",
       "\n",
       "   appDescriptionBrandSafetyRating_high  appDescriptionBrandSafetyRating_low  \\\n",
       "0                                   0.0                                  1.0   \n",
       "1                                   0.0                                  1.0   \n",
       "2                                   0.0                                  1.0   \n",
       "3                                   0.0                                  1.0   \n",
       "4                                   0.0                                  1.0   \n",
       "\n",
       "   appDescriptionBrandSafetyRating_medium  mfaRating_high  mfaRating_low  \\\n",
       "0                                     0.0             0.0            1.0   \n",
       "1                                     0.0             0.0            1.0   \n",
       "2                                     0.0             0.0            1.0   \n",
       "3                                     0.0             0.0            1.0   \n",
       "4                                     0.0             0.0            1.0   \n",
       "\n",
       "   mfaRating_medium  \n",
       "0               0.0  \n",
       "1               0.0  \n",
       "2               0.0  \n",
       "3               0.0  \n",
       "4               0.0  \n",
       "\n",
       "[5 rows x 337 columns]"
      ]
     },
     "execution_count": 27,
     "metadata": {},
     "output_type": "execute_result"
    }
   ],
   "source": [
    "preproc.head()"
   ]
  },
  {
   "cell_type": "markdown",
   "id": "ae3b333f",
   "metadata": {},
   "source": [
    "# 5. Modelling"
   ]
  },
  {
   "cell_type": "markdown",
   "id": "5b4e3f52",
   "metadata": {},
   "source": [
    "## Train test split"
   ]
  },
  {
   "cell_type": "code",
   "execution_count": 28,
   "id": "53c92dcb",
   "metadata": {},
   "outputs": [],
   "source": [
    "from sklearn.model_selection import train_test_split"
   ]
  },
  {
   "cell_type": "code",
   "execution_count": 29,
   "id": "d2eba6d1",
   "metadata": {},
   "outputs": [],
   "source": [
    "X = preproc.drop(columns=['target'])\n",
    "y = preproc['target']\n",
    "X_train, X_val, y_train, y_val = train_test_split(X, y, test_size=0.2, random_state=STATE)"
   ]
  },
  {
   "cell_type": "markdown",
   "id": "9274db59",
   "metadata": {},
   "source": [
    "## XGBoost"
   ]
  },
  {
   "cell_type": "code",
   "execution_count": 30,
   "id": "b51bd3e8",
   "metadata": {},
   "outputs": [],
   "source": [
    "from xgboost import XGBClassifier\n",
    "from sklearn.metrics import classification_report, accuracy_score, roc_auc_score"
   ]
  },
  {
   "cell_type": "code",
   "execution_count": 31,
   "id": "7e5e07d6",
   "metadata": {},
   "outputs": [],
   "source": [
    "xgb_params = {\n",
    "    'eval_metric': 'auc',\n",
    "    'learning_rate': 0.05,\n",
    "    'max_depth': 5,\n",
    "    'min_child_weight': 1,\n",
    "    'subsample': 0.8,\n",
    "    'colsample_bytree': 0.8,\n",
    "    'random_state':STATE\n",
    "}"
   ]
  },
  {
   "cell_type": "code",
   "execution_count": 32,
   "id": "b3e9c9f2",
   "metadata": {},
   "outputs": [],
   "source": [
    "xgb = XGBClassifier(**xgb_params,objective='binary:logistic')"
   ]
  },
  {
   "cell_type": "code",
   "execution_count": 37,
   "id": "72982eab",
   "metadata": {},
   "outputs": [
    {
     "name": "stdout",
     "output_type": "stream",
     "text": [
      "              precision    recall  f1-score   support\n",
      "\n",
      "           0       0.91      0.98      0.95      1266\n",
      "           1       0.34      0.07      0.12       134\n",
      "\n",
      "    accuracy                           0.90      1400\n",
      "   macro avg       0.63      0.53      0.53      1400\n",
      "weighted avg       0.86      0.90      0.87      1400\n",
      "\n",
      "Accuracy: 0.8978571428571429\n",
      "ROC AUC: 0.8856635071090048\n"
     ]
    }
   ],
   "source": [
    "xgb.fit(X_train, y_train)\n",
    "y_pred = xgb.predict_proba(X_val)[:, 1]\n",
    "y_pred_binary = (y_pred > 0.5).astype(int)\n",
    "print(classification_report(y_val, y_pred_binary))\n",
    "print(f\"Accuracy: {accuracy_score(y_val, y_pred_binary)}\")\n",
    "print(f\"ROC AUC: {roc_auc_score(y_val, y_pred)}\")"
   ]
  },
  {
   "cell_type": "markdown",
   "id": "45988c05",
   "metadata": {},
   "source": [
    "## Optuna Tuning"
   ]
  },
  {
   "cell_type": "code",
   "execution_count": 45,
   "id": "cb99b60a",
   "metadata": {},
   "outputs": [],
   "source": [
    "import optuna\n",
    "from optuna.samplers import TPESampler"
   ]
  },
  {
   "cell_type": "code",
   "execution_count": 49,
   "id": "3e83e5cb",
   "metadata": {},
   "outputs": [],
   "source": [
    "def objective(trial):\n",
    "\n",
    "    param = {\n",
    "        \"verbosity\": 0,\n",
    "        # use exact for small dataset.\n",
    "        \"tree_method\": \"exact\",\n",
    "        # defines booster, gblinear for linear functions.\n",
    "        \"booster\": trial.suggest_categorical(\"booster\", [\"gbtree\", \"gblinear\", \"dart\"]),\n",
    "        # L2 regularization weight.\n",
    "        \"lambda\": trial.suggest_float(\"lambda\", 1e-8, 1.0, log=True),\n",
    "        # L1 regularization weight.\n",
    "        \"alpha\": trial.suggest_float(\"alpha\", 1e-8, 1.0, log=True),\n",
    "        # sampling ratio for training data.\n",
    "        \"subsample\": trial.suggest_float(\"subsample\", 0.2, 1.0),\n",
    "        # sampling according to each tree.\n",
    "        \"colsample_bytree\": trial.suggest_float(\"colsample_bytree\", 0.2, 1.0),\n",
    "    }\n",
    "\n",
    "    if param[\"booster\"] in [\"gbtree\", \"dart\"]:\n",
    "        # maximum depth of the tree, signifies complexity of the tree.\n",
    "        param[\"max_depth\"] = trial.suggest_int(\"max_depth\", 3, 9, step=2)\n",
    "        # minimum child weight, larger the term more conservative the tree.\n",
    "        param[\"min_child_weight\"] = trial.suggest_int(\"min_child_weight\", 2, 10)\n",
    "        param[\"eta\"] = trial.suggest_float(\"eta\", 1e-8, 1.0, log=True)\n",
    "        # defines how selective algorithm is.\n",
    "        param[\"gamma\"] = trial.suggest_float(\"gamma\", 1e-8, 1.0, log=True)\n",
    "        param[\"grow_policy\"] = trial.suggest_categorical(\"grow_policy\", [\"depthwise\", \"lossguide\"])\n",
    "\n",
    "    if param[\"booster\"] == \"dart\":\n",
    "        param[\"sample_type\"] = trial.suggest_categorical(\"sample_type\", [\"uniform\", \"weighted\"])\n",
    "        param[\"normalize_type\"] = trial.suggest_categorical(\"normalize_type\", [\"tree\", \"forest\"])\n",
    "        param[\"rate_drop\"] = trial.suggest_float(\"rate_drop\", 1e-8, 1.0, log=True)\n",
    "        param[\"skip_drop\"] = trial.suggest_float(\"skip_drop\", 1e-8, 1.0, log=True)\n",
    "\n",
    "    try_model = XGBClassifier(**param, random_state=STATE, eval_metric=\"auc\",objective='binary:logistic'\n",
    "                              , early_stopping_rounds=100, n_estimators=1000)\n",
    "    try_model.fit(X_train, y_train, eval_set=[(X_val, y_val)], verbose=False)\n",
    "    y_pred = try_model.predict_proba(X_val)[:, 1]\n",
    "    return roc_auc_score(y_val, y_pred)\n"
   ]
  },
  {
   "cell_type": "code",
   "execution_count": 50,
   "id": "7d997d52",
   "metadata": {},
   "outputs": [],
   "source": [
    "optuna.logging.set_verbosity(optuna.logging.INFO)\n",
    "\n",
    "sampler = TPESampler(seed=1)"
   ]
  },
  {
   "cell_type": "code",
   "execution_count": 51,
   "id": "20756b7e",
   "metadata": {},
   "outputs": [
    {
     "name": "stderr",
     "output_type": "stream",
     "text": [
      "[I 2025-04-12 01:26:12,806] A new study created in memory with name: xgb\n",
      "[I 2025-04-12 01:26:13,834] Trial 0 finished with value: 0.857218646105963 and parameters: {'booster': 'gblinear', 'lambda': 2.622168410226067e-06, 'alpha': 1.492956405760975e-07, 'subsample': 0.2738708758150383, 'colsample_bytree': 0.3490081691021367}. Best is trial 0 with value: 0.857218646105963.\n",
      "[I 2025-04-12 01:26:21,977] Trial 1 finished with value: 0.8846997241281743 and parameters: {'booster': 'dart', 'lambda': 2.257127620305132e-05, 'alpha': 0.0030321871516973044, 'subsample': 0.36356179978521397, 'colsample_bytree': 0.9024939491127564, 'max_depth': 3, 'min_child_weight': 8, 'eta': 2.1799092736448257e-05, 'gamma': 0.0002947939915624361, 'grow_policy': 'lossguide', 'sample_type': 'weighted', 'normalize_type': 'forest', 'rate_drop': 0.10259193433611967, 'skip_drop': 0.14350046489008147}. Best is trial 1 with value: 0.8846997241281743.\n",
      "[I 2025-04-12 01:26:28,668] Trial 2 finished with value: 0.8903556860248522 and parameters: {'booster': 'dart', 'lambda': 0.10595953102146506, 'alpha': 6.120327622729636e-08, 'subsample': 0.5368861000040417, 'colsample_bytree': 0.9663116241204015, 'max_depth': 7, 'min_child_weight': 8, 'eta': 3.3429127991939627e-06, 'gamma': 0.0031046126409297716, 'grow_policy': 'depthwise', 'sample_type': 'weighted', 'normalize_type': 'tree', 'rate_drop': 0.020617434694386327, 'skip_drop': 6.69588602468927e-08}. Best is trial 2 with value: 0.8903556860248522.\n",
      "[I 2025-04-12 01:26:29,522] Trial 3 finished with value: 0.8562047581995238 and parameters: {'booster': 'gblinear', 'lambda': 2.005407841101546e-06, 'alpha': 1.0970554441053845e-07, 'subsample': 0.21549356629623767, 'colsample_bytree': 0.7430684263519127}. Best is trial 2 with value: 0.8903556860248522.\n",
      "[I 2025-04-12 01:26:43,119] Trial 4 finished with value: 0.8838892032727359 and parameters: {'booster': 'dart', 'lambda': 2.6723932180381294e-08, 'alpha': 0.0003916885208477578, 'subsample': 0.31738285992464815, 'colsample_bytree': 0.6714444295226274, 'max_depth': 7, 'min_child_weight': 2, 'eta': 2.0532787028406604e-05, 'gamma': 0.003590883056819285, 'grow_policy': 'depthwise', 'sample_type': 'weighted', 'normalize_type': 'forest', 'rate_drop': 0.0004925386594394227, 'skip_drop': 0.1687389422204296}. Best is trial 2 with value: 0.8903556860248522.\n",
      "[I 2025-04-12 01:26:56,504] Trial 5 finished with value: 0.8843784631345641 and parameters: {'booster': 'dart', 'lambda': 1.5184996490587426e-05, 'alpha': 2.1029724194388579e-07, 'subsample': 0.9420068643168271, 'colsample_bytree': 0.47821268779640524, 'max_depth': 9, 'min_child_weight': 8, 'eta': 0.11653294705011868, 'gamma': 0.0009758378438949183, 'grow_policy': 'depthwise', 'sample_type': 'weighted', 'normalize_type': 'forest', 'rate_drop': 0.0020301680210790154, 'skip_drop': 0.0009409482993800824}. Best is trial 2 with value: 0.8903556860248522.\n",
      "[I 2025-04-12 01:26:58,861] Trial 6 finished with value: 0.8777439815142298 and parameters: {'booster': 'gblinear', 'lambda': 0.00042375702903698275, 'alpha': 1.8411722562339945e-05, 'subsample': 0.38962158419442217, 'colsample_bytree': 0.922703616449803}. Best is trial 2 with value: 0.8903556860248522.\n",
      "[I 2025-04-12 01:27:04,725] Trial 7 finished with value: 0.5 and parameters: {'booster': 'dart', 'lambda': 4.103545130983294e-06, 'alpha': 0.0001646132608697695, 'subsample': 0.9087536794486197, 'colsample_bytree': 0.48581580800199986, 'max_depth': 9, 'min_child_weight': 7, 'eta': 1.338350738094546e-08, 'gamma': 0.27258243697598344, 'grow_policy': 'lossguide', 'sample_type': 'uniform', 'normalize_type': 'tree', 'rate_drop': 3.3728838179342946e-08, 'skip_drop': 0.01105870876261784}. Best is trial 2 with value: 0.8903556860248522.\n",
      "[I 2025-04-12 01:27:05,501] Trial 8 finished with value: 0.8443033646931222 and parameters: {'booster': 'gblinear', 'lambda': 9.866603950101667e-08, 'alpha': 1.442251737126351e-08, 'subsample': 0.22096878950217544, 'colsample_bytree': 0.2226451904166357}. Best is trial 2 with value: 0.8903556860248522.\n",
      "[I 2025-04-12 01:27:06,382] Trial 9 finished with value: 0.5442603334040698 and parameters: {'booster': 'gblinear', 'lambda': 0.000264591464126228, 'alpha': 0.0544812594772125, 'subsample': 0.2993386520959289, 'colsample_bytree': 0.42334694320891164}. Best is trial 2 with value: 0.8903556860248522.\n",
      "[I 2025-04-12 01:27:09,287] Trial 10 finished with value: 0.6045395062601683 and parameters: {'booster': 'gbtree', 'lambda': 0.4456832500128282, 'alpha': 8.116486257872748e-06, 'subsample': 0.6338920183153037, 'colsample_bytree': 0.801000141133848, 'max_depth': 5, 'min_child_weight': 4, 'eta': 1.8297791569408607e-08, 'gamma': 3.722056881679175e-08, 'grow_policy': 'depthwise'}. Best is trial 2 with value: 0.8903556860248522.\n",
      "[I 2025-04-12 01:27:21,063] Trial 11 finished with value: 0.881719954728726 and parameters: {'booster': 'dart', 'lambda': 0.02814290608996244, 'alpha': 0.01459416280992021, 'subsample': 0.5271266721654796, 'colsample_bytree': 0.9411328631039789, 'max_depth': 3, 'min_child_weight': 10, 'eta': 2.5167903181050455e-05, 'gamma': 7.067481804495376e-06, 'grow_policy': 'lossguide', 'sample_type': 'weighted', 'normalize_type': 'tree', 'rate_drop': 0.7245492885612006, 'skip_drop': 1.7863937733670664e-07}. Best is trial 2 with value: 0.8903556860248522.\n",
      "[I 2025-04-12 01:27:25,425] Trial 12 finished with value: 0.8771869326354012 and parameters: {'booster': 'dart', 'lambda': 0.005767049858516802, 'alpha': 0.0021380234462368146, 'subsample': 0.5471901093862662, 'colsample_bytree': 0.9995736559199414, 'max_depth': 3, 'min_child_weight': 9, 'eta': 3.7296113113092372e-06, 'gamma': 2.0144160030925793e-05, 'grow_policy': 'lossguide', 'sample_type': 'weighted', 'normalize_type': 'tree', 'rate_drop': 0.5646669895537776, 'skip_drop': 1.0405687091860942e-08}. Best is trial 2 with value: 0.8903556860248522.\n",
      "[I 2025-04-12 01:27:26,936] Trial 13 finished with value: 0.8859287684798755 and parameters: {'booster': 'gbtree', 'lambda': 0.9687282434705043, 'alpha': 0.47611742618385655, 'subsample': 0.7262159058680909, 'colsample_bytree': 0.8260801962757987, 'max_depth': 5, 'min_child_weight': 6, 'eta': 0.005051343698673614, 'gamma': 0.02572715420611744, 'grow_policy': 'lossguide'}. Best is trial 2 with value: 0.8903556860248522.\n",
      "[I 2025-04-12 01:27:28,864] Trial 14 finished with value: 0.886459291221617 and parameters: {'booster': 'gbtree', 'lambda': 0.9168751207213508, 'alpha': 0.2907979521923418, 'subsample': 0.7362640667407631, 'colsample_bytree': 0.8160969694109078, 'max_depth': 7, 'min_child_weight': 5, 'eta': 0.005499531128515187, 'gamma': 0.11875516737969571, 'grow_policy': 'depthwise'}. Best is trial 2 with value: 0.8903556860248522.\n",
      "[I 2025-04-12 01:27:30,691] Trial 15 finished with value: 0.8870045507061847 and parameters: {'booster': 'gbtree', 'lambda': 0.03608032316911217, 'alpha': 5.313977963788209e-06, 'subsample': 0.7870385723603966, 'colsample_bytree': 0.606270875436761, 'max_depth': 7, 'min_child_weight': 5, 'eta': 0.0022344210168598346, 'gamma': 0.43997481998909566, 'grow_policy': 'depthwise'}. Best is trial 2 with value: 0.8903556860248522.\n",
      "[I 2025-04-12 01:27:32,640] Trial 16 finished with value: 0.885807927188701 and parameters: {'booster': 'gbtree', 'lambda': 0.028366847310844445, 'alpha': 2.889940874735988e-06, 'subsample': 0.7963092766471503, 'colsample_bytree': 0.6007472311207727, 'max_depth': 7, 'min_child_weight': 4, 'eta': 4.836899321992888e-07, 'gamma': 0.48367824366547413, 'grow_policy': 'depthwise'}. Best is trial 2 with value: 0.8903556860248522.\n",
      "[I 2025-04-12 01:27:34,205] Trial 17 finished with value: 0.8889026431821933 and parameters: {'booster': 'gbtree', 'lambda': 0.004304324521572763, 'alpha': 1.0437209909729821e-08, 'subsample': 0.49383650254613826, 'colsample_bytree': 0.6757708720692039, 'max_depth': 7, 'min_child_weight': 6, 'eta': 0.0006568376033656945, 'gamma': 0.012573930177291772, 'grow_policy': 'depthwise'}. Best is trial 2 with value: 0.8903556860248522.\n",
      "[I 2025-04-12 01:27:36,266] Trial 18 finished with value: 0.8891266416731508 and parameters: {'booster': 'gbtree', 'lambda': 0.001962089158324367, 'alpha': 1.3301052332462069e-08, 'subsample': 0.49732221186834263, 'colsample_bytree': 0.7220305008093673, 'max_depth': 9, 'min_child_weight': 7, 'eta': 0.00027580805896172184, 'gamma': 0.00752776532092867, 'grow_policy': 'depthwise'}. Best is trial 2 with value: 0.8903556860248522.\n",
      "[I 2025-04-12 01:27:38,022] Trial 19 finished with value: 0.8878357030015799 and parameters: {'booster': 'gbtree', 'lambda': 0.0018018291819506518, 'alpha': 7.519943908321389e-07, 'subsample': 0.4401908882227181, 'colsample_bytree': 0.6931117578755313, 'max_depth': 9, 'min_child_weight': 8, 'eta': 3.9819759861055477e-07, 'gamma': 0.0001378053465382443, 'grow_policy': 'depthwise'}. Best is trial 2 with value: 0.8903556860248522.\n",
      "[I 2025-04-12 01:27:50,836] Trial 20 finished with value: 0.8909304189950721 and parameters: {'booster': 'dart', 'lambda': 0.1432380263784995, 'alpha': 5.7086861367786e-08, 'subsample': 0.6348647140121397, 'colsample_bytree': 0.8579342506889917, 'max_depth': 9, 'min_child_weight': 10, 'eta': 0.0002681763012465749, 'gamma': 1.8358291120630254e-06, 'grow_policy': 'depthwise', 'sample_type': 'uniform', 'normalize_type': 'tree', 'rate_drop': 1.2157326446481885e-06, 'skip_drop': 6.904404346040278e-06}. Best is trial 20 with value: 0.8909304189950721.\n",
      "[I 2025-04-12 01:28:04,457] Trial 21 finished with value: 0.8898104265402844 and parameters: {'booster': 'dart', 'lambda': 0.13324321806148115, 'alpha': 3.8767253252393825e-08, 'subsample': 0.6560730767087141, 'colsample_bytree': 0.8684607867027365, 'max_depth': 9, 'min_child_weight': 10, 'eta': 0.00042028623157390726, 'gamma': 2.8793890055339696e-07, 'grow_policy': 'depthwise', 'sample_type': 'uniform', 'normalize_type': 'tree', 'rate_drop': 8.316356701758833e-07, 'skip_drop': 4.695745776921424e-06}. Best is trial 20 with value: 0.8909304189950721.\n",
      "[I 2025-04-12 01:28:19,018] Trial 22 finished with value: 0.8876382306477093 and parameters: {'booster': 'dart', 'lambda': 0.09848019956638537, 'alpha': 8.222427336478622e-07, 'subsample': 0.6275411232907875, 'colsample_bytree': 0.8681992718508746, 'max_depth': 9, 'min_child_weight': 10, 'eta': 0.10354887630619218, 'gamma': 2.5644183365426166e-07, 'grow_policy': 'depthwise', 'sample_type': 'uniform', 'normalize_type': 'tree', 'rate_drop': 4.5669038434281505e-07, 'skip_drop': 5.082458286044032e-06}. Best is trial 20 with value: 0.8909304189950721.\n",
      "[I 2025-04-12 01:28:34,315] Trial 23 finished with value: 0.8895274810780223 and parameters: {'booster': 'dart', 'lambda': 0.12038048567977744, 'alpha': 4.686983678708589e-08, 'subsample': 0.6676173414649806, 'colsample_bytree': 0.9639847368422974, 'max_depth': 9, 'min_child_weight': 10, 'eta': 0.00011598537219553096, 'gamma': 8.851985861128466e-07, 'grow_policy': 'depthwise', 'sample_type': 'uniform', 'normalize_type': 'tree', 'rate_drop': 2.70040630000546e-06, 'skip_drop': 5.8557800461631925e-06}. Best is trial 20 with value: 0.8909304189950721.\n",
      "[I 2025-04-12 01:28:45,567] Trial 24 finished with value: 0.888042017401146 and parameters: {'booster': 'dart', 'lambda': 0.16943215403160972, 'alpha': 7.50775448114043e-07, 'subsample': 0.5786216209903747, 'colsample_bytree': 0.866889949307679, 'max_depth': 5, 'min_child_weight': 9, 'eta': 1.6388489102424167e-06, 'gamma': 1.0382718001354677e-06, 'grow_policy': 'depthwise', 'sample_type': 'uniform', 'normalize_type': 'tree', 'rate_drop': 5.5524891845950605e-06, 'skip_drop': 9.531571788712224e-06}. Best is trial 20 with value: 0.8909304189950721.\n",
      "[I 2025-04-12 01:29:04,027] Trial 25 finished with value: 0.8908390511895499 and parameters: {'booster': 'dart', 'lambda': 0.012081992924791049, 'alpha': 6.174349572766415e-08, 'subsample': 0.8543598953344521, 'colsample_bytree': 0.7646853549460858, 'max_depth': 9, 'min_child_weight': 9, 'eta': 0.02057837005755866, 'gamma': 1.1168797451868796e-08, 'grow_policy': 'depthwise', 'sample_type': 'uniform', 'normalize_type': 'tree', 'rate_drop': 2.3849765071622186e-05, 'skip_drop': 2.694296888566208e-07}. Best is trial 20 with value: 0.8909304189950721.\n",
      "[I 2025-04-12 01:29:22,956] Trial 26 finished with value: 0.8895039022895003 and parameters: {'booster': 'dart', 'lambda': 0.009817042326713711, 'alpha': 2.2470543080815575e-05, 'subsample': 0.8598000085400176, 'colsample_bytree': 0.7823054287997543, 'max_depth': 7, 'min_child_weight': 9, 'eta': 0.016666268385699876, 'gamma': 3.3053804281824355e-08, 'grow_policy': 'depthwise', 'sample_type': 'uniform', 'normalize_type': 'tree', 'rate_drop': 4.3299409918880185e-05, 'skip_drop': 7.929796945067646e-08}. Best is trial 20 with value: 0.8909304189950721.\n",
      "[I 2025-04-12 01:29:30,655] Trial 27 finished with value: 0.8799191247553699 and parameters: {'booster': 'dart', 'lambda': 0.00032530318985322595, 'alpha': 3.4023799055316063e-07, 'subsample': 0.9971055620629607, 'colsample_bytree': 0.7570885547060616, 'max_depth': 9, 'min_child_weight': 9, 'eta': 0.5403444679091175, 'gamma': 1.570322304326981e-05, 'grow_policy': 'depthwise', 'sample_type': 'uniform', 'normalize_type': 'tree', 'rate_drop': 0.009919040188986929, 'skip_drop': 3.1442373639376823e-07}. Best is trial 20 with value: 0.8909304189950721.\n",
      "[I 2025-04-12 01:29:41,573] Trial 28 finished with value: 0.887915281412841 and parameters: {'booster': 'dart', 'lambda': 0.016048706728487502, 'alpha': 1.5453295301137343e-06, 'subsample': 0.8222103540547647, 'colsample_bytree': 0.9758183835059081, 'max_depth': 7, 'min_child_weight': 7, 'eta': 0.02903630196374267, 'gamma': 1.1280381837943592e-08, 'grow_policy': 'depthwise', 'sample_type': 'uniform', 'normalize_type': 'tree', 'rate_drop': 6.432234062432081e-05, 'skip_drop': 1.7205568156933047e-08}. Best is trial 20 with value: 0.8909304189950721.\n",
      "[I 2025-04-12 01:29:49,635] Trial 29 finished with value: 0.8681208884487515 and parameters: {'booster': 'dart', 'lambda': 0.0015450265489810073, 'alpha': 5.963985537221655e-08, 'subsample': 0.722129482226352, 'colsample_bytree': 0.8758265921153521, 'max_depth': 9, 'min_child_weight': 9, 'eta': 0.983237358267656, 'gamma': 3.373614397685077e-06, 'grow_policy': 'depthwise', 'sample_type': 'weighted', 'normalize_type': 'tree', 'rate_drop': 4.8812308012441246e-08, 'skip_drop': 5.586250393696864e-07}. Best is trial 20 with value: 0.8909304189950721.\n",
      "[I 2025-04-12 01:30:00,752] Trial 30 finished with value: 0.8846790926882176 and parameters: {'booster': 'dart', 'lambda': 0.24658802710136135, 'alpha': 2.703022562423655e-07, 'subsample': 0.44423987371177537, 'colsample_bytree': 0.5263157793809776, 'max_depth': 5, 'min_child_weight': 8, 'eta': 8.924965523522675e-08, 'gamma': 9.900865819539532e-08, 'grow_policy': 'depthwise', 'sample_type': 'uniform', 'normalize_type': 'tree', 'rate_drop': 2.263456294622446e-05, 'skip_drop': 2.4235055126622598e-05}. Best is trial 20 with value: 0.8909304189950721.\n",
      "[I 2025-04-12 01:30:12,725] Trial 31 finished with value: 0.8904028436018957 and parameters: {'booster': 'dart', 'lambda': 0.10328941785922281, 'alpha': 4.9772959678193296e-08, 'subsample': 0.5843112742924523, 'colsample_bytree': 0.8417641979272087, 'max_depth': 9, 'min_child_weight': 10, 'eta': 0.0008016874480547098, 'gamma': 2.037025021526461e-07, 'grow_policy': 'depthwise', 'sample_type': 'uniform', 'normalize_type': 'tree', 'rate_drop': 4.888737481065949e-07, 'skip_drop': 1.2390418957665652e-06}. Best is trial 20 with value: 0.8909304189950721.\n",
      "[I 2025-04-12 01:30:23,588] Trial 32 finished with value: 0.8904411591332437 and parameters: {'booster': 'dart', 'lambda': 0.04951427921358571, 'alpha': 9.53842980074071e-08, 'subsample': 0.5688313390498422, 'colsample_bytree': 0.9161106540205227, 'max_depth': 9, 'min_child_weight': 10, 'eta': 0.0010529029602257584, 'gamma': 1.96771284242843e-08, 'grow_policy': 'depthwise', 'sample_type': 'uniform', 'normalize_type': 'tree', 'rate_drop': 1.7357463682459358e-07, 'skip_drop': 6.84086337275904e-07}. Best is trial 20 with value: 0.8909304189950721.\n",
      "[I 2025-04-12 01:30:30,213] Trial 33 finished with value: 0.8900344250312419 and parameters: {'booster': 'dart', 'lambda': 0.03346606474977019, 'alpha': 3.12189640972902e-08, 'subsample': 0.7085759022860589, 'colsample_bytree': 0.916021835433006, 'max_depth': 9, 'min_child_weight': 10, 'eta': 0.0013913115013866266, 'gamma': 1.0572554435843225e-08, 'grow_policy': 'depthwise', 'sample_type': 'uniform', 'normalize_type': 'tree', 'rate_drop': 2.3673584627508788e-07, 'skip_drop': 9.502027601269213e-07}. Best is trial 20 with value: 0.8909304189950721.\n",
      "[I 2025-04-12 01:30:41,561] Trial 34 finished with value: 0.8892386409186295 and parameters: {'booster': 'dart', 'lambda': 0.06472750601354782, 'alpha': 1.193715754934845e-07, 'subsample': 0.595878479849823, 'colsample_bytree': 0.833981504832933, 'max_depth': 9, 'min_child_weight': 10, 'eta': 8.518445806968341e-05, 'gamma': 9.546086490370228e-08, 'grow_policy': 'depthwise', 'sample_type': 'uniform', 'normalize_type': 'tree', 'rate_drop': 1.058404974902735e-08, 'skip_drop': 0.00014576365393109884}. Best is trial 20 with value: 0.8909304189950721.\n",
      "[I 2025-04-12 01:30:48,842] Trial 35 finished with value: 0.8884281200631912 and parameters: {'booster': 'dart', 'lambda': 0.34793254278154234, 'alpha': 1.200592019577367e-07, 'subsample': 0.4393968355307629, 'colsample_bytree': 0.7657524910559933, 'max_depth': 9, 'min_child_weight': 9, 'eta': 0.018148557631529394, 'gamma': 1.197542362802967e-06, 'grow_policy': 'lossguide', 'sample_type': 'uniform', 'normalize_type': 'forest', 'rate_drop': 5.3215192625981675e-06, 'skip_drop': 1.1421551726349038e-06}. Best is trial 20 with value: 0.8909304189950721.\n",
      "[I 2025-04-12 01:30:59,857] Trial 36 finished with value: 0.8893948503925868 and parameters: {'booster': 'dart', 'lambda': 0.010295386449500002, 'alpha': 4.241222168206805e-07, 'subsample': 0.5798986194107317, 'colsample_bytree': 0.646246825757656, 'max_depth': 9, 'min_child_weight': 10, 'eta': 0.002358290722173149, 'gamma': 4.960348553468809e-08, 'grow_policy': 'depthwise', 'sample_type': 'uniform', 'normalize_type': 'tree', 'rate_drop': 1.5722611881949745e-07, 'skip_drop': 5.218351595402881e-05}. Best is trial 20 with value: 0.8909304189950721.\n",
      "[I 2025-04-12 01:31:01,775] Trial 37 finished with value: 0.8794888118648463 and parameters: {'booster': 'gblinear', 'lambda': 0.0006836509357807976, 'alpha': 4.7826599778817296e-05, 'subsample': 0.3666143732307726, 'colsample_bytree': 0.9111222372036242}. Best is trial 20 with value: 0.8909304189950721.\n",
      "[I 2025-04-12 01:31:15,216] Trial 38 finished with value: 0.8898811629058497 and parameters: {'booster': 'dart', 'lambda': 2.7843585449809052e-05, 'alpha': 2.5198714341448088e-08, 'subsample': 0.681470596355801, 'colsample_bytree': 0.721995851991129, 'max_depth': 9, 'min_child_weight': 9, 'eta': 7.195217114997496e-05, 'gamma': 2.942477273499538e-07, 'grow_policy': 'depthwise', 'sample_type': 'uniform', 'normalize_type': 'tree', 'rate_drop': 1.6162956737891098e-06, 'skip_drop': 1.5541566528809149e-06}. Best is trial 20 with value: 0.8909304189950721.\n",
      "[I 2025-04-12 01:31:26,524] Trial 39 finished with value: 0.8900285303341114 and parameters: {'booster': 'dart', 'lambda': 0.004387714905753211, 'alpha': 8.264771044315272e-08, 'subsample': 0.8901862064450756, 'colsample_bytree': 0.8402647661442252, 'max_depth': 9, 'min_child_weight': 8, 'eta': 1.7210538653425198e-05, 'gamma': 1.7369617302754153e-07, 'grow_policy': 'depthwise', 'sample_type': 'uniform', 'normalize_type': 'tree', 'rate_drop': 9.39104075025838e-06, 'skip_drop': 0.00025052485619578963}. Best is trial 20 with value: 0.8909304189950721.\n",
      "[I 2025-04-12 01:31:27,223] Trial 40 finished with value: 0.8782627148617105 and parameters: {'booster': 'gblinear', 'lambda': 6.372504846859863e-05, 'alpha': 0.000315219729907389, 'subsample': 0.9745991058130724, 'colsample_bytree': 0.9349589670160308}. Best is trial 20 with value: 0.8909304189950721.\n",
      "[I 2025-04-12 01:31:32,726] Trial 41 finished with value: 0.8941400815826083 and parameters: {'booster': 'dart', 'lambda': 0.05364451015501549, 'alpha': 1.6571110903078424e-07, 'subsample': 0.5464225314950871, 'colsample_bytree': 0.9980101216086936, 'max_depth': 7, 'min_child_weight': 8, 'eta': 1.0625385870745005e-05, 'gamma': 0.0013053462493411903, 'grow_policy': 'depthwise', 'sample_type': 'weighted', 'normalize_type': 'tree', 'rate_drop': 0.00039244713872364323, 'skip_drop': 6.520002030728989e-08}. Best is trial 41 with value: 0.8941400815826083.\n",
      "[I 2025-04-12 01:31:39,632] Trial 42 finished with value: 0.8877148617104053 and parameters: {'booster': 'dart', 'lambda': 0.05795547782684995, 'alpha': 1.3289892311754005e-07, 'subsample': 0.4830440440148133, 'colsample_bytree': 0.997460377382157, 'max_depth': 7, 'min_child_weight': 10, 'eta': 0.000253186487037592, 'gamma': 0.0006594163934416541, 'grow_policy': 'depthwise', 'sample_type': 'uniform', 'normalize_type': 'tree', 'rate_drop': 0.0002666421939230892, 'skip_drop': 5.6925783870905343e-08}. Best is trial 41 with value: 0.8941400815826083.\n",
      "[I 2025-04-12 01:31:50,772] Trial 43 finished with value: 0.8894950602438048 and parameters: {'booster': 'dart', 'lambda': 0.40349999469917047, 'alpha': 2.1528968711433395e-06, 'subsample': 0.5445766875262477, 'colsample_bytree': 0.8909606315388232, 'max_depth': 9, 'min_child_weight': 9, 'eta': 1.3153605947956763e-05, 'gamma': 1.4207596302023655e-08, 'grow_policy': 'depthwise', 'sample_type': 'uniform', 'normalize_type': 'tree', 'rate_drop': 0.0002813429802402406, 'skip_drop': 2.1722904570937524e-07}. Best is trial 41 with value: 0.8941400815826083.\n",
      "[I 2025-04-12 01:32:00,926] Trial 44 finished with value: 0.8866744476668788 and parameters: {'booster': 'dart', 'lambda': 7.666499377363093e-07, 'alpha': 2.2204204089190353e-08, 'subsample': 0.5615981053086049, 'colsample_bytree': 0.9517154798878024, 'max_depth': 9, 'min_child_weight': 2, 'eta': 0.0007996832376498069, 'gamma': 5.49012146095615e-05, 'grow_policy': 'depthwise', 'sample_type': 'uniform', 'normalize_type': 'tree', 'rate_drop': 1.7035702336040002e-07, 'skip_drop': 1.9680596777655916e-06}. Best is trial 41 with value: 0.8941400815826083.\n",
      "[I 2025-04-12 01:32:18,043] Trial 45 finished with value: 0.8617958784277664 and parameters: {'booster': 'dart', 'lambda': 0.014601082373957283, 'alpha': 2.069375675541612e-07, 'subsample': 0.611757930982836, 'colsample_bytree': 0.25250820569377647, 'max_depth': 7, 'min_child_weight': 8, 'eta': 4.044585149095935e-05, 'gamma': 0.001078646770342908, 'grow_policy': 'lossguide', 'sample_type': 'weighted', 'normalize_type': 'tree', 'rate_drop': 1.111459277799453e-06, 'skip_drop': 5.118479581054256e-08}. Best is trial 41 with value: 0.8941400815826083.\n",
      "[I 2025-04-12 01:32:36,612] Trial 46 finished with value: 0.8887375916625403 and parameters: {'booster': 'dart', 'lambda': 0.07427479559828722, 'alpha': 6.017519515133001e-08, 'subsample': 0.40103597956205467, 'colsample_bytree': 0.9037234871492058, 'max_depth': 9, 'min_child_weight': 10, 'eta': 0.006519706595241886, 'gamma': 4.7184038171863395e-08, 'grow_policy': 'depthwise', 'sample_type': 'weighted', 'normalize_type': 'forest', 'rate_drop': 4.2188187992203565e-08, 'skip_drop': 3.865770378699053e-07}. Best is trial 41 with value: 0.8941400815826083.\n",
      "[I 2025-04-12 01:32:37,246] Trial 47 finished with value: 0.6459114380703119 and parameters: {'booster': 'gblinear', 'lambda': 0.5414490775999341, 'alpha': 5.912166547599967e-07, 'subsample': 0.5057883782689712, 'colsample_bytree': 0.7930678506423491}. Best is trial 41 with value: 0.8941400815826083.\n",
      "[I 2025-04-12 01:32:55,750] Trial 48 finished with value: 0.8832319445426894 and parameters: {'booster': 'dart', 'lambda': 0.20248063935080285, 'alpha': 8.138004004854529e-06, 'subsample': 0.2594724081654331, 'colsample_bytree': 0.8412168754125768, 'max_depth': 7, 'min_child_weight': 9, 'eta': 7.152996757852153e-06, 'gamma': 3.3381999267798577e-06, 'grow_policy': 'depthwise', 'sample_type': 'uniform', 'normalize_type': 'tree', 'rate_drop': 1.6348774144311918e-05, 'skip_drop': 1.7517532552079772e-05}. Best is trial 41 with value: 0.8941400815826083.\n",
      "[I 2025-04-12 01:33:04,618] Trial 49 finished with value: 0.8877001249675791 and parameters: {'booster': 'dart', 'lambda': 0.026492378135104966, 'alpha': 0.0023652092406881344, 'subsample': 0.6393833810039246, 'colsample_bytree': 0.9542981875214192, 'max_depth': 9, 'min_child_weight': 8, 'eta': 0.11016364288608577, 'gamma': 3.170147360281484e-08, 'grow_policy': 'lossguide', 'sample_type': 'weighted', 'normalize_type': 'forest', 'rate_drop': 0.0012669229242012257, 'skip_drop': 2.802553069118642e-06}. Best is trial 41 with value: 0.8941400815826083.\n",
      "[I 2025-04-12 01:33:10,307] Trial 50 finished with value: 0.8826631062695999 and parameters: {'booster': 'dart', 'lambda': 0.9989405598145403, 'alpha': 2.2373986847249256e-08, 'subsample': 0.6945468676550425, 'colsample_bytree': 0.7301501046431973, 'max_depth': 3, 'min_child_weight': 10, 'eta': 0.00021553541112574777, 'gamma': 5.48449340891358e-07, 'grow_policy': 'depthwise', 'sample_type': 'uniform', 'normalize_type': 'tree', 'rate_drop': 0.00015445050526960208, 'skip_drop': 0.6311059905996552}. Best is trial 41 with value: 0.8941400815826083.\n",
      "[I 2025-04-12 01:33:17,472] Trial 51 finished with value: 0.8897632689632408 and parameters: {'booster': 'dart', 'lambda': 0.04778815723440379, 'alpha': 1.4693838568308377e-07, 'subsample': 0.5345046985834434, 'colsample_bytree': 0.9905977674576382, 'max_depth': 7, 'min_child_weight': 7, 'eta': 2.59869411168361e-06, 'gamma': 0.0038465829786422812, 'grow_policy': 'depthwise', 'sample_type': 'weighted', 'normalize_type': 'tree', 'rate_drop': 0.012956065815589045, 'skip_drop': 3.5628810551738025e-08}. Best is trial 41 with value: 0.8941400815826083.\n",
      "[I 2025-04-12 01:33:29,260] Trial 52 finished with value: 0.8850091957275236 and parameters: {'booster': 'dart', 'lambda': 0.2240858125500894, 'alpha': 2.754383204565549e-07, 'subsample': 0.7792678727937219, 'colsample_bytree': 0.9332617023153567, 'max_depth': 5, 'min_child_weight': 9, 'eta': 3.752396251401096e-05, 'gamma': 0.04888865500099176, 'grow_policy': 'depthwise', 'sample_type': 'weighted', 'normalize_type': 'tree', 'rate_drop': 0.03351980690618506, 'skip_drop': 1.2624234441645945e-07}. Best is trial 41 with value: 0.8941400815826083.\n",
      "[I 2025-04-12 01:33:40,409] Trial 53 finished with value: 0.8906651576242014 and parameters: {'booster': 'dart', 'lambda': 0.0065938221455996366, 'alpha': 1.4930423087701802e-08, 'subsample': 0.4661389924519891, 'colsample_bytree': 0.8062446980332878, 'max_depth': 7, 'min_child_weight': 8, 'eta': 9.433237201252515e-06, 'gamma': 0.0014081701357898657, 'grow_policy': 'depthwise', 'sample_type': 'weighted', 'normalize_type': 'forest', 'rate_drop': 0.0009432913178240062, 'skip_drop': 1.7457291587383598e-07}. Best is trial 41 with value: 0.8941400815826083.\n",
      "[I 2025-04-12 01:33:51,382] Trial 54 finished with value: 0.8902289500365471 and parameters: {'booster': 'dart', 'lambda': 0.0009331580153693409, 'alpha': 1.3965168484604616e-08, 'subsample': 0.4617755310549369, 'colsample_bytree': 0.8094149450581426, 'max_depth': 7, 'min_child_weight': 8, 'eta': 7.04397071859802e-06, 'gamma': 0.0003045554147456002, 'grow_policy': 'depthwise', 'sample_type': 'weighted', 'normalize_type': 'forest', 'rate_drop': 0.0016444788566610464, 'skip_drop': 4.631747375307231e-07}. Best is trial 41 with value: 0.8941400815826083.\n",
      "[I 2025-04-12 01:34:00,455] Trial 55 finished with value: 0.8905207375445049 and parameters: {'booster': 'dart', 'lambda': 0.007245959661510959, 'alpha': 6.567920972346575e-08, 'subsample': 0.5231514856090809, 'colsample_bytree': 0.8468555939124068, 'max_depth': 7, 'min_child_weight': 10, 'eta': 1.2452484754037155e-06, 'gamma': 0.0025336042365365565, 'grow_policy': 'depthwise', 'sample_type': 'weighted', 'normalize_type': 'forest', 'rate_drop': 0.0033669346960322824, 'skip_drop': 1.5226495179122327e-07}. Best is trial 41 with value: 0.8941400815826083.\n",
      "[I 2025-04-12 01:34:02,655] Trial 56 finished with value: 0.8817111126830304 and parameters: {'booster': 'gblinear', 'lambda': 0.003597008298643425, 'alpha': 1.1829185674774757e-06, 'subsample': 0.40426215917512165, 'colsample_bytree': 0.8893217610051801}. Best is trial 41 with value: 0.8941400815826083.\n",
      "[I 2025-04-12 01:34:13,303] Trial 57 finished with value: 0.888784749239584 and parameters: {'booster': 'dart', 'lambda': 0.00018750561605968878, 'alpha': 1.112048377591566e-08, 'subsample': 0.3223303762721224, 'colsample_bytree': 0.7763843972846973, 'max_depth': 7, 'min_child_weight': 7, 'eta': 1.0999160811678803e-06, 'gamma': 0.0016660694158451418, 'grow_policy': 'lossguide', 'sample_type': 'weighted', 'normalize_type': 'forest', 'rate_drop': 0.0006055407645802153, 'skip_drop': 2.7138046816273236e-08}. Best is trial 41 with value: 0.8941400815826083.\n",
      "[I 2025-04-12 01:34:21,774] Trial 58 finished with value: 0.8857990851430054 and parameters: {'booster': 'dart', 'lambda': 0.017236384156381217, 'alpha': 3.380225380555023e-06, 'subsample': 0.5157112045984801, 'colsample_bytree': 0.6348332657253724, 'max_depth': 7, 'min_child_weight': 9, 'eta': 1.2864813711725985e-07, 'gamma': 0.00032904172597155666, 'grow_policy': 'depthwise', 'sample_type': 'weighted', 'normalize_type': 'forest', 'rate_drop': 0.0043851797673170444, 'skip_drop': 1.1751167384834461e-07}. Best is trial 41 with value: 0.8941400815826083.\n",
      "[I 2025-04-12 01:34:30,741] Trial 59 finished with value: 0.8850651953502628 and parameters: {'booster': 'dart', 'lambda': 1.1018749486022402e-08, 'alpha': 0.008765424229646887, 'subsample': 0.7584420832888381, 'colsample_bytree': 0.5487097583655123, 'max_depth': 5, 'min_child_weight': 8, 'eta': 8.212959387258588e-06, 'gamma': 9.639218913287422e-05, 'grow_policy': 'depthwise', 'sample_type': 'weighted', 'normalize_type': 'forest', 'rate_drop': 0.004263684733745783, 'skip_drop': 1.729866615772852e-07}. Best is trial 41 with value: 0.8941400815826083.\n",
      "[I 2025-04-12 01:34:32,055] Trial 60 finished with value: 0.8727983306217727 and parameters: {'booster': 'gbtree', 'lambda': 0.0023546325144420937, 'alpha': 8.046356454622564e-08, 'subsample': 0.4774911455560931, 'colsample_bytree': 0.40834513289446683, 'max_depth': 7, 'min_child_weight': 3, 'eta': 1.0365636712429663e-06, 'gamma': 0.005720830638793458, 'grow_policy': 'depthwise'}. Best is trial 41 with value: 0.8941400815826083.\n",
      "[I 2025-04-12 01:34:41,462] Trial 61 finished with value: 0.8912899955200302 and parameters: {'booster': 'dart', 'lambda': 0.008949976209219508, 'alpha': 4.5356370951618817e-08, 'subsample': 0.5637725109238789, 'colsample_bytree': 0.8515309921251775, 'max_depth': 9, 'min_child_weight': 10, 'eta': 0.002780967667375502, 'gamma': 0.002203943298685271, 'grow_policy': 'depthwise', 'sample_type': 'weighted', 'normalize_type': 'forest', 'rate_drop': 0.000706244129556133, 'skip_drop': 7.622191679849634e-07}. Best is trial 41 with value: 0.8941400815826083.\n",
      "[I 2025-04-12 01:34:52,798] Trial 62 finished with value: 0.8891855886444555 and parameters: {'booster': 'dart', 'lambda': 0.0072182721790411035, 'alpha': 3.220453750075952e-08, 'subsample': 0.6147309717513227, 'colsample_bytree': 0.8543706870669312, 'max_depth': 7, 'min_child_weight': 10, 'eta': 0.003207975654334662, 'gamma': 0.002031308431472465, 'grow_policy': 'depthwise', 'sample_type': 'weighted', 'normalize_type': 'forest', 'rate_drop': 0.0006407450082875696, 'skip_drop': 5.029901612338996e-07}. Best is trial 41 with value: 0.8941400815826083.\n",
      "[I 2025-04-12 01:35:02,854] Trial 63 finished with value: 0.8913754686284218 and parameters: {'booster': 'dart', 'lambda': 0.007396106626811623, 'alpha': 2.1987559503411737e-07, 'subsample': 0.5618955813539237, 'colsample_bytree': 0.8086227663888199, 'max_depth': 9, 'min_child_weight': 10, 'eta': 0.008844944442897339, 'gamma': 0.015720919584089194, 'grow_policy': 'depthwise', 'sample_type': 'weighted', 'normalize_type': 'forest', 'rate_drop': 0.0035999585954055177, 'skip_drop': 8.603842684026827e-08}. Best is trial 41 with value: 0.8941400815826083.\n",
      "[I 2025-04-12 01:35:10,477] Trial 64 finished with value: 0.8909834712692462 and parameters: {'booster': 'dart', 'lambda': 0.0010168122337603947, 'alpha': 2.015499693519324e-08, 'subsample': 0.5275364777991354, 'colsample_bytree': 0.6918115033758702, 'max_depth': 7, 'min_child_weight': 9, 'eta': 0.03542786580573859, 'gamma': 0.020802375693025593, 'grow_policy': 'depthwise', 'sample_type': 'weighted', 'normalize_type': 'forest', 'rate_drop': 0.0035624722531154914, 'skip_drop': 1.1396337761636374e-08}. Best is trial 41 with value: 0.8941400815826083.\n",
      "[I 2025-04-12 01:35:18,215] Trial 65 finished with value: 0.8925013557803401 and parameters: {'booster': 'dart', 'lambda': 0.0008912703183186894, 'alpha': 1.9141486641788796e-08, 'subsample': 0.42388545783083487, 'colsample_bytree': 0.6931013937096524, 'max_depth': 9, 'min_child_weight': 6, 'eta': 0.052656537955013016, 'gamma': 0.024379142139735285, 'grow_policy': 'depthwise', 'sample_type': 'weighted', 'normalize_type': 'forest', 'rate_drop': 0.02930465787014368, 'skip_drop': 1.004294068760368e-08}. Best is trial 41 with value: 0.8941400815826083.\n",
      "[I 2025-04-12 01:35:25,289] Trial 66 finished with value: 0.8904853693617223 and parameters: {'booster': 'dart', 'lambda': 0.0007467409951084607, 'alpha': 2.0561210555547376e-07, 'subsample': 0.6428247920387534, 'colsample_bytree': 0.7091768107875598, 'max_depth': 9, 'min_child_weight': 6, 'eta': 0.04171406372480608, 'gamma': 0.11038935557448218, 'grow_policy': 'depthwise', 'sample_type': 'weighted', 'normalize_type': 'forest', 'rate_drop': 0.1702819614264396, 'skip_drop': 1.3537102135365642e-08}. Best is trial 41 with value: 0.8941400815826083.\n",
      "[I 2025-04-12 01:35:42,701] Trial 67 finished with value: 0.8882011742236684 and parameters: {'booster': 'dart', 'lambda': 0.00012576035558627997, 'alpha': 4.5973531180147364e-07, 'subsample': 0.42005881842557047, 'colsample_bytree': 0.6770650766539433, 'max_depth': 9, 'min_child_weight': 5, 'eta': 0.007946514227059583, 'gamma': 0.023714784827908408, 'grow_policy': 'depthwise', 'sample_type': 'weighted', 'normalize_type': 'forest', 'rate_drop': 0.07801372048874272, 'skip_drop': 2.598542330764344e-08}. Best is trial 41 with value: 0.8941400815826083.\n",
      "[I 2025-04-12 01:35:50,035] Trial 68 finished with value: 0.8858963476456578 and parameters: {'booster': 'dart', 'lambda': 0.001194544151853413, 'alpha': 3.789782528413512e-08, 'subsample': 0.5535944482894947, 'colsample_bytree': 0.7477276248492724, 'max_depth': 9, 'min_child_weight': 6, 'eta': 0.25661463688344, 'gamma': 0.014356476171241101, 'grow_policy': 'depthwise', 'sample_type': 'weighted', 'normalize_type': 'forest', 'rate_drop': 0.035157662761960286, 'skip_drop': 1.3226294777310595e-08}. Best is trial 41 with value: 0.8941400815826083.\n",
      "[I 2025-04-12 01:35:51,258] Trial 69 finished with value: 0.8878946499728844 and parameters: {'booster': 'gbtree', 'lambda': 0.002721227942001283, 'alpha': 1.0108170048789592e-08, 'subsample': 0.3547891624117365, 'colsample_bytree': 0.623147620571838, 'max_depth': 9, 'min_child_weight': 5, 'eta': 0.0751561557271934, 'gamma': 0.06256763735807386, 'grow_policy': 'lossguide'}. Best is trial 41 with value: 0.8941400815826083.\n",
      "[I 2025-04-12 01:35:58,950] Trial 70 finished with value: 0.8886874867369314 and parameters: {'booster': 'dart', 'lambda': 0.0003979541096052596, 'alpha': 2.0996429968948877e-08, 'subsample': 0.500810731061331, 'colsample_bytree': 0.6663818753862587, 'max_depth': 9, 'min_child_weight': 9, 'eta': 0.012695751916651201, 'gamma': 0.8742011538593364, 'grow_policy': 'depthwise', 'sample_type': 'weighted', 'normalize_type': 'forest', 'rate_drop': 0.008192682297798856, 'skip_drop': 6.18052319705102e-08}. Best is trial 41 with value: 0.8941400815826083.\n",
      "[I 2025-04-12 01:36:07,287] Trial 71 finished with value: 0.8879653863384499 and parameters: {'booster': 'dart', 'lambda': 0.0161294634877342, 'alpha': 1.6487220164590457e-08, 'subsample': 0.44667560974831133, 'colsample_bytree': 0.8056952325554865, 'max_depth': 9, 'min_child_weight': 7, 'eta': 0.031124096308062905, 'gamma': 0.009184372661137101, 'grow_policy': 'depthwise', 'sample_type': 'weighted', 'normalize_type': 'forest', 'rate_drop': 0.0011152654843303435, 'skip_drop': 1.0685113124483668e-08}. Best is trial 41 with value: 0.8941400815826083.\n",
      "[I 2025-04-12 01:36:13,341] Trial 72 finished with value: 0.8832348918912547 and parameters: {'booster': 'dart', 'lambda': 0.006160787619027296, 'alpha': 4.3676957354324904e-08, 'subsample': 0.3732109407917382, 'colsample_bytree': 0.7473531152026743, 'max_depth': 7, 'min_child_weight': 9, 'eta': 0.22905826273615013, 'gamma': 0.018666807015283005, 'grow_policy': 'depthwise', 'sample_type': 'weighted', 'normalize_type': 'forest', 'rate_drop': 0.0001360141853192217, 'skip_drop': 3.2038687535620896e-08}. Best is trial 41 with value: 0.8941400815826083.\n",
      "[I 2025-04-12 01:36:21,099] Trial 73 finished with value: 0.8896689538091531 and parameters: {'booster': 'dart', 'lambda': 0.025084401671576148, 'alpha': 0.121410232259625, 'subsample': 0.46662241002026134, 'colsample_bytree': 0.7030048661130814, 'max_depth': 5, 'min_child_weight': 8, 'eta': 0.04141056585948916, 'gamma': 0.039813624657138974, 'grow_policy': 'depthwise', 'sample_type': 'weighted', 'normalize_type': 'forest', 'rate_drop': 4.5842829122107545e-05, 'skip_drop': 6.970744641299388e-08}. Best is trial 41 with value: 0.8941400815826083.\n",
      "[I 2025-04-12 01:36:30,500] Trial 74 finished with value: 0.8896011647921529 and parameters: {'booster': 'dart', 'lambda': 0.0111663278536836, 'alpha': 1.566858029532491e-07, 'subsample': 0.5946361127274221, 'colsample_bytree': 0.7791891925517692, 'max_depth': 9, 'min_child_weight': 10, 'eta': 0.014310332692159934, 'gamma': 0.18892895558763495, 'grow_policy': 'depthwise', 'sample_type': 'weighted', 'normalize_type': 'forest', 'rate_drop': 0.0003347930676306431, 'skip_drop': 2.581192120566537e-07}. Best is trial 41 with value: 0.8941400815826083.\n",
      "[I 2025-04-12 01:36:45,798] Trial 75 finished with value: 0.8891826412958902 and parameters: {'booster': 'dart', 'lambda': 0.0015758229992098192, 'alpha': 3.136366285495579e-08, 'subsample': 0.8388498926031734, 'colsample_bytree': 0.8160178694635205, 'max_depth': 9, 'min_child_weight': 9, 'eta': 0.0039943942425026335, 'gamma': 0.0006021879165068086, 'grow_policy': 'depthwise', 'sample_type': 'weighted', 'normalize_type': 'forest', 'rate_drop': 0.0025492946678154363, 'skip_drop': 0.0014393364876757488}. Best is trial 41 with value: 0.8941400815826083.\n",
      "[I 2025-04-12 01:36:47,362] Trial 76 finished with value: 0.8780622951592746 and parameters: {'booster': 'gblinear', 'lambda': 0.0005166933366563234, 'alpha': 6.945131357578302e-08, 'subsample': 0.4278652691478708, 'colsample_bytree': 0.6913990405801546}. Best is trial 41 with value: 0.8941400815826083.\n",
      "[I 2025-04-12 01:36:56,258] Trial 77 finished with value: 0.8897337954775884 and parameters: {'booster': 'dart', 'lambda': 0.0034027990687628485, 'alpha': 1.886903305863967e-08, 'subsample': 0.5366219544868043, 'colsample_bytree': 0.759407716239501, 'max_depth': 7, 'min_child_weight': 6, 'eta': 0.0017429527382445966, 'gamma': 0.004950032794196053, 'grow_policy': 'depthwise', 'sample_type': 'weighted', 'normalize_type': 'forest', 'rate_drop': 0.00934566968569221, 'skip_drop': 2.301509361119015e-08}. Best is trial 41 with value: 0.8941400815826083.\n",
      "[I 2025-04-12 01:37:05,364] Trial 78 finished with value: 0.8883485416519299 and parameters: {'booster': 'dart', 'lambda': 5.6113060372756114e-05, 'alpha': 1.0274113715841906e-07, 'subsample': 0.6689052934856761, 'colsample_bytree': 0.5648402500837865, 'max_depth': 9, 'min_child_weight': 10, 'eta': 0.009869627105983278, 'gamma': 0.0011796782217112186, 'grow_policy': 'depthwise', 'sample_type': 'weighted', 'normalize_type': 'forest', 'rate_drop': 8.700589590294991e-05, 'skip_drop': 9.133710731937054e-08}. Best is trial 41 with value: 0.8941400815826083.\n",
      "[I 2025-04-12 01:37:14,244] Trial 79 finished with value: 0.8889262219707151 and parameters: {'booster': 'dart', 'lambda': 0.005891550726536298, 'alpha': 4.7685126141146666e-08, 'subsample': 0.8986006266930311, 'colsample_bytree': 0.7299921991765022, 'max_depth': 9, 'min_child_weight': 9, 'eta': 0.063463214959407, 'gamma': 0.011083524015672239, 'grow_policy': 'depthwise', 'sample_type': 'weighted', 'normalize_type': 'forest', 'rate_drop': 0.0009059763352176973, 'skip_drop': 4.438881123601366e-06}. Best is trial 41 with value: 0.8941400815826083.\n",
      "[I 2025-04-12 01:37:20,550] Trial 80 finished with value: 0.8838862559241706 and parameters: {'booster': 'dart', 'lambda': 0.020851286733176662, 'alpha': 3.7586684388979617e-07, 'subsample': 0.5661225035199867, 'colsample_bytree': 0.7918155391864284, 'max_depth': 9, 'min_child_weight': 7, 'eta': 0.20402856746715847, 'gamma': 0.00019315213875698416, 'grow_policy': 'depthwise', 'sample_type': 'weighted', 'normalize_type': 'forest', 'rate_drop': 0.0019351689620531523, 'skip_drop': 2.869787211512026e-07}. Best is trial 41 with value: 0.8941400815826083.\n",
      "[I 2025-04-12 01:37:31,138] Trial 81 finished with value: 0.8904735799674612 and parameters: {'booster': 'dart', 'lambda': 0.007460313210203679, 'alpha': 7.168350404434457e-08, 'subsample': 0.5212340111409364, 'colsample_bytree': 0.8800937267793942, 'max_depth': 7, 'min_child_weight': 10, 'eta': 2.50143005170842e-07, 'gamma': 0.0029396275344339153, 'grow_policy': 'depthwise', 'sample_type': 'weighted', 'normalize_type': 'forest', 'rate_drop': 0.004538842958303489, 'skip_drop': 1.5820256269235105e-07}. Best is trial 41 with value: 0.8941400815826083.\n",
      "[I 2025-04-12 01:37:40,393] Trial 82 finished with value: 0.8903409492820258 and parameters: {'booster': 'dart', 'lambda': 0.03863367038143139, 'alpha': 2.266122947933108e-07, 'subsample': 0.4922618954925792, 'colsample_bytree': 0.85777173622247, 'max_depth': 7, 'min_child_weight': 10, 'eta': 2.611052612180473e-06, 'gamma': 2.7182843011886147e-05, 'grow_policy': 'depthwise', 'sample_type': 'weighted', 'normalize_type': 'forest', 'rate_drop': 0.003107451693440063, 'skip_drop': 9.547272040410915e-08}. Best is trial 41 with value: 0.8941400815826083.\n",
      "[I 2025-04-12 01:37:48,452] Trial 83 finished with value: 0.8906238947442882 and parameters: {'booster': 'dart', 'lambda': 0.09118490083535494, 'alpha': 2.5237157483338827e-08, 'subsample': 0.5219526371072557, 'colsample_bytree': 0.8329169834406496, 'max_depth': 7, 'min_child_weight': 10, 'eta': 0.02361407477195417, 'gamma': 0.0007468624548137658, 'grow_policy': 'depthwise', 'sample_type': 'weighted', 'normalize_type': 'forest', 'rate_drop': 0.00043111391579136646, 'skip_drop': 4.3065329130272044e-08}. Best is trial 41 with value: 0.8941400815826083.\n",
      "[I 2025-04-12 01:37:59,708] Trial 84 finished with value: 0.8898045318431539 and parameters: {'booster': 'dart', 'lambda': 0.09100381902972335, 'alpha': 0.0007911345631780883, 'subsample': 0.9482700592673148, 'colsample_bytree': 0.819134059092232, 'max_depth': 7, 'min_child_weight': 10, 'eta': 0.018437558111061066, 'gamma': 0.0075054669383578495, 'grow_policy': 'depthwise', 'sample_type': 'weighted', 'normalize_type': 'forest', 'rate_drop': 0.00035054481062400016, 'skip_drop': 4.198496301228574e-08}. Best is trial 41 with value: 0.8941400815826083.\n",
      "[I 2025-04-12 01:38:14,919] Trial 85 finished with value: 0.88585803211431 and parameters: {'booster': 'dart', 'lambda': 0.011171785977725527, 'alpha': 1.5246670533858858e-08, 'subsample': 0.46493930685653845, 'colsample_bytree': 0.6563924344450477, 'max_depth': 5, 'min_child_weight': 9, 'eta': 0.0004089973901912582, 'gamma': 0.0006373285506011178, 'grow_policy': 'depthwise', 'sample_type': 'weighted', 'normalize_type': 'forest', 'rate_drop': 0.00017850536570902223, 'skip_drop': 1.8391316341820798e-08}. Best is trial 41 with value: 0.8941400815826083.\n",
      "[I 2025-04-12 01:38:16,674] Trial 86 finished with value: 0.8860672938624414 and parameters: {'booster': 'gbtree', 'lambda': 0.13842717681421857, 'alpha': 2.488736207318196e-08, 'subsample': 0.5567188620151816, 'colsample_bytree': 0.7689731361237329, 'max_depth': 7, 'min_child_weight': 10, 'eta': 0.0627915052011238, 'gamma': 0.03258002079992057, 'grow_policy': 'depthwise'}. Best is trial 41 with value: 0.8941400815826083.\n",
      "[I 2025-04-12 01:38:26,208] Trial 87 finished with value: 0.8913577845370304 and parameters: {'booster': 'dart', 'lambda': 0.004260069472883318, 'alpha': 1.0110129201622484e-08, 'subsample': 0.6125613249119309, 'colsample_bytree': 0.8043581804202429, 'max_depth': 9, 'min_child_weight': 9, 'eta': 0.005382926373854851, 'gamma': 0.0004051013206795018, 'grow_policy': 'depthwise', 'sample_type': 'weighted', 'normalize_type': 'forest', 'rate_drop': 0.00060291513667503, 'skip_drop': 1.0328437161411879e-08}. Best is trial 41 with value: 0.8941400815826083.\n",
      "[I 2025-04-12 01:38:38,978] Trial 88 finished with value: 0.8895274810780223 and parameters: {'booster': 'dart', 'lambda': 0.001333992164619591, 'alpha': 4.236158199652705e-08, 'subsample': 0.6291032490589085, 'colsample_bytree': 0.7908191626760871, 'max_depth': 9, 'min_child_weight': 8, 'eta': 0.005564508524866503, 'gamma': 0.00039831909946776563, 'grow_policy': 'depthwise', 'sample_type': 'weighted', 'normalize_type': 'tree', 'rate_drop': 0.02232647345624919, 'skip_drop': 6.839932124054174e-07}. Best is trial 41 with value: 0.8941400815826083.\n",
      "[I 2025-04-12 01:38:49,127] Trial 89 finished with value: 0.8904794746645918 and parameters: {'booster': 'dart', 'lambda': 0.0024841592740358198, 'alpha': 1.2857867833374108e-08, 'subsample': 0.5968952420366591, 'colsample_bytree': 0.7175831823719026, 'max_depth': 9, 'min_child_weight': 9, 'eta': 0.0027470518122361402, 'gamma': 0.08636201043128913, 'grow_policy': 'lossguide', 'sample_type': 'uniform', 'normalize_type': 'forest', 'rate_drop': 2.711148615449207e-05, 'skip_drop': 1.169239578025769e-08}. Best is trial 41 with value: 0.8941400815826083.\n",
      "[I 2025-04-12 01:38:51,791] Trial 90 finished with value: 0.8817523755629437 and parameters: {'booster': 'gblinear', 'lambda': 0.0036481795965907587, 'alpha': 1.0917988409688914e-06, 'subsample': 0.60920936123286, 'colsample_bytree': 0.7387203846210145}. Best is trial 41 with value: 0.8941400815826083.\n",
      "[I 2025-04-12 01:38:57,843] Trial 91 finished with value: 0.8906121053500271 and parameters: {'booster': 'dart', 'lambda': 0.04572099367564262, 'alpha': 3.029593718938274e-08, 'subsample': 0.5418961133148585, 'colsample_bytree': 0.8378404641699834, 'max_depth': 9, 'min_child_weight': 9, 'eta': 0.026200655212752434, 'gamma': 0.0001715983799507667, 'grow_policy': 'depthwise', 'sample_type': 'weighted', 'normalize_type': 'forest', 'rate_drop': 0.0009794387430564768, 'skip_drop': 4.342166051579178e-08}. Best is trial 41 with value: 0.8941400815826083.\n",
      "[I 2025-04-12 01:39:07,540] Trial 92 finished with value: 0.891363679234161 and parameters: {'booster': 'dart', 'lambda': 0.004535220020704332, 'alpha': 1.0032038903902025e-08, 'subsample': 0.5083510676934444, 'colsample_bytree': 0.817500617799658, 'max_depth': 9, 'min_child_weight': 10, 'eta': 0.00014087340745690265, 'gamma': 0.001510188929480881, 'grow_policy': 'depthwise', 'sample_type': 'weighted', 'normalize_type': 'forest', 'rate_drop': 0.000590517505595306, 'skip_drop': 2.5452620875474584e-08}. Best is trial 41 with value: 0.8941400815826083.\n",
      "[I 2025-04-12 01:39:16,900] Trial 93 finished with value: 0.891287048171465 and parameters: {'booster': 'dart', 'lambda': 0.00024846478800864884, 'alpha': 1.5717850366363363e-08, 'subsample': 0.5722554684695703, 'colsample_bytree': 0.823840116392901, 'max_depth': 9, 'min_child_weight': 9, 'eta': 5.820153040853188e-05, 'gamma': 0.0014476114573737599, 'grow_policy': 'depthwise', 'sample_type': 'weighted', 'normalize_type': 'forest', 'rate_drop': 3.4047637266831362e-06, 'skip_drop': 2.2936469809325418e-08}. Best is trial 41 with value: 0.8941400815826083.\n",
      "[I 2025-04-12 01:39:26,486] Trial 94 finished with value: 0.8911455754403339 and parameters: {'booster': 'dart', 'lambda': 0.00017334821184662743, 'alpha': 1.0754485902751015e-08, 'subsample': 0.5706389033161353, 'colsample_bytree': 0.8674866917130686, 'max_depth': 9, 'min_child_weight': 9, 'eta': 0.0001313859275894127, 'gamma': 0.003985700208994815, 'grow_policy': 'depthwise', 'sample_type': 'weighted', 'normalize_type': 'tree', 'rate_drop': 7.080708250336061e-07, 'skip_drop': 1.00486310497514e-08}. Best is trial 41 with value: 0.8941400815826083.\n",
      "[I 2025-04-12 01:39:44,497] Trial 95 finished with value: 0.8894390606210653 and parameters: {'booster': 'dart', 'lambda': 0.0002602880564046955, 'alpha': 1.8059146480985224e-08, 'subsample': 0.6162109010983048, 'colsample_bytree': 0.8942537807196517, 'max_depth': 9, 'min_child_weight': 10, 'eta': 6.328456692562283e-05, 'gamma': 0.0032646164162880007, 'grow_policy': 'depthwise', 'sample_type': 'weighted', 'normalize_type': 'forest', 'rate_drop': 2.604054697471203e-06, 'skip_drop': 2.1254117350191065e-08}. Best is trial 41 with value: 0.8941400815826083.\n",
      "[I 2025-04-12 01:39:56,162] Trial 96 finished with value: 0.890995260663507 and parameters: {'booster': 'dart', 'lambda': 0.0001437532251433361, 'alpha': 1.105244041554508e-07, 'subsample': 0.5767208578262499, 'colsample_bytree': 0.8638444320168989, 'max_depth': 9, 'min_child_weight': 9, 'eta': 0.0001633355022240871, 'gamma': 0.005146587457582873, 'grow_policy': 'depthwise', 'sample_type': 'weighted', 'normalize_type': 'tree', 'rate_drop': 9.518409374176346e-07, 'skip_drop': 1.9527087013773184e-08}. Best is trial 41 with value: 0.8941400815826083.\n",
      "[I 2025-04-12 01:40:05,830] Trial 97 finished with value: 0.8899636886656764 and parameters: {'booster': 'dart', 'lambda': 0.00013246089528502674, 'alpha': 1.1102626315969167e-07, 'subsample': 0.5914956943661027, 'colsample_bytree': 0.873122440549144, 'max_depth': 9, 'min_child_weight': 9, 'eta': 0.00011909349188414097, 'gamma': 0.005534486358128178, 'grow_policy': 'depthwise', 'sample_type': 'weighted', 'normalize_type': 'tree', 'rate_drop': 5.256384537211717e-07, 'skip_drop': 1.0305869605899536e-08}. Best is trial 41 with value: 0.8941400815826083.\n",
      "[I 2025-04-12 01:40:15,353] Trial 98 finished with value: 0.8906180000471577 and parameters: {'booster': 'dart', 'lambda': 4.604901383160784e-05, 'alpha': 3.559451529100845e-08, 'subsample': 0.5695436996784365, 'colsample_bytree': 0.9249637646032355, 'max_depth': 9, 'min_child_weight': 9, 'eta': 0.00014623176522997295, 'gamma': 0.002158588751015181, 'grow_policy': 'depthwise', 'sample_type': 'weighted', 'normalize_type': 'forest', 'rate_drop': 2.7367219540722983e-06, 'skip_drop': 2.1244801747416978e-08}. Best is trial 41 with value: 0.8941400815826083.\n",
      "[I 2025-04-12 01:40:26,960] Trial 99 finished with value: 0.8894007450897174 and parameters: {'booster': 'dart', 'lambda': 1.835202116011395e-05, 'alpha': 1.16271087783455e-08, 'subsample': 0.6561662979717139, 'colsample_bytree': 0.8702138752910935, 'max_depth': 9, 'min_child_weight': 9, 'eta': 2.6861818708201462e-05, 'gamma': 0.01633269439097493, 'grow_policy': 'depthwise', 'sample_type': 'weighted', 'normalize_type': 'tree', 'rate_drop': 3.864511233516343e-07, 'skip_drop': 1.625944437232502e-08}. Best is trial 41 with value: 0.8941400815826083.\n"
     ]
    }
   ],
   "source": [
    "study = optuna.create_study(study_name=\"xgb\", direction=\"maximize\", sampler=sampler)\n",
    "study.optimize(objective, n_trials=100)"
   ]
  },
  {
   "cell_type": "code",
   "execution_count": 52,
   "id": "c80c7f8a",
   "metadata": {},
   "outputs": [
    {
     "name": "stdout",
     "output_type": "stream",
     "text": [
      "Number of finished trials:  100\n",
      "Best trial:\n",
      "  Value:  0.8941400815826083\n",
      "  Params: \n",
      "    booster: dart\n",
      "    lambda: 0.05364451015501549\n",
      "    alpha: 1.6571110903078424e-07\n",
      "    subsample: 0.5464225314950871\n",
      "    colsample_bytree: 0.9980101216086936\n",
      "    max_depth: 7\n",
      "    min_child_weight: 8\n",
      "    eta: 1.0625385870745005e-05\n",
      "    gamma: 0.0013053462493411903\n",
      "    grow_policy: depthwise\n",
      "    sample_type: weighted\n",
      "    normalize_type: tree\n",
      "    rate_drop: 0.00039244713872364323\n",
      "    skip_drop: 6.520002030728989e-08\n"
     ]
    }
   ],
   "source": [
    "#evaluate the trial\n",
    "print(\"Number of finished trials: \", len(study.trials))\n",
    "print(\"Best trial:\")\n",
    "trial = study.best_trial\n",
    "print(\"  Value: \", trial.value)\n",
    "print(\"  Params: \")\n",
    "for key, value in trial.params.items():\n",
    "    print(\"    {}: {}\".format(key, value))"
   ]
  },
  {
   "cell_type": "code",
   "execution_count": 54,
   "id": "cd47a896",
   "metadata": {},
   "outputs": [],
   "source": [
    "# tuned_params = trial.params\n",
    "tuned_params= {\n",
    "    \"booster\": \"dart\",\n",
    "    \"lambda\": 0.05364451015501549,\n",
    "    \"alpha\": 1.6571110903078424e-07,\n",
    "    \"subsample\": 0.5464225314950871,\n",
    "    \"colsample_bytree\": 0.9980101216086936,\n",
    "    \"max_depth\": 7,\n",
    "    \"min_child_weight\": 8,\n",
    "    \"eta\": 1.0625385870745005e-05,\n",
    "    \"gamma\": 0.0013053462493411903,\n",
    "    \"grow_policy\": \"depthwise\",\n",
    "    \"sample_type\": \"weighted\",\n",
    "    \"normalize_type\": \"tree\",\n",
    "    \"rate_drop\": 0.00039244713872364323,\n",
    "    \"skip_drop\": 6.520002030728989e-08,\n",
    "}"
   ]
  },
  {
   "cell_type": "code",
   "execution_count": 55,
   "id": "ea2491fd",
   "metadata": {},
   "outputs": [],
   "source": [
    "fin_xgb = XGBClassifier(**tuned_params, random_state=STATE, eval_metric=\"auc\",objective='binary:logistic'\n",
    "                              , early_stopping_rounds=100, n_estimators=1000)"
   ]
  },
  {
   "cell_type": "code",
   "execution_count": 56,
   "id": "6277372e",
   "metadata": {},
   "outputs": [
    {
     "name": "stdout",
     "output_type": "stream",
     "text": [
      "              precision    recall  f1-score   support\n",
      "\n",
      "           0       0.90      1.00      0.95      1266\n",
      "           1       0.00      0.00      0.00       134\n",
      "\n",
      "    accuracy                           0.90      1400\n",
      "   macro avg       0.45      0.50      0.47      1400\n",
      "weighted avg       0.82      0.90      0.86      1400\n",
      "\n",
      "Accuracy: 0.9042857142857142\n",
      "ROC AUC: 0.8889615901534978\n"
     ]
    },
    {
     "name": "stderr",
     "output_type": "stream",
     "text": [
      "c:\\Users\\Warge\\AppData\\Local\\Programs\\Python\\Python312\\Lib\\site-packages\\sklearn\\metrics\\_classification.py:1565: UndefinedMetricWarning: Precision is ill-defined and being set to 0.0 in labels with no predicted samples. Use `zero_division` parameter to control this behavior.\n",
      "  _warn_prf(average, modifier, f\"{metric.capitalize()} is\", len(result))\n",
      "c:\\Users\\Warge\\AppData\\Local\\Programs\\Python\\Python312\\Lib\\site-packages\\sklearn\\metrics\\_classification.py:1565: UndefinedMetricWarning: Precision is ill-defined and being set to 0.0 in labels with no predicted samples. Use `zero_division` parameter to control this behavior.\n",
      "  _warn_prf(average, modifier, f\"{metric.capitalize()} is\", len(result))\n",
      "c:\\Users\\Warge\\AppData\\Local\\Programs\\Python\\Python312\\Lib\\site-packages\\sklearn\\metrics\\_classification.py:1565: UndefinedMetricWarning: Precision is ill-defined and being set to 0.0 in labels with no predicted samples. Use `zero_division` parameter to control this behavior.\n",
      "  _warn_prf(average, modifier, f\"{metric.capitalize()} is\", len(result))\n"
     ]
    }
   ],
   "source": [
    "fin_xgb.fit(X_train, y_train, eval_set=[(X_val, y_val)], verbose=False)\n",
    "y_pred = fin_xgb.predict_proba(X_val)[:, 1]\n",
    "y_pred_binary = (y_pred > 0.5).astype(int)\n",
    "print(classification_report(y_val, y_pred_binary))\n",
    "print(f\"Accuracy: {accuracy_score(y_val, y_pred_binary)}\")\n",
    "print(f\"ROC AUC: {roc_auc_score(y_val, y_pred)}\")"
   ]
  },
  {
   "cell_type": "markdown",
   "id": "33dcfd91",
   "metadata": {},
   "source": [
    "## Feature Importance"
   ]
  },
  {
   "cell_type": "code",
   "execution_count": 57,
   "id": "5fa8504d",
   "metadata": {},
   "outputs": [
    {
     "name": "stdout",
     "output_type": "stream",
     "text": [
      "\n",
      "Top 10 Fitur Terpenting:\n",
      "                                 Feature  Importance\n",
      "249           primaryGenreName_Education    0.335907\n",
      "254               primaryGenreName_Games    0.328327\n",
      "331  appDescriptionBrandSafetyRating_low    0.070952\n",
      "1                  isCorporateEmailScore    0.043273\n",
      "250       primaryGenreName_Entertainment    0.033978\n",
      "321           hasTermsOfServiceLink_True    0.029892\n",
      "0                        userRatingCount    0.027101\n",
      "314                deviceType_smartphone    0.022365\n",
      "2                                adSpent    0.021033\n",
      "312                    deviceType_GLOBAL    0.010738\n"
     ]
    }
   ],
   "source": [
    "feature_importance = pd.DataFrame({\n",
    "    'Feature': X.columns,\n",
    "    'Importance': fin_xgb.feature_importances_\n",
    "}).sort_values('Importance', ascending=False)\n",
    "\n",
    "print(\"\\nTop 10 Fitur Terpenting:\")\n",
    "print(feature_importance.head(10))"
   ]
  },
  {
   "cell_type": "markdown",
   "id": "c9af6173",
   "metadata": {},
   "source": [
    "## Shap Analysis"
   ]
  },
  {
   "cell_type": "code",
   "execution_count": 38,
   "id": "88308842",
   "metadata": {},
   "outputs": [
    {
     "name": "stderr",
     "output_type": "stream",
     "text": [
      "c:\\Users\\Warge\\AppData\\Local\\Programs\\Python\\Python312\\Lib\\site-packages\\tqdm\\auto.py:21: TqdmWarning: IProgress not found. Please update jupyter and ipywidgets. See https://ipywidgets.readthedocs.io/en/stable/user_install.html\n",
      "  from .autonotebook import tqdm as notebook_tqdm\n"
     ]
    }
   ],
   "source": [
    "import shap"
   ]
  },
  {
   "cell_type": "code",
   "execution_count": 58,
   "id": "1ac343d7",
   "metadata": {},
   "outputs": [],
   "source": [
    "explainer = shap.Explainer(fin_xgb)\n",
    "shap_values = explainer.shap_values(X_val)"
   ]
  },
  {
   "cell_type": "code",
   "execution_count": 59,
   "id": "ff7c8049",
   "metadata": {},
   "outputs": [],
   "source": [
    "shap_exp = explainer(X_val)"
   ]
  },
  {
   "cell_type": "code",
   "execution_count": 60,
   "id": "5ea852b8",
   "metadata": {},
   "outputs": [
    {
     "data": {
      "image/png": "[encoded data removed]",
      "text/plain": [
       "<Figure size 800x550 with 2 Axes>"
      ]
     },
     "metadata": {},
     "output_type": "display_data"
    }
   ],
   "source": [
    "shap.summary_plot(shap_exp, X_val,max_display=10)"
   ]
  },
  {
   "cell_type": "markdown",
   "id": "d14a65af",
   "metadata": {},
   "source": [
    "# 6. Prediction"
   ]
  },
  {
   "cell_type": "code",
   "execution_count": 61,
   "id": "f0968d52",
   "metadata": {},
   "outputs": [],
   "source": [
    "fin_test = test.copy()\n",
    "fin_test.drop(columns=['ID'], inplace=True)"
   ]
  },
  {
   "cell_type": "code",
   "execution_count": 62,
   "id": "67fab557",
   "metadata": {},
   "outputs": [],
   "source": [
    "for col in num_cols:\n",
    "    if col != 'target':\n",
    "        fin_test[col] = fin_test[col].fillna(fin_test[col].median())\n",
    "fin_test[cat_cols] = fin_test[cat_cols].astype('str')\n",
    "fin_enc = one_coder.transform(fin_test[cat_cols])\n",
    "fin_oh = pd.DataFrame(fin_enc,columns=one_coder.get_feature_names_out(cat_cols))\n",
    "fin_test.drop(cat_cols,axis=1,inplace=True)\n",
    "fin_test = pd.concat([fin_test,fin_oh],axis=1)"
   ]
  },
  {
   "cell_type": "code",
   "execution_count": 63,
   "id": "e8a13e10",
   "metadata": {},
   "outputs": [],
   "source": [
    "preds = fin_xgb.predict_proba(fin_test)[:, 1]\n",
    "submission = pd.DataFrame({\n",
    "    'ID': test['ID'],\n",
    "    'coppaRisk': preds\n",
    "})"
   ]
  },
  {
   "cell_type": "markdown",
   "id": "7f4964d3",
   "metadata": {},
   "source": [
    "# 7. Submission"
   ]
  },
  {
   "cell_type": "code",
   "execution_count": 64,
   "id": "01ba7b3d",
   "metadata": {},
   "outputs": [
    {
     "name": "stdout",
     "output_type": "stream",
     "text": [
      "Submission file created successfully.\n"
     ]
    }
   ],
   "source": [
    "submission.to_csv(os.path.join(OUTPUT_DIR, 'submission3.csv'), index=False)\n",
    "print(\"Submission file created successfully.\")"
   ]
  }
 ],
 "metadata": {
  "kernelspec": {
   "display_name": "Python 3",
   "language": "python",
   "name": "python3"
  },
  "language_info": {
   "codemirror_mode": {
    "name": "ipython",
    "version": 3
   },
   "file_extension": ".py",
   "mimetype": "text/x-python",
   "name": "python",
   "nbconvert_exporter": "python",
   "pygments_lexer": "ipython3",
   "version": "3.12.8"
  }
 },
 "nbformat": 4,
 "nbformat_minor": 5
}
